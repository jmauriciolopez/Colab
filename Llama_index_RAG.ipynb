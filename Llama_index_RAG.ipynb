{
  "cells": [
    {
      "cell_type": "markdown",
      "metadata": {
        "id": "view-in-github",
        "colab_type": "text"
      },
      "source": [
        "<a href=\"https://colab.research.google.com/github/jmauriciolopez/Colab/blob/main/Llama_index_RAG.ipynb\" target=\"_parent\"><img src=\"https://colab.research.google.com/assets/colab-badge.svg\" alt=\"Open In Colab\"/></a>"
      ]
    },
    {
      "cell_type": "code",
      "source": [
        "!pip install -q llama-index==0.9.1 chromadb"
      ],
      "metadata": {
        "id": "vY95Mdo0x34f"
      },
      "execution_count": null,
      "outputs": []
    },
    {
      "cell_type": "code",
      "execution_count": null,
      "metadata": {
        "collapsed": true,
        "id": "42DRxICnxyZ4"
      },
      "outputs": [],
      "source": [
        "from llama_index.llms import OpenAI, Gemini\n",
        "from llama_index import VectorStoreIndex, SimpleDirectoryReader\n",
        "from llama_index.response.notebook_utils import display_response\n",
        "import os\n",
        "from getpass import getpass"
      ]
    },
    {
      "cell_type": "markdown",
      "source": [
        "## Configurando keys"
      ],
      "metadata": {
        "collapsed": false,
        "pycharm": {
          "name": "#%% md\n"
        },
        "id": "Xuvu289AxyZ8"
      }
    },
    {
      "cell_type": "code",
      "execution_count": null,
      "outputs": [
        {
          "name": "stdout",
          "output_type": "stream",
          "text": [
            "Enter the secret value for Google Key: ··········\n"
          ]
        }
      ],
      "source": [
        "GOOGLE_API_KEY = getpass('Enter the secret value for Google Key: ')\n",
        "os.environ[\"GOOGLE_API_KEY\"] = GOOGLE_API_KEY"
      ],
      "metadata": {
        "pycharm": {
          "name": "#%%\n"
        },
        "colab": {
          "base_uri": "https://localhost:8080/"
        },
        "id": "LFdytaa0xyZ9",
        "outputId": "49d15dbf-7fda-4ce5-ebb8-33637b741ef5"
      }
    },
    {
      "cell_type": "code",
      "execution_count": null,
      "outputs": [
        {
          "name": "stdout",
          "output_type": "stream",
          "text": [
            "Enter the secret value for OpenAI Key: ··········\n"
          ]
        }
      ],
      "source": [
        "OPENAI_API_KEY = getpass('Enter the secret value for OpenAI Key: ')\n",
        "os.environ[\"OPENAI_API_KEY\"] = OPENAI_API_KEY"
      ],
      "metadata": {
        "pycharm": {
          "name": "#%%\n"
        },
        "colab": {
          "base_uri": "https://localhost:8080/"
        },
        "id": "pOk9GQXlxyZ-",
        "outputId": "380d648d-33bf-4bcc-dc73-a4ff0245725d"
      }
    },
    {
      "cell_type": "code",
      "execution_count": null,
      "outputs": [
        {
          "output_type": "stream",
          "name": "stdout",
          "text": [
            "Leo es un león en la película.\n"
          ]
        }
      ],
      "source": [
        "resp = OpenAI().complete('Que tipo de animal es Leo en la pelicula?')\n",
        "print(resp)"
      ],
      "metadata": {
        "pycharm": {
          "name": "#%%\n"
        },
        "colab": {
          "base_uri": "https://localhost:8080/"
        },
        "id": "VZoll9eOxyZ-",
        "outputId": "f8517798-1b7e-4438-8339-8af035c5feb2"
      }
    },
    {
      "cell_type": "code",
      "source": [
        "resp = Gemini().complete('Que tipo de animal es Leo en la pelicula?')\n",
        "print(resp)"
      ],
      "metadata": {
        "pycharm": {
          "name": "#%%\n"
        },
        "colab": {
          "base_uri": "https://localhost:8080/",
          "height": 35
        },
        "id": "Rvb5TxGOxyZ_",
        "outputId": "79e58777-27ec-4907-aea0-6e5526c03e54"
      },
      "execution_count": null,
      "outputs": [
        {
          "output_type": "stream",
          "name": "stdout",
          "text": [
            "Leo no es un animal en la película. Leo es un personaje humano interpretado por Leonardo DiCaprio.\n"
          ]
        }
      ]
    },
    {
      "cell_type": "markdown",
      "source": [
        "## RAG con Llama index"
      ],
      "metadata": {
        "collapsed": false,
        "pycharm": {
          "name": "#%% md\n"
        },
        "id": "r8-C-UOexyaA"
      }
    },
    {
      "cell_type": "code",
      "execution_count": null,
      "outputs": [],
      "source": [
        "### Cargando documentos\n",
        "documents = SimpleDirectoryReader('src').load_data()"
      ],
      "metadata": {
        "pycharm": {
          "name": "#%%\n"
        },
        "id": "o9GbuSrfxyaA"
      }
    },
    {
      "cell_type": "code",
      "execution_count": null,
      "outputs": [
        {
          "output_type": "execute_result",
          "data": {
            "text/plain": [
              "[Document(id_='25eaf008-b424-459f-918f-0d9b234ae31b', embedding=None, metadata={'file_path': 'src/Leo.txt', 'file_name': 'Leo.txt', 'file_type': 'text/plain', 'file_size': 76949, 'creation_date': '2024-01-11', 'last_modified_date': '2024-01-11', 'last_accessed_date': '2024-01-11'}, excluded_embed_metadata_keys=['file_name', 'file_type', 'file_size', 'creation_date', 'last_modified_date', 'last_accessed_date'], excluded_llm_metadata_keys=['file_name', 'file_type', 'file_size', 'creation_date', 'last_modified_date', 'last_accessed_date'], relationships={}, hash='26bac1d8ef1e3b0478febabfed94cc29823da9781035cc7e0625c1dadd9992ed', text=\"[male 1] Hey. You know the 5th grade starts tomorrow again.\\n\\n[male 2] What?! Does that mean we have to get up at 8:00?\\n\\n[male 1] Oh, calm down.\\n\\nYou slept 95% of the summer.\\n\\n[male 2] Yeah.\\n\\n[high-spirited song plays]\\n\\n♪ Last year of elementary school Last year of bein’ a kid ♪\\n\\n♪ Being on top ♪\\n\\n♪ I’m gonna go out swingin’ ♪\\n\\n♪ Toy soldiers Dippin’ Dots, fun-size bars ♪\\n\\n♪ Slip ‘N slides Fart noises, chicken stars ♪\\n\\n♪ Until they tell me to stop ♪\\n\\n♪ Last year of elementary school Biggest kid on campus ♪\\n\\n♪ I got it made ♪\\n\\n♪ Sit down, son! I own all you dorks ♪\\n\\n♪ I’m so stoked I was held back in third grade ♪\\n\\n♪ Okay, okay So we will not invite Cara ♪\\n\\n♪ Oh my God, I hate her ♪\\n\\n♪ Sabrina’s kind of cool ♪\\n\\n♪ We do not do 4th graders ♪\\n\\n♪ So we make a list of friends? ♪\\n\\n♪ Yes, with no weirdos on it ♪\\n\\nWhat about Summer?\\n\\nYeah, she’s nice.\\n\\nUh, vomit.\\n\\nSummer, where’s Mommy?\\n\\nI’ll put you to bed tonight, Kayla.\\n\\nWe’re getting older. Mom’ll be gone someday.\\n\\nIt’s 5th grade. Time to be a grown-up.\\n\\nWhere did she…\\n\\nI won’t drink coffee or like boys.\\n\\nI’ll fill my own water bottle, get bangs.\\n\\nIs she still gonna…\\n\\nEveryone got bangs, but my forehead’s getting bigger.\\n\\nI don’t wanna look like a parade float or an alien and be the talk…\\n\\n[beeping]\\n\\n♪ Five more minutes ♪\\n\\n♪ Cole, this year You have to get up on your own ♪\\n\\n♪ Five more minutes ♪\\n\\n♪ Okay, five more minutes ♪\\n\\n[smart speaker] Way to be strong, Dad.\\n\\n♪ Lessening ♪\\n\\n♪ They say my nut allergies Are lessening ♪\\n\\n[drone humming]\\n\\n♪ Once the immune boosters kick in I can try the kung pao chicken ♪\\n\\n♪ Welcome, 5th graders Go right through this door ♪\\n\\n♪ ‘Cause this year, your homerooms Are on the second floor ♪\\n\\nThe big time!\\n\\n[kindergartners chattering]\\n\\n♪ Please don’t step on The kindergartners ♪\\n\\n[singing ends]\\n\\n[kids chattering]\\n\\n[kindergartner babbling, thuds]\\n\\n[continues babbling]\\n\\n[girl 1] Going to Westlake next year?\\n\\n[girl 2] My cousin said there’s a kid who smokes there.\\n\\n[male 2] You see anything?\\n\\n[male 1] No. A lot of yappin’. Come on.\\n\\n[male 2] Ah, there we go.\\n\\nAll right.\\n\\nAnother year, another batch of 5th grade head cases.\\n\\nKabir, Anthony, welcome.\\n\\nYou from New York, new guy? Patriots suck!\\n\\nThat’s New England.\\n\\nI think your shirt’s on backwards.\\n\\nCome on!\\n\\nLook at this. Bunch of motormouths.\\n\\nYep. Same old, same old.\\n\\nI saw Cara in a sweater from Gymboree.\\n\\nThere’s the snotty clique.\\n\\nTween Queens.\\n\\nThe Facade Squad.\\n\\nPeaking at 11.\\n\\nThe “sick and should’ve stayed home” kid.\\n\\nAlways one.\\n\\n[turtle] There’s the class clown who secretly despises himself.\\n\\nThat’s hysterical, Cole!\\n\\nThanks, Cole!\\n\\nJeez, how many Coles this year?\\n\\nReminds me of the Justin avalanche of 1991.\\n\\nGod forbid we ever see a Richie again.\\n\\nBro, no way, are you taller than me now?\\n\\nThe inevitable Cheez Doodle kid.\\n\\n[turtle] No, those look like Dorito fingers.\\n\\nWe just moved from the Bronx.\\n\\nYou’re new? Wow.\\n\\nThat’s hard. Never had to leave friends, except when we went to Myrtle Beach.\\n\\nOn the flight home, the old lady next to me had arthritis.\\n\\nI opened her mustard packet.\\n\\n[both] First child.\\n\\nNo filter.\\n\\nNever heard the word “enough.”\\n\\nOkay, guys. Are you excited?\\n\\nMost of you have been going to this school for five years.\\n\\nSome of you, seven. And now you’re the big kids.\\n\\nI hope everyone’s met our class pets, Leonardo and Squirtle.\\n\\nI’m not touching those things.\\n\\nDon’t they eat, sleep and poo in the same place?\\n\\nHey! I poo where he sleeps.\\n\\nNow what if I told you there’s a big reward at the end of this year if you do well in class?\\n\\n[kids gasp]\\n\\nThe Academicathalon thing?\\n\\nLook at her work these kids. Salinas, what a pro.\\n\\nBest since Ms. Bielecky in the ’60s.\\n\\nAnd what if I told you this year’s winning class gets a field trip to somewhere special for a whole day?\\n\\n[kids cheer softly]\\n\\n[kid 1] Yeah!\\n\\n[kid 2] Wow!\\n\\nSalinas havin’ a baby?\\n\\nThe belly’s poppin’ a little.\\n\\nOh, Zane, I’m afraid you can’t bring snacks into the class.\\n\\nI’ll hold those, just for now.\\n\\nCheetos. Wow, didn’t see that coming.\\n\\n[munching] At the end of the year, our three 5th grade classes compete in art, debating, science, and history.\\n\\nAnd if our class wins, we get a trip to Magic Land Park!\\n\\n[kids gasp]\\n\\nDon’t they have the Dragon Coaster? I heard it caught fire once!\\n\\nYeah, it was banned in Europe.\\n\\nYes, but not in Florida.\\n\\n[kids chatter and giggle]\\n\\nYep, havin’ a baby.\\n\\nOkay. Let’s see how much you guys already know.\\n\\nWho knows what you call it when a plant…\\n\\n[munching] …converts light to food?\\n\\nThe conversion’s photosynthesis…\\n\\n[both] Photosynthesis.\\n\\n[Mia] …turning H2O and CO2 into glucose.\\n\\n[both] Into glucose.\\n\\nAh.\\n\\n[Mrs. Salinas] Excellent job, Mia.\\n\\nOh. So… [clears throat]\\n\\nOh, boy. Divorced parents.\\n\\nOkay, honey. Thank you.\\n\\nYou’re okay. So sweet.\\n\\n[stick squeaking]\\n\\nOkay.\\n\\nLet’s look at some of the books we’re gonna read in class this year.\\n\\nWho’s heard of Charlotte’s Web?\\n\\nOh no. The kids always cry at the end.\\n\\nLike kids don’t cry enough? We gotta trigger the garden hoses?\\n\\nCrying’s for weaklings.\\n\\nRight.\\n\\nWe’ll meet Fern and her pig, Wilbur.\\n\\nIt’s a stupid book anyway.\\n\\nRight. Animals never talk to people.\\n\\nPlus, no one gets to eat Charlotte.\\n\\nYou just have to hear about this delicious spider for days\\n\\nand get hungry thinkin’ about it.\\n\\n…like you’ll learn this year.\\n\\n[boys laughing]\\n\\nSorry, Cole? Is there something you wanna share?\\n\\n[laughing]\\n\\n[kids gasp, chatter]\\n\\n[kid 1] That’s so gross!\\n\\n[kid 2] I can’t believe you did that!\\n\\n[retching, vomiting]\\n\\nSorry, guys.\\n\\n[sniffs] Man, that smells good.\\n\\nSend some of that our way next time. Gettin’ sick of the lettuce.\\n\\n[upbeat music playing]\\n\\nHi, Mrs. Salinas!\\n\\n[indistinct chattering]\\n\\nHi, I’m Cole Wiseki’s mom.\\n\\nOh, hi.\\n\\nCan I… Real quick? For Facebook?\\n\\nThanks.\\n\\n[shutter clicks]\\n\\nCole is a very…\\n\\nThat’s gonna look great. Thank you.\\n\\nSince when do people wanna look like ducks?\\n\\n[man] Isn’t that something, how they’ve grown?\\n\\nAnd in 5th grade, you’ll find your kids wanting to make their own choices.\\n\\nEmbrace it. Let them make their own mistakes.\\n\\nHow long does this go?\\n\\n[man] Not terribly long, Dr. Wenger.\\n\\nNow, some of you may have heard about Mrs. Salinas’, uh, incident in class.\\n\\nI want to confirm it has nothing to do with anything she ate in the cafeteria.\\n\\nShe’s just gonna be taking some time off. A leave, let’s say.\\n\\nWait. For how long?\\n\\nHere comes the bomb.\\n\\nFor, uh… Till she has the baby, let’s say.\\n\\n[all gasp] What?!\\n\\n[Anthony’s mom] Having a baby?\\n\\nAre you sure? Did she get a second opinion?\\n\\nAre you kidding me? This is what happened in 3rd grade!\\n\\nThe substitute was awful!\\n\\nI’m texting my daughter right now! She’ll be devastated!\\n\\n[phone beeps, chimes]\\n\\n[girl 1 reads silently]\\n\\n[girl 2 reads silently]\\n\\n[Mia reads silently]\\n\\n[girl 3 reads silently]\\n\\n[boy reads silently]\\n\\n[Anthony reads silently]\\n\\n[drone reads silently]\\n\\n[Cole H. reads silently]\\n\\n[Cole W. reads silently]\\n\\n[Kabir reads silently]\\n\\n[Summer reads silently]\\n\\n[Summer continues]\\n\\n[drone reads silently]\\n\\n[indistinct chattering]\\n\\nYou can’t just say that!\\n\\nLook at these lazy class pets. Do they even move?\\n\\nI’d like that job.\\n\\nThat lizard looks pretty old.\\n\\nDo I look old?\\n\\nMm-mm.\\n\\nThank you.\\n\\nIt’s a Tuatara. They live a long time. Till about 75.\\n\\nHmm. Never knew that. Suck on that, hamsters.\\n\\nWow. Looks like he’s gettin’ close to that.\\n\\n[mom 1] Bye. Nice seeing you.\\n\\nAh, he’s nuts.\\n\\n[door shuts]\\n\\n\\n\\nI mean, you’re old, cranky, lazy, but no way does that make you 75.\\n\\n[Squirtle’s voice echoing] Seventy-five. Seventy-five. Seventy-five.\\n\\n[pencil tapping and scraping]\\n\\n[keyboard clacking]\\n\\n[page turning]\\n\\n[Neil Armstrong, on TV] Underneath it says,\\n\\n“Here men from the planet Earth first set foot upon the Moon.”\\n\\n[grunts]\\n\\n[Neil Armstrong] We came in peace…\\n\\n[babbling]\\n\\n1949.\\n\\nWhat about it?\\n\\nI was born around then.\\n\\nHow many years has it been since 1949?\\n\\nNo idea. That’s addition.\\n\\nThey learn that in 2nd grade. We’re all about fractions.\\n\\nGreat. Why can’t they move us around a little, so we can know more?\\n\\n[kindergartner babbles]\\n\\n[thuds, babbles again]\\n\\n[thuds, continues babbling]\\n\\nOkay, four sixteenths equals how many fourths?\\n\\n[kids chattering and laughing]\\n\\nShe’s leaving. They don’t hear a word.\\n\\n1966, 1967…\\n\\nWhat’re you doin’?\\n\\nTrying to count how many years old I am.\\n\\n1968, 1969, 1970…\\n\\nI’m out of toes and fingers. What else can I count with?\\n\\nI’d tell you, but there’s kids around.\\n\\n[humorous music plays]\\n\\nI was talkin’ about his tail.\\n\\nAddition… I… I gotta talk to some 2nd grade pets.\\n\\nForget it. We only see those pets at fire drills.\\n\\nThey don’t happen until November.\\n\\n[alarm buzzing]\\n\\n[spits] What the…\\n\\n[all] Huh? What?\\n\\nIs this a fire drill?\\n\\nIt’s probably nothing, but let’s go. Anthony, why don’t you grab the pets?\\n\\n[Anthony screaming]\\n\\nEveryone evacuate! Stop, drop and roll!\\n\\n[reptiles grunting]\\n\\n[screaming] I think I’m on fire!\\n\\n[screaming]\\n\\n[kindergartners giggling]\\n\\nJeez, we just redecorated!\\n\\nSomeday, cops are gonna carry that kid off a plane. Huh?\\n\\nI’ll park ya right over here, fellas.\\n\\nAll right, here we go.\\n\\nHey, guys, how was your summer? Do anything fun?\\n\\nSleep.\\n\\nSleep.\\n\\nEat.\\n\\nLot of poopin’.\\n\\nTerrific. Say, who’s 2nd grade again?\\n\\nThat’s me. How ya doin’, Lizzy?\\n\\nGreat.\\n\\nI’m actually Leonardo. Lizzy’s the iguana in Mr. Marculia’s homeroom. You’re…\\n\\nI’m Cinnabun. I know. So corny. Just got renamed again.\\n\\nOh. Well, beats “Thumper.”\\n\\nI guess. What’s bad are the Hare ones. Hare Brain, Hare Piece, Hare-y Potter…\\n\\nRight, right. Hey, the 2nd graders, you guys do addition, right?\\n\\n…Hare Lip, Hare Club For Men.\\n\\n[cage clangs]\\n\\nYes, and subtraction. We do both.\\n\\nGreat, okay, look. If I got here in 1949, and it’s 2023, what does that make me?\\n\\nOh. Uh, I know this one. A reptile.\\n\\nShmuck.\\n\\n[school bell rings]\\n\\n[kindergartners chattering]\\n\\nOkay, it was a false alarm.\\n\\nThe school is not on fire.\\n\\n[5th-graders groan]\\n\\n[kindergartners chattering chaotically]\\n\\nNo, how old would I be?\\n\\nNo. Right, subtraction. Okay, um, dip, dip, dip, dip, dip, 74.\\n\\nSeventy-four. Isn’t that right before…\\n\\n[Mrs. Salinas] Upsy-daisies.\\n\\n[Leonardo] Wait, wait! Hold on!\\n\\nThat’s the number before 75, isn’t it?\\n\\nWhat’s the matter? You look upset.\\n\\n[kindergartners chattering chaotically]\\n\\n[extinguisher hisses]\\n\\n[shouts] Cinnabun!\\n\\n[dramatic music plays, ends]\\n\\n[kids chattering]\\n\\nSettle down.\\n\\n[mockingly] I’m a lizard. Ooh.\\n\\nThat’s good. Don’t dignify it.\\n\\nDoesn’t matter. I’m doomed.\\n\\nI’m 74 seventy-fifths dead.\\n\\nWhat? That’s not for class pets.\\n\\nWhen you’re in captivity, 75 is the new 70.\\n\\nAnd, hey, you wanna live so bad, a little exercise wouldn’t kill ya.\\n\\nLike what?\\n\\nBlinking’s good. That’d be a start.\\n\\nI blink.\\n\\n[scoffs] Barely.\\n\\nFine.\\n\\n[grunting]\\n\\n[sighs in exhaustion]\\n\\nOkay. You didn’t have to dive right in.\\n\\nWho am I kiddin’?\\n\\nI can’t start this rigorous workin’ out at this point in my life.\\n\\nIt’s too late. I blew it.\\n\\nI wasted my life!\\n\\nAnd now, it’s almost over.\\n\\n♪ When a man has to face ♪\\n\\n♪ That he’s about to die ♪\\n\\n♪ He thinks of all the things He’d never done ♪\\n\\n[exhales]\\n\\n♪ I never ate a snail ♪\\n\\n♪ Never got to hunt a fly ♪\\n\\n♪ Just had them fed to me by everyone ♪\\n\\n♪ Never ate algae straight from the sea ♪\\n\\n♪ Never got nothin’ but lettuce Always lands in Squirtle’s pee ♪\\n\\n♪ I never stole a bird’s eggs ♪\\n\\n[violin plays]\\n\\n♪ Never chased a squirrel ♪\\n\\n♪ Never got to show my slick moves ♪\\n\\n♪ To a girl ♪\\n\\n[breathing heavily]\\n\\n[door creaks open]\\n\\n[pouch toots]\\n\\n[door creaking]\\n\\n[pouch toots]\\n\\n[door continues creaking]\\n\\n[stops]\\n\\n[heels clacking]\\n\\n[objects clatter]\\n\\n[vase breaks]\\n\\n[heels clacking]\\n\\n[clattering]\\n\\n[blows] Go about your business.\\n\\nEveryone, meet your new teacher.\\n\\n[gasps] This is our substitute?\\n\\nYou have to leave? So soon?\\n\\nWell, my doctor thinks I need to rest through my pregnancy.\\n\\nSo until I’m back, you’ll have Ms. Malkin.\\n\\nIt’s not brain surgery, gang.\\n\\n[compass clicks]\\n\\nGuys, you don’t have to be afraid of change.\\n\\nChange is a beautiful part of life.\\n\\n♪ There’s a time for trees ♪\\n\\n♪ To lose their leaves ♪\\n\\n♪ And a time those leaves return ♪\\n\\nOh, I don’t sing.\\n\\nOh, okay.\\n\\nHow about we continue with the class. I’m gonna teach with Ms. Malkin today…\\n\\nPlease don’t leave us, Mrs. Salinas!\\n\\nOh.\\n\\nAgh! Down! Now! Down!\\n\\n[spray hissing]\\n\\nNo hug! Sit!\\n\\nIn class, we sit up straight, pay attention, and we are what? You!\\n\\nWhat? Oh, my God. Um, we’re quiet?\\n\\nThat’s very good listening, Logan. That’s a heart for you.\\n\\n[joyous music plays]\\n\\nThe hearts are for when the kids listen. To motivate good…\\n\\n[vacuum clicking, suctioning]\\n\\nListening is not a favor.\\n\\nWhen you listen, you get knowledge, not a carnival prize.\\n\\nWe have a chance to go to Magic…\\n\\n[suctioning]\\n\\nEw. What was that?\\n\\nPeanut butter and ham. My dad overslept.\\n\\n[retches, vomits]\\n\\n[suctions, stops]\\n\\nOkay, well, we’re out of time, so let’s wish Mrs. Salinas well. Bye-bye.\\n\\nBut, I… The class is…\\n\\nNo, no. I know. Out we go.\\n\\nBetter luck with your own kid.\\n\\nOkay, guys, see you in…\\n\\n[tense music plays]\\n\\n[suctions]\\n\\nMoving on. It’s Friday. That means one student has to take home a class pet.\\n\\nWhat’s this now?\\n\\nUh, we don’t do that here.\\n\\nNot anymore. No way.\\n\\nIn my classroom, you will learn responsibility.\\n\\nYou will feed it properly and return it in healthy condition.\\n\\nAlive.\\n\\nDo we have a volunteer?\\n\\nCome on. Somebody raise your hand.\\n\\nWhat?\\n\\nRemember what happens at the kids’ houses? They forget to feed you or abuse you.\\n\\n[chaotic music playing]\\n\\n[banging]\\n\\n[yelps]\\n\\n[slices]\\n\\nIt’ll grow back.\\n\\n[screams]\\n\\n[screams, grunts]\\n\\n[kids laughing]\\n\\n[tattoo needle hums]\\n\\n[Squirtle screams]\\n\\nYeesh.\\n\\nHey, it looked cool in the ’90s.\\n\\nI’m waiting. Volunteer, please.\\n\\nDon’t you get it? This is my shot.\\n\\nSo I go with one of these kids, case the house for open windows, then when I’m alone, zip! I escape.\\n\\nHa. You couldn’t zip when you were 20.\\n\\nI’m zipping. And then I really live.\\n\\nMaybe climb a tree. Swim in a sewer. See the Everglades.\\n\\nThe Everglades? With those untamed animals? Are you nuts?\\n\\nYou know they don’t even have names, right? It’s anarchy.\\n\\nYou think a rock potato like you can survive there?\\n\\nYour last days will be in a beer can.\\n\\n[Ms. Malkin] Let’s go.\\n\\nWho’s gonna take on some responsibility?\\n\\nOr do I have to pick?\\n\\nWell, if no one else will…\\n\\nI don’t want them to feel not wanted. Everybody wants to fit in and shouldn’t be judged on looks, species, foreheads.\\n\\nI have to go indoor skydiving tomorrow, but my father’ll be home, so if it’s okay to…\\n\\nPick one!\\n\\nOkay, the lizard!\\n\\n[exhales loudly, sighs]\\n\\n[kisses]\\n\\n[school bell rings]\\n\\n[gentle violin music playing]\\n\\nListen, when you’re out there in the wild and those animals come after you, remember to change your colors and blend in!\\n\\nThat’s chameleons. I’m not a chameleon.\\n\\nOh, well, then you’re a dead man.\\n\\n[amusing music playing]\\n\\n[Summer] Tomorrow’s indoor skydiving. We have to get ready.\\n\\nIt’s exactly like skydiving, except you can’t get hurt.\\n\\nOkay, we have a busy weekend.\\n\\nDo I have to wear a dress to Grandma’s? It’ll be pants weather on Sunday.\\n\\nJayda said the word “puke”. She said it wasn’t a curse word. Is it?\\n\\nI feel bad leaving him. Nobody wants him near the dinner table.\\n\\nHe’s good with his water. Back soon!\\n\\nKayla, don’t look scared of him. That’s being mean.\\n\\n[dog panting]\\n\\n[heavenly music plays]\\n\\n[gasps in awe]\\n\\nIt’s on.\\n\\n[inhales sharply]\\n\\n[stretching groans]\\n\\n[joints crack]\\n\\n[groaning continues]\\n\\n[joints cracking]\\n\\n[grunting]\\n\\n[shouts, thuds]\\n\\n[jazzy adventurous music playing]\\n\\nYeah.\\n\\nHe’s nice, the new kid Kabir, but he doesn’t talk a lot, at least not with me. Maybe he’s shy since…\\n\\n[jazzy adventurous music continues]\\n\\nThen I burned my tongue. It didn’t, like, burn off completely, or I couldn’t tell you how I ate my mozzarella sticks.\\n\\n[jazzy adventurous music continues]\\n\\n[panting]\\n\\n[music crescendos, ends]\\n\\n[sighs]\\n\\n[yelps]\\n\\n[grunts]\\n\\n[door opens]\\n\\nHey, Leonardo. You missed a great movie. Tomorrow I’ll take you down for breakfast.\\n\\nI hope they have everything bagels left. I don’t know why we get sesame bagels.\\n\\nMom asked me to try one, I was like, “Why would you take off the poppy seeds and the salt…”\\n\\nWait, where are you?\\n\\nThis is a nightmare! I’ll be the kid who killed the lizard, no matter what I do in my life.\\n\\nWhether I do drama, be a doctor… I’ll never be a doctor now.\\n\\nI could work at the DMV. Hopefully, the one next to Quiznos.\\n\\nI don’t wanna go far from my parents.\\n\\n[whimpers, grunts]\\n\\nMother of Godzilla!\\n\\nWhat was that?\\n\\nWell? Who said that?\\n\\nThe wall? Walls don’t talk. Why would a wall say anything?\\n\\nWhy point to it? They say, “If these walls could talk,” because they can’t talk…\\n\\nThe trophy!\\n\\n[screams]\\n\\nYou said something! You just spoke! Mom!\\n\\nNo!\\n\\nYou talked!\\n\\nYou’re talking!\\n\\nI’m telling Mom, or people will think I’m crazy.\\n\\nI’ll have to go to that school in Tampa for kids with issues! I…\\n\\n[shouting] But please, people can’t know!\\n\\nWhy are your hands wet?\\n\\nThey’re naturally moist.\\n\\nPlease, I’m begging you to keep quiet.\\n\\nIf people know I talk, they’ll send me to a scientist or something.\\n\\nBut I have to tell someone.\\n\\nPlease.\\n\\n[softly] You’re the only one who can hear me.\\n\\nOh. Then why are you whispering?\\n\\n[softly] Because you were, and it sounded fun.\\n\\n[mimics whispering sounds]\\n\\nDo all lizards talk?\\n\\nI don’t know. I never met them all, but we never talk to humans.\\n\\nWhy are you talking to me?\\n\\nWell, I didn’t… [spluttering]\\n\\nBecause I want to. I think you’re nice.\\n\\nReally? Thanks.\\n\\nI don’t know if people think I’m nice. It’s so hard to read people at school.\\n\\nPeople say you’re nice to be nice, and if they say you’re nice, you’ll think they’re cool…\\n\\nI get it.\\n\\nYou say “I get it” a lot.\\n\\nThat’s ’cause I understand things. That’s all. “I get it.” I’ve been around.\\n\\nOkay. I thought it was something else.\\n\\nLike what?\\n\\nThat you want me to stop talking.\\n\\nOh. Wow.\\n\\nReally? Like, “Wow, that’s crazy”?\\n\\nNo, more like, “Wow, I didn’t think you were that self-aware.”\\n\\n[exhales] I can tell. People are too nice to say I talk too much, but I can tell from their faces that I’m talking too much.\\n\\nLike, old people make this face. And babies kind of look sleepy.\\n\\nAnd the bus driver’s face is like, “Stop.” But I can’t stop and I…\\n\\nSorry, I’m listening. Please, go ahead.\\n\\n♪ I always just come out And say whatever’s on my mind ♪\\n\\n♪ People look okay with it But maybe they’re resigned ♪\\n\\n♪ I can’t help saying more They smile like they’re enjoying ♪\\n\\n♪ You’ve no idea How stressful it is to not know ♪\\n\\n♪ When my talking gets annoying ♪\\n\\nI’ve seen a lot of kids who talk a lot. They seem…\\n\\n♪ I just continue talking And it feels like things are fine ♪\\n\\n♪ Then I relax until I see that look I take it as a sign ♪\\n\\n♪ They’re mad I’m still talking Or I’m loud or a bore ♪\\n\\n♪ So I worry that I’ve lost them I’m scared, so I start talking even more ♪\\n\\nRight. This is normal. A bunch of kids…\\n\\n♪ I feel like I lack the ability to tell ♪\\n\\n♪ When I’m not giving someone A chance to speak ♪\\n\\n♪ And because of that, I get scared ♪\\n\\n♪ Then believe that I am Not giving anyone else a chance to speak ♪\\n\\n[shouts] I said, “I get it!”\\n\\nI know I said “I get it” again. I’m sorry.\\n\\nIt’s just that last one wasn’t even a rhyme, it was a repeat.\\n\\n[splutters]\\n\\n[moans]\\n\\n♪ So, like You’re comfortable in sharing ♪\\n\\n♪ ‘Cause your parents let you prattle ♪\\n\\nThey don’t really like…\\n\\n♪ But you shouldn’t feel self-conscious Like you’re in a losing battle ♪\\n\\nOkay, but then how am I gonna…\\n\\n♪ Maybe try to ask a question ♪\\n\\nAsk a question?\\n\\n♪ It’s exhausting Like a blink ♪\\n\\n♪ But the kids who are most popular ♪\\n\\n♪ Are the kids who want to know What other kids think ♪\\n\\nWow. It’s not like I don’t care about the other kids…\\n\\nI know. It’s great you’re good at talking about yourself.\\n\\nWhen people share stuff, they feel better.\\n\\nSo if you get other kids talking about themselves, they’ll like being with you. More than they do already, I mean.\\n\\nFive-second rule. [gulps]\\n\\nWell, that was really nice. Thank you.\\n\\nOh, yeah. Glad to do it.\\n\\nHey, remember, you can’t tell anyone, ever.\\n\\nOr we won’t be able to talk again.\\n\\nOkay. So I’m your special, secret friend? That was a question.\\n\\nUh, yeah. Sure. And good question.\\n\\nThanks, Leonardo.\\n\\nCall me Leo. Less Ninja Turtley.\\n\\nSummer. You need to get to bed, sweetie.\\n\\nMom, what’s the square root of 91?\\n\\nWhat? Please just get to bed.\\n\\nI don’t mean just any question.\\n\\nOkay. Right. Got it.\\n\\n[desk scraping and screeching]\\n\\n[Ms. Malkin] Find your new seats.\\n\\n[spray hissing]\\n\\n[mellow music plays]\\n\\n\\n\\n[Squirtle scratching]\\n\\n[sarcastically] Oh, back already? You saw the whole world in one weekend?\\n\\nWow. Hey, how were the Everglades? How high was the Eiffel Tower?\\n\\nWhat was the Pope like? [scratches]\\n\\nCould you not do that on my pillow?\\n\\nPut those computers away. We will not be studying our curriculum on toys.\\n\\n[tense music playing]\\n\\n[falling whistle]\\n\\n[crashes]\\n\\n[falling whistle]\\n\\n[crashes]\\n\\n[falling whistle]\\n\\n[crashes]\\n\\n[crashing]\\n\\n[both panting]\\n\\nRussian judge.\\n\\n[ringing]\\n\\n[indistinct chattering]\\n\\n[teacher] Slow down. No running.\\n\\n[air horn blares]\\n\\nNo eating the books!\\n\\nOh, Coach Kimura. [chuckles]\\n\\nOh, I apologize. Let me… Let me clean that for you.\\n\\n[vacuum humming]\\n\\n[giggles]\\n\\nThere we go. [chuckles]\\n\\nThis is so unfair. Ugh! She’ll work us till we have no energy.\\n\\nThen we’ll only get into schools with drug problems.\\n\\nForget about winning the trip. This is a nightmare.\\n\\nIt’s worse than when I lost my phone.\\n\\nWorse than when my dad wore bike shorts.\\n\\nWorse than when I got lost on a plane, which is hard to do, but really scary.\\n\\nLike a horror movie, though my parents won’t let me watch them, unless you count the furnace in Toy Story 3, but that…\\n\\nOh. What should we do about it, Jayda?\\n\\nI’m totally telling my parents about it. My dad has a lot of pull, because he gives the teachers free zit cream, but you should tell yours too.\\n\\nWhy are you talking to Summer?\\n\\nI like her now.\\n\\nUh, I know. I do too.\\n\\n[curious music playing]\\n\\nWhat was that all about?\\n\\nShe likes me. She thought I was fun.\\n\\n[scoffs] You fun? What’d you do, turn your head more than once?\\n\\nOh, what a showman.\\n\\nGet all your mean jokes in now, ’cause the next kid who takes me home is the last kid.\\n\\nSure they are, Mr. Chicken-to-leave.\\n\\nWhatever you say, Mr. Wants-to-get-bitten.\\n\\nOh, I’m shaking, Mr. Almost-as-brave-as-Scooby Doo.\\n\\n[yells]\\n\\n[sighs]\\n\\nDuck, duck, duck, goose!\\n\\n[kindergartners chattering chaotically]\\n\\nOw! Okay. Okay. All right! That’s not the game. Kids!\\n\\n…the Stamp Act. Eyes up here! For those of you who did the reading…\\n\\nSalinas never taught this stuff.\\n\\nYeah. What’s a stamp?\\n\\n[Ms. Malkin] …the first tax levied directly on American colonists by the British Parliament.\\n\\n[kids laughing]\\n\\nSkyler, what did I just say?\\n\\n[kids laughing]\\n\\nAnswer! How did the colonists react?\\n\\n[kids laughing louder]\\n\\nDemerits!\\n\\n[shurikens slice, then clink]\\n\\n[deliberately] You do not want demerits.\\n\\nWhat’s a demerit?\\n\\nI think he played for the Clippers.\\n\\nYou’re going to leave 5th grade with discipline, or you are never going to leave 5th grade.\\n\\nEh. [munches]\\n\\nWho has the discipline to take a class pet home this weekend?\\n\\nI’ll do it. I’ll take Leo again.\\n\\n“Leo”?\\n\\nAgain? Who would want it twice?\\n\\n[smart board beeping]\\n\\n[kids laughing]\\n\\n[drone whirring]\\n\\nNot one of you is man enough for middle school, are you?\\n\\n[whirring]\\n\\nUgh. Not now. I’ll take the lizard.\\n\\nOh, you’ll have so much fun with Leo, Eli. You think, maybe, I can visit?\\n\\nReally? That’d be great. Zane’s coming, but we can all hang…\\n\\n[whirring]\\n\\n[thermometer beeps]\\n\\n[whirring]\\n\\n[sighs]\\n\\n[mellow music playing]\\n\\nYou kids having a fun play date?\\n\\nUh…\\n\\nSure.\\n\\n[drone beeps]\\n\\n[buzzes, beeps]\\n\\n[whirring]\\n\\n[clanging]\\n\\n[plays electronic fanfare]\\n\\nSorry about those chips, Zaney. Can’t be too careful.\\n\\nHave a kale cupcake.\\n\\nDo I have to wear the safety suit all weekend?\\n\\nLizards carry disease, honey.\\n\\nKids and dogs are especially vulnerable.\\n\\n[footsteps approaching]\\n\\n[drone whirring]\\n\\n[spray hissing]\\n\\n[squeegee squeaking]\\n\\nUm, I think my mom wants to pick me up.\\n\\n[robot vacuum tapping]\\n\\n[Zane’s mom yells] Thank you, Julie!\\n\\nThey had the best time.\\n\\nCould you go cut his chicken into non-chokeable pieces?\\n\\n[birds chirping]\\n\\n[mysterious music playing]\\n\\n[jazzy adventurous music playing]\\n\\n[suctioning]\\n\\n[toy squeaks]\\n\\n[sighs in relief]\\n\\n[suctioning]\\n\\nHey.\\n\\n[grunting]\\n\\n[jazzy adventurous music keeps playing]\\n\\n[grunting shakily]\\n\\n[grunts]\\n\\n[growling]\\n\\n[dramatic music plays]\\n\\n[music crescendos, ends]\\n\\nOw! [thuds]\\n\\n[toys clattering]\\n\\n[heavenly music plays]\\n\\n[humorous jazz music playing]\\n\\n[grunts]\\n\\n[gags, shrieks]\\n\\n[exclaiming]\\n\\n[screams]\\n\\n[grunting]\\n\\n[panting] Ha-ha.\\n\\n[robot vacuum crashes]\\n\\n[humming]\\n\\n[whirring]\\n\\n[sputters, hums]\\n\\nWhat? It’ll grow back.\\n\\nYou’re dressed like a 1950s astronaut and I’m the weird one?\\n\\nOh, now you’re threatening me, Doodlepoo? Do that…\\n\\n[tense music plays]\\n\\nWhat?\\n\\nWhat…\\n\\n[Julie] Dinnertime, Eli!\\n\\nEli, now! You need three hours to digest your food before bed.\\n\\n[Eli sighs]\\n\\nThis is totally crazy. You talk?\\n\\nJust to you.\\n\\n‘Cause, uh…\\n\\nI’m special?\\n\\nUh, yeah, that’s right.\\n\\nOh. Okay.\\n\\nBut you can’t tell anyone. They’ll try to kill me like E.T.\\n\\nBut my parents told me when someone says, “Don’t tell anyone,” that’s when I have to tell.\\n\\nWell, your parents are right, but that’s with strange humans.\\n\\nI’m just a strange lizard. Okay?\\n\\nPlease don’t tell. Especially him.\\n\\n[Eli] The drone?\\n\\nNo way. You saw what it did to the Cheetos out there.\\n\\nI mean, it’s nice that it’s loyal.\\n\\nCome on. When I was six, kids thought it was cool.\\n\\nMaybe you should say something about it.\\n\\nI don’t want to hurt its feelings.\\n\\nI know a way. I’ve seen kids break up over the years.\\n\\nYou write down why you’re dumping them, and it gives the other person time to soak it in and not snap.\\n\\nIt’s a “Dear Drone” letter.\\n\\nGet a pen and paper.\\n\\n[sentimental music playing]\\n\\n[dictating the letter]\\n\\n[singing the letter]\\n\\n[Eli singing] ♪ When you hover over me all day ♪\\n\\n♪ I feel safe, but also feel My social life melting away ♪\\n\\n♪ I’m not saying That your caring is a crime ♪\\n\\n♪ I’d just like to wipe my own butt From time to time ♪\\n\\n♪ And I think that you could Make new friends ♪\\n\\n♪ Like the 3-D printer in graphic arts ♪\\n\\n♪ Or the Theragun massager Or the yellow Cuisinart ♪\\n\\n♪ I’m not saying I don’t like you, Mr. Drone ♪\\n\\n♪ I just want to have the smallest hope Just visible in a microscope ♪\\n\\n♪ Of somehow ♪\\n\\n♪ Not dying alone ♪\\n\\n[singing the letter]\\n\\n[alarm clock beeping]\\n\\n[humming]\\n\\n[dropper clinking]\\n\\n[munching]\\n\\n[clanging]\\n\\n[clattering]\\n\\nHe’s just doing it for show. See?\\n\\nHe knows he’s recyclable.\\n\\nLet’s just give him some space.\\n\\nNobody’s ever gonna like me like he does.\\n\\nKid, they don’t even know you. Now you can finally show your stuff.\\n\\nUh, I don’t have any stuff.\\n\\nAh, you just gotta find your gimmick.\\n\\nThere was a boy in 1998, Mike Djokovic.\\n\\nHe memorized all the words to “Walkin’ on the Sun.”\\n\\nSmash Mouth? No? Look, it’s got a lot of words.\\n\\nThe point is, plenty of kids have a gimmick.\\n\\nIt’s okay. I got a few.\\n\\nUh, get me a caterpillar.\\n\\nFor real?\\n\\nTrust me.\\n\\n[trash can lid clangs]\\n\\n[merry music playing]\\n\\nOh, that’s perfect.\\n\\nOkay, here we go.\\n\\n[slurps]\\n\\n[laughs] So gross!\\n\\nWait.\\n\\n[belches]\\n\\n[Eli] What the…\\n\\n[laughing]\\n\\n[Leo] Here, let me show you something.\\n\\nEli, where’s your safety suit?\\n\\nTry doing this.\\n\\n[grunting]\\n\\n[giggling]\\n\\nVery good. [laughs]\\n\\n[golfer 1] Fore!\\n\\n[Leo grunts]\\n\\n[gasps]\\n\\n[golfer 2] You nailed that thing.\\n\\n[golfer 1] What was it? A possum?\\n\\n[golfer 2] I don’t know, but you hit it in the jellybeans.\\n\\n[golfer 1] Wanna quit and go home? Can’t top that.\\n\\n[golfers laughing]\\n\\n[kindergartners chattering chaotically]\\n\\n[kindergartner 1 screams]\\n\\n[suctioning]\\n\\n[kindergartner 1 yells]\\n\\n[kindergartner 2 screams, chomps]\\n\\n[whispers] Not everyone’s invited.\\n\\n[amusing music playing]\\n\\nYes, I’m back.\\n\\nWhere’s your tail? You escaping one limb at a time?\\n\\nJust give me some space. I got hit in the jellybeans.\\n\\n[thuds]\\n\\nI forgot that was there.\\n\\nSalinas was teacher of the year! That substitute lady’s unacceptable.\\n\\nDo the skin cream samples I give out mean nothing to you people?\\n\\nHow do I get that horrible woman replaced?\\n\\nDr. Wenger, please. She’s sitting right here.\\n\\nSo?\\n\\nJay, it’s not polite.\\n\\nFine.\\n\\nMay I speak about you as if you’re not here?\\n\\nListen, my kid was on track to get into Westlake next year, Langley Prep in three years, Dartmouth in seven years, then a moderately happy marriage in 14 years.\\n\\nI paid for that smart board and this light switch.\\n\\nIf I’m letting you keep this animal as her teacher, you’re gonna do something for me to fix this.\\n\\n[ticking]\\n\\nFour seconds. Three, two, one.\\n\\nPencils down.\\n\\nExcept Jayda, who will now be getting two more minutes due to her permanent jet lag.\\n\\n[kids clamoring]\\n\\n[Ms. Malkin] Quiet. No discussion.\\n\\nNow, one of you has to take home a class pet.\\n\\nVolunteer or be assigned.\\n\\nI’ll take Leo again.\\n\\nWhat is the deal? Leo? Again?\\n\\nYou can’t take a pet twice, right?\\n\\nBecause I would… I mean, why do you want him again?\\n\\nUm, ’cause he was awesome.\\n\\nWhy do you want him?\\n\\nUh, same reason. Awesome.\\n\\nWait. If it’s awesome, I want it.\\n\\nIt’s supposed to say, “Dr. Skin,” not “Dr. Skid.”\\n\\nS-K-I-N. No D’s.\\n\\n[cat screeching]\\n\\nJayda, I dyed the cat green.\\n\\nSo unoriginal.\\n\\nIsn’t that great, what I got for you?\\n\\nDrake’s coming to my party?\\n\\nEh, I’m still on it.\\n\\nI meant the pop quiz, the two more minutes.\\n\\nWho takes care of you?\\n\\nWhat did Daddy do?\\n\\nWell, Benji, Jayda’s substitute teacher is a horror show…\\n\\nMaking the kids read big books.\\n\\nNo!\\n\\nSo Daddy got Jayda something no other kid gets.\\n\\nWhat, Daddy?\\n\\n♪ Extra time The other kids are sweatin’ ♪\\n\\n♪ All the answers they’re forgettin’ All except for mine ♪\\n\\n♪ ‘Cause my kid’s got extra time… ♪\\n\\nShould we put the lizard in my room? The birthday party’s coming up…\\n\\n[Mrs. Wenger] Not now. Daddy’s bragging.\\n\\n[both] ♪ Lovin’ that extra time ♪\\n\\nUgh. It’s like the worst day of my life. Nobody’s focusing on my party.\\n\\nIt’s going to totally suck, and the other kids will be happy about it.\\n\\nWhat? Why would they be happy?\\n\\nBecause they’re all jealous. Wait. What? Who said that?\\n\\nThat was me.\\n\\nOh my God! You talk?\\n\\nNo, it’s not safe.\\n\\nYou’re the only one who can hear me.\\n\\nSo awesome! We have a talking lizard!\\n\\nI can only talk to you!\\n\\nOh my God! Daddy!\\n\\n[trumpet blasts]\\n\\n♪ When you roll with Dr. Skin You’re a true VIP ♪\\n\\n♪ ‘Cause rules do not apply to me ♪\\n\\n♪ Gimme that extra time… ♪\\n\\nYou only talk to me ’cause I’m special?\\n\\nUh, sure.\\n\\nThat makes sense. But can you do tricks at the party?\\n\\nCan you rap and play the piano with your tongue?\\n\\nNah, this is just between us. I’m talking to you to give advice.\\n\\nI don’t need advice. I’m awesome.\\n\\nNah, you’re miserable.\\n\\nWait, what?\\n\\nJust like Emma Lawrence in ’03, Nina Myers in ’55, all pretty, all rich, all bright.\\n\\nSo?\\n\\nNot done.\\n\\nAll snotty, all secretly hated.\\n\\nPeople were jealous.\\n\\nNot of the snottiness.\\n\\n[Jayda] Look, people don’t realize the pressure someone like me is under.\\n\\nMy family is so amazing, so I have a lot more to live up to.\\n\\nI have to get into the best middle school and have the best party and, yeah, only the best people around me.\\n\\nNo, you don’t.\\n\\nUgh, you don’t get what being awesome’s like.\\n\\nBut you’re not.\\n\\nI’m what?\\n\\nBrace yourself.\\n\\n♪ Not that great ♪\\n\\n♪ I know you guys are proud But your house is kinda loud ♪\\n\\n♪ And your dad’s a middleweight ♪\\n\\n♪ Your family’s not that great ♪\\n\\nA middleweight?\\n\\n♪ He’s the face on these flyers ♪\\n\\n♪ You live in Fort Myers ♪\\n\\n♪ Our countertops are quartz ♪\\n\\n♪ He gets paid to burn off warts ♪\\n\\n♪ Mom’s like Britney Spears ♪\\n\\n♪ If you’ve had six or seven beers I don’t mean to denigrate ♪\\n\\n♪ We’re not that… ♪\\n\\nGreat?\\n\\nYou’re great, but no one’s that great.\\n\\nWe’re all just people and lizards.\\n\\n♪ If you can take a step back ♪\\n\\n♪ See yourself for what you are ♪\\n\\n♪ You’ll find that You’re an even brighter star ♪\\n\\n♪ So then, I’m not that great ♪\\n\\nThere you go.\\n\\n♪ But I can feel that weight ♪\\n\\n♪ Coming off like heavy gear ♪\\n\\n♪ After 11 stressful years ♪\\n\\n♪ To my fellow average peers ♪\\n\\n♪ I can finally relate ♪\\n\\n[both] ♪ It’s not bad at all to be ♪\\n\\n♪ Not that great ♪\\n\\n[music crescendos, ends]\\n\\n[Mrs. Wenger] Bravo.\\n\\nThank you. Great job, guys.\\n\\n[stopwatch 1] Thanks.\\n\\nHoney, maybe you wanna tip them?\\n\\nWhat? The watches?\\n\\nGuys, you want some water? Anybody?\\n\\nNo, that’s okay.\\n\\nOkay. Well, thank you.\\n\\n[stopwatch 2] Yep. Thanks, Mr. Skin.\\n\\nIt’s “doctor.” “Dr. Skin.”\\n\\n[stopwatch 3] Uh-huh.\\n\\nMom, Dad, do we have any more invitations?\\n\\nMore? I thought we excluded everyone you wanted.\\n\\nYeah, but we made a bigger list.\\n\\n[propeller whirring]\\n\\n[upbeat music plays in the background]\\n\\n[indistinct chattering]\\n\\nHi, guys. I’m so glad you came.\\n\\nThanks for inviting us.\\n\\nOf course. How are you?\\n\\nUh, wait. I know this one. We’re fine.\\n\\n[peacock calls]\\n\\n[laughs] That thing sounded like Cole.\\n\\n[kids laugh]\\n\\n[Cole H. laughs sarcastically]\\n\\nWow. Zane is funny now?\\n\\nZane was always funny.\\n\\nLike in 2nd grade,\\n\\nwhen he told Mrs. Lemos that Superman came from planet Crouton?\\n\\n[kids laughing]\\n\\nHey. You kids try the bubble guy yet?\\n\\nDad, we’ll get to the bubbles.\\n\\nThis guy’s next level. He makes bubble animals.\\n\\nHere you go. Next. You’re not holding it right!\\n\\nJayda burgers. Jayda taters.\\n\\n[drone] Jayda vegetables.\\n\\n[sighs] Please don’t do this.\\n\\n[tray clatters]\\n\\n[drone humming loudly]\\n\\n[boy giggling]\\n\\n[monkeys screeching]\\n\\n[pony grunting]\\n\\n[munching]\\n\\n[chittering]\\n\\nWhat’re you looking at, boss?\\n\\nGot a problem with compact legs?\\n\\nWhat?\\n\\nYou think you got it so great out there? What do you do in the box?\\n\\nUh, I molt.\\n\\nOccasional blinking.\\n\\nAll right. I’m sorry, brother. We’re fighting the same fight.\\n\\nI mean, the only fun I’ve ever had was biting some of that guy’s fingers off.\\n\\nI’ve asked you five times to jump through this hoop.\\n\\nI’m just, uh… I’m getting old, you know?\\n\\nEver feel like time’s running out, and this is all we’re ever gonna know?\\n\\n[monkeys screeching]\\n\\n[pony grunting]\\n\\n[monkeys chittering]\\n\\nWere you just talking to that horse? Is he having a good time?\\n\\nI gotta tell you, the truth is, no animal wants to be locked inside…\\n\\nHey, Jayda. Hey, Leo. I can’t believe how much cool…\\n\\nUh, I mean, hey, just Jayda, are you having a good time?\\n\\nThanks for asking me. My parents never ask.\\n\\nThey just assume I’m having a good time, ’cause they still don’t realize they aren’t that great.\\n\\nWhat would make you have a better time?\\n\\nGood question.\\n\\n[pony neighing]\\n\\n[“Instruction” feat. Demi Lovato & Stefflon Don playing]\\n\\n♪ If you’re The Supreme Then I’m Diana Ross… ♪\\n\\n[laughing]\\n\\n♪ Drop it down low and take it back high ♪\\n\\n♪ No, I don’t need introduction ♪\\n\\n♪ Follow my simple instruction Wind to the left, sway to the right… ♪\\n\\nOkay. Standard magnetic lock.\\n\\nCircuits are cross-current.\\n\\nJumper cables. Balloon.\\n\\nRight here.\\n\\n[“Instruction” continues playing]\\n\\n♪ Yo… ♪\\n\\n[electricity zapping]\\n\\n[gates creak open]\\n\\n[clanging]\\n\\n[chaotic screaming]\\n\\n♪ Wind to the left, sway to the right… ♪\\n\\n[Cole H. yells] This is so fun!\\n\\n[glass shatters]\\n\\n[Dr. Wenger] I specifically said “no mayhem!”\\n\\n♪ Sway to the right… ♪\\n\\n[chaotic screaming]\\n\\n[monkeys chattering]\\n\\n♪ No, I don’t need introduction… ♪\\n\\n[music stops]\\n\\n[record scratch]\\n\\n[“True Feeling” by Galantis plays]\\n\\n[screaming]\\n\\n[spits]\\n\\n♪ True feeling… ♪\\n\\n[heron squawking]\\n\\n[flamingos warbling]\\n\\nThanks, PJ.\\n\\nUh, TJ.\\n\\nOh, I’m sorry.\\n\\nIt’s cool. Jacked about the eye contact.\\n\\n[Leo screams]\\n\\n[bush clatters]\\n\\n[all in commotion]\\n\\n♪ True feeling… ♪\\n\\n[herons squawking]\\n\\n[whimpers]\\n\\n[glass shattering]\\n\\n[tires screech]\\n\\nStop that stopwatch. He’s got my wallet.\\n\\n[Leo babbling]\\n\\n[yells]\\n\\n♪ And I still remember that night In September ♪\\n\\nYou made it happen, boss. Greatest day ever.\\n\\nHey, hey, hey.\\n\\n[Jayda] Leo! Where’s Leo?\\n\\n[Summer] Did someone take him?\\n\\nPlease, somebody find him. Leo!\\n\\n[school kids calling] Leo! Leo! Leo!\\n\\n[sighs]\\n\\n[pops]\\n\\nYou’re not holding it right!\\n\\n[kids calling] Leo! Leo!\\n\\n[kid 1] Where is he?\\n\\nLeo!\\n\\n[kids celebrate]\\n\\nLeo!\\n\\nYou guys are really into that lizard.\\n\\nHe’s just awesome.\\n\\n[monkey chattering]\\n\\n[kids] Cheese!\\n\\n[shutter clicks]\\n\\n[merry music playing]\\n\\nI had so much fun at the party.\\n\\nDid you get a bubble animal?\\n\\n[Eli] Camel went on the waterslide.\\n\\nAgain? Whatever happened to zipping?\\n\\nOh, you’ll know when I zip.\\n\\nI’ll be in the Everglades dining on maggots you can only dream about.\\n\\nYou were fun, Leo. I’ll miss you.\\n\\n[Squirtle repeating mockingly]\\n\\n[Ms. Malkin] If Santa Claus has 39 elves making 1,981 toys an hour…\\n\\nFreezing here. How about giving a guy some shell?\\n\\nWait. Ho, ho, Mr. Popular, now you wanna come in here with me?\\n\\nIt’s 65 degrees.\\n\\nThese Central Florida winters are brutal.\\n\\nJust a couple of minutes.\\n\\nHey, hey! At least buy me dinner first.\\n\\n[Leo, muffled] Wait. Are those my baseball cards?\\n\\n[school bell rings]\\n\\n[mischievous music playing]\\n\\n[slurps]\\n\\n[tongue snapping]\\n\\n[mouthing] Call me.\\n\\n[door shuts]\\n\\nYou’re talking to them.\\n\\nThat’s why you keep coming back.\\n\\nWhat? No.\\n\\nJust a little bit.\\n\\nNo, no, no, no. There is no little bit. We don’t talk to them.\\n\\nThese kids are all benefiting from my insights before I drop dead.\\n\\nOkay, so it’s about your ego.\\n\\n[Leo] That’s not what this is.\\n\\n[Squirtle grunting]\\n\\nIt’s about sharing my 74 years of wisdom to help these kids with their issues.\\n\\nWhether it’s breaking up with the drone or having hand-me-down pants.\\n\\nOh, boo-freakin’-hoo.\\n\\nI had to wear my sister’s shell till I was 16.\\n\\nI made a huge difference with that TJ kid.\\n\\nWhat? I don’t understand. That’s normal.\\n\\nFirst one? Usually, it’s in the front, but very nice. You’re growing up.\\n\\nNo, no, no. It’s my dad.\\n\\n[somber music plays]\\n\\n[crackling]\\n\\nWhat’s so funny? I told him that Dave Connaire, in 1974, all of a sudden, grew a nose the size of a Buick just like his dad’s.\\n\\nAnd everybody still loved him, ’cause he was a cool kid, like you.\\n\\nAnd the next week, Cole’s problem was even tougher.\\n\\nYou won’t do sleepovers, ’cause you say things in your sleep?\\n\\nWell, if I’m not gonna tell anyone about you talking to me, do you promise not to tell anyone?\\n\\nYeah. Of course.\\n\\n[groans]\\n\\nThis isn’t my real voice.\\n\\n[high-pitched] I really talk like this. I can’t let them know. I sound ridiculous.\\n\\n[crackling] This is priceless.\\n\\nWell, I fixed it. I told him…\\n\\nYou sound like a young Bee Gee.\\n\\nA what?\\n\\nHow ’bout The Weeknd? Know him?\\n\\n[sings The Weeknd’s “Can’t Feel My Face”]\\n\\nYeah, like that.\\n\\n[Leo] Last week, he sang at the winter recital, and I heard they went nuts.\\n\\n[crowd cheering]\\n\\nNice job, Ms. Malkin.\\n\\nI’m sorry, was that praise?\\n\\n[laughs] Keep it up, and we may see more of you here.\\n\\n[Leo] The class did great.\\n\\n[Squirtle] Did they win?\\n\\n[Leo] Nah, kindergarten always wins. Way too cute.\\n\\n[instruments clatter]\\n\\n[kindergartners chatter indistinctly]\\n\\nAnd you should’ve seen me last week with Mia.\\n\\n[Squirtle] You mean Huggy? The human cling wrap?\\n\\n[Leo] Excuse me. She has a name.\\n\\nAs you know, her parents were recently divorced.\\n\\nOnly two hours late today. Very considerate.\\n\\nAre you letting him cut his own hair now?\\n\\n[engine revs]\\n\\n[tires screech]\\n\\nYou can’t watch the kids next weekend, so me and Aurora can have Valentine’s Day together? I’m asking you one favor!\\n\\nYou don’t have any plans. Because I know.\\n\\n[clears throat]\\n\\nI’m sorry, but lizards do not talk.\\n\\nParrots, macaws, songbirds, and certain killer whales.\\n\\nDon’t believe everything you read on the Internet.\\n\\nWhy would you only talk to me?\\n\\n‘Cause you’re nice. You’re great at school, answering all the questions.\\n\\nI love to learn things.\\n\\nYou’re a lot quieter around your family.\\n\\nDon’t you ever wanna let ’em see how big that brain of yours is?\\n\\nMy brother and sister think I’m weird.\\n\\nReally?\\n\\nYou just looked like my grandpa.\\n\\nYeah? Is that a good thing?\\n\\nUh-huh.\\n\\nMy grandpa used to talk to me.\\n\\nHe really liked science, and he would ask me questions, even if he knew the answer. [sniffles]\\n\\nWhat? He sounds like a great guy.\\n\\nHe was my best friend. [cries, sniffles]\\n\\nOh, no, no, no, no. I didn’t mean to get that going.\\n\\nPlease, kid, I hate that.\\n\\n[sobbing softly] I’m sorry.\\n\\nOh, no, no. Don’t be sorry.\\n\\nJust stop. I… I can’t handle it.\\n\\nBut my mom says it’s good to cry.\\n\\nNot where I come from. Here. Let me calm you down.\\n\\nI’ll sing you a lullaby, and you’ll go to sleep.\\n\\n♪ Don’t cry ♪\\n\\n♪ Crying’s for weaklings ♪\\n\\n♪ Don’t cry ♪\\n\\n♪ It’s lazy and dumb ♪\\n\\n♪ Dry those tears ♪\\n\\n♪ They make you look ugly ♪\\n\\n♪ Suck it up ♪\\n\\n♪ You mustn’t succumb ♪\\n\\n♪ Everyone’s stuck ♪\\n\\n♪ With something they’re stuck with ♪\\n\\n♪ Everyone’s trapped In something they hate ♪\\n\\n♪ What does it solve ♪\\n\\n♪ To blubber and… ♪\\n\\n[mimics a crying baby]\\n\\n♪ Why not be strong? ♪\\n\\n♪ Make the best of your fate ♪\\n\\n♪ Don’t cry ♪\\n\\n♪ It’s really annoying ♪\\n\\n♪ Turn off the faucet ♪\\n\\n♪ It looks bad on you ♪\\n\\n♪ I know it’s hard ♪\\n\\n♪ I know you’re troubled ♪\\n\\n♪ But we’ve all got problems ♪\\n\\n♪ So boo-freaking… ♪\\n\\n♪ Hoo… ♪\\n\\n[yelps]\\n\\nWhoa. You scared me.\\n\\n♪ Boo-freaking-hoo ♪\\n\\n[chuckles] You’re just doing what my grandpa did, pretending not to know something, so I can tell you what’s right.\\n\\nHere. Scientific research has established that crying releases oxytocin and endorphins.\\n\\nThese feel-good chemicals help ease both physical and emotional pain.\\n\\nI didn’t know how to help her, so I just listened. And that helped.\\n\\nWow. So you got this E.T. scam going.\\n\\nGot every kid thinking he’s Elliott? This will end badly.\\n\\nAll I know is these kids’ll remember me.\\n\\nDid you hear about Hammy #3’s funeral last week?\\n\\nHammy #3 died? Didn’t know that.\\n\\nExactly.\\n\\n[Leo] They say the funeral was a snooze. No one had anything to say.\\n\\nI liked that white spot over his ear.\\n\\nI liked the way he breathed.\\n\\nHe gave me pinkeye.\\n\\nMy funeral is gonna be packed with fond remembrances and anecdotes.\\n\\n[belches, slurps]\\n\\nYeah, good for you and your last week’s vocabulary words.\\n\\nAnd, buddy, that funeral could come sooner than you think.\\n\\n[kids yelling] Me! Me!\\n\\nMy turn with the Geico thing!\\n\\n[yelps, thuds]\\n\\nHave fun, Anthony! Leo’s awesome!\\n\\nThese things heads grow back too? Or just their tails? I’ll figure it out.\\n\\nOh, no. Call my next of kin. This is how I want to divide my estate.\\n\\nHelp me!\\n\\nWhat?\\n\\n[Squirtle] I got your back.\\n\\nI couldn’t let you do this one alone.\\n\\nWhat are you gonna do?\\n\\nYou lay back. It’s harder to hurt me. I got the shell.\\n\\nWhat about giving advice?\\n\\nOh, like I don’t know anything? I can do what you do.\\n\\n[crowd cheering on phone]\\n\\n[Anthony] Mm.\\n\\n[commentator] That was an incredible move! What strategy!\\n\\nHey!\\n\\n[commentator] …starting to let his…\\n\\nGo straight to his head.\\n\\nHey, over here.\\n\\n[yells] What?\\n\\nAh!\\n\\n[clattering]\\n\\nOh, come on!\\n\\nForget that. I talk.\\n\\nOh my God. Grandma!\\n\\nNo, no, no. Stop, stop. Can’t do that or we’ll all die.\\n\\nWhat? Why?\\n\\nI don’t know. I… I’m telling you.\\n\\nYou… You’ll die. Just shut up. Calm down.\\n\\nOh, okay.\\n\\nFix your phone later. I’m a talking turtle. I picked you ’cause…\\n\\n“I like your style.”\\n\\nTake it down a notch.\\n\\nI got this. Now, tell me your problems.\\n\\nWhat?\\n\\nI… I can fix your problems. I… I… I…\\n\\nI seen a lot of things in that 5th grade room, and I can help. So come on.\\n\\nI don’t have any problems. Other than I broke my phone.\\n\\nAh-ha. Bully. I get it.\\n\\nCome on. You’re insecure, right? Every class bully is.\\n\\nNo. I don’t know.\\n\\nYou’re sad, you got something tearing you up inside.\\n\\nJust say it. I’m a talking turtle. I can’t tell anyone else.\\n\\nOf course I’m a bully. I don’t know what else to do.\\n\\nI’m just different. I’m not smart.\\n\\nNah. Everyone’s smart in some way.\\n\\nYou’re just afraid of trying and looking not smart. That’s textbook.\\n\\nWhat’s a textbook?\\n\\nYou know what? Never mind.\\n\\nI’m different in other ways too.\\n\\nThere you go. Come on. Out with it.\\n\\nYou won’t say anything?\\n\\nNo. What is it? What’s the sadness?\\n\\n[sighs]\\n\\nI don’t know how babies are made.\\n\\nPerfect. That’s very class bully.\\n\\nTough on the outside,\\n\\na self-hating pile of cottage cheese on the inside.\\n\\nCan you just tell me?\\n\\nOh. About babies? Sure. Here we go.\\n\\n[clears throat] First, the daddy climbs on the mommy’s back while she’s swimming.\\n\\nHe reaches under the mommy to find her cloaca.\\n\\nThis goes on for about 24 hours.\\n\\nThen the mommy comes ashore, makes a nest, and deposits eggs in the sand.\\n\\nMy mom made eggs in the sand?\\n\\nYes. So the fish don’t eat ’em.\\n\\n[ball tapping]\\n\\nI crushed it. Totally fixed the kid’s problem.\\n\\nThe taping me up, maybe it’s ’cause he wants to keep me.\\n\\n[tape tearing off]\\n\\n[Squirtle screams] Stop!\\n\\n[Squirtle snoring, whistling]\\n\\n[gentle acoustic music playing]\\n\\nYou miss your friends from being held back.\\n\\nWorried about being behind?\\n\\nThis is a tough time, but these are the best years. Believe me.\\n\\nEnjoy not knowing everything.\\n\\nEnjoy being a kid. You’re a good one.\\n\\nDo you miss being a kid?\\n\\nI’m just glad I’m still here.\\n\\n[kids laughing]\\n\\n[tapping]\\n\\nOkay, every one of you has had a weekend with Leo here.\\n\\nSo from here on, you’ll be taking home… [sighs] What’s the turtle’s name again?\\n\\nSquirtle. My name is Squirtle.\\n\\nI think it’s Squirtle.\\n\\nSquirtle sucks.\\n\\nI beg your pardon? Why?\\n\\nI don’t know. He just sucks.\\n\\nI like Leo, though. He’s nice.\\n\\nThe best.\\n\\n[kid 1] Yeah! Come on…\\n\\n[Logan] Leo’s better than that turtle.\\n\\nOh, stop that noise. Stop it! What is so special about this reptile?\\n\\nI like his skin.\\n\\nHis skin is like my grandma’s elbows.\\n\\nUh, same.\\n\\nSame.\\n\\nSame.\\n\\nElbows.\\n\\n[kids] Same.\\n\\nAll right. If you all so desperately want to take home that lizard again,\\n\\nyou’ll just have to earn it.\\n\\n[kids speaking indistinctly]\\n\\n[Cole W.] I wanna get picked!\\n\\nWe’ll do our homework and promise to bring it in.\\n\\nYou will all make my class a model of excellence, and even win that Academicathalon, or it’s the turtle for all of you.\\n\\n[kid] Yes! Thank you so much.\\n\\nWas this your dying wish? To turn a bunch of brats against me?\\n\\nIt’s not about us. It’s about the kids.\\n\\nThey’re motivated.\\n\\nThey’re gonna finish the year strong.\\n\\n[“When It’s Us” playing]\\n\\n[crowd cheering]\\n\\n[excitedly] Yes!\\n\\n[cheering]\\n\\n[inaudible dialogue]\\n\\nYeah, Louis Pasteur is the father of microbiology.\\n\\nHe discovered that dangerous microorganisms could grow in open water.\\n\\n[“When It’s Us” keeps playing]\\n\\n[thunder booms, rumbles]\\n\\n[wind howling]\\n\\nWow! Well, now, that’s impressive.\\n\\n[all applauding]\\n\\n[song ends]\\n\\nClass 5-C, you’re one step away from going to Magic Land Park!\\n\\n[kids cheer]\\n\\nHow great a job has our teacher done?\\n\\nBravo, Ms. Malkin.\\n\\n[kids applaud]\\n\\nI know a lot of parents weren’t happy when I first brought you in, due to your rep as a miserable person.\\n\\nBut if you win the History Fair on Saturday, we’ll…\\n\\nYou’ll prove all the doubters wrong.\\n\\nWell, Principal Spahn, in the classroom, sometimes the old ways are the best ways.\\n\\nI can’t believe it.\\n\\n[air horn blares]\\n\\nBack to your posts. No five-highing.\\n\\n[Leo] Oh, that pic is fire.\\n\\n[Skyler, on phone] Thank you.\\n\\nHey, what is the deal? I’ve been waiting for your next Jenga move for 30 minutes.\\n\\nNow did you make the costume or did your mom?\\n\\nTell the truth. You know I won’t tell anyone.\\n\\nI only talk to you.\\n\\n[phone ringing]\\n\\nWhat?\\n\\n[Skyler] Is that another phone?\\n\\nUh, I don’t know. Uh, must be on Malkin’s desk or something.\\n\\n[phone 2 rings]\\n\\nOh.\\n\\n[Skyler] Hello?\\n\\nCome on.\\n\\n[Skyler] Leo, where’d you go?\\n\\n[bleeps, chimes]\\n\\nI… I’ll be right there.\\n\\n[Skyler] Leo?\\n\\n[groans]\\n\\n[phone 3 ringing]\\n\\n[Skyler] Hello?\\n\\nHey, pal, toss it here. I’ll handle it.\\n\\n[phone rings, stops]\\n\\n[Skyler] Can you hear me?\\n\\n[sighs]\\n\\n[Skyler] Leo?\\n\\nYeah, I think Malkin must have an extra phone.\\n\\nAnywho, what did Summer say?\\n\\nOh my God, you can’t all play Jackie Kennedy.\\n\\nAnd, like, we so wanna slay this History Fair.\\n\\n[Skyler] I know. That Magic Land Park trip would be awesome.\\n\\n[Leo, feedback-like] Hey, you’re awesome because you tried your best.\\n\\n[Skyler, feedback-like] That’s why I’m your special friend?\\n\\n[Leo chuckles] Yeah.\\n\\n[door creaks open]\\n\\nYou talk to Skyler too?\\n\\nI… I just… Only because she…\\n\\nThat’s Summer’s phone in there, right behind yours.\\n\\n[mischievous music playing]\\n\\nYou happy now? For ruining this?\\n\\nI don’t know what happened.\\n\\nI… I must’ve butt-dialed ya. I mean, butt-shot ya.\\n\\nYou don’t even have a butt.\\n\\n[gasps] How dare you?\\n\\n[sad music playing]\\n\\nYou talk to all of us?\\n\\nYou said I was the only one.\\n\\nYou said I was the only one.\\n\\nI thought I was special.\\n\\nYou’re all special. I…\\n\\n[all speaking indistinctly]\\n\\n[Leo] I’m sorry! I just…\\n\\n[gasps]\\n\\nSeeing you guys getting along and doing great in class, it felt like I was actually making a difference.\\n\\nYou did. This year would’ve been a nightmare without you helping me.\\n\\n[Summer] Ms. Malkin’s so mean. Talking to you made the class bearable.\\n\\n[Leo] I was just worried if you all knew…\\n\\n[gasps, breathes heavily]\\n\\n…other people would find out.\\n\\nYou told me not to tell anyone, and I didn’t.\\n\\nNobody did. Because we can keep a secret.\\n\\n[Logan] Yeah.\\n\\nWhat, did you tell everyone I shave my unibrow?\\n\\nBecause I don’t.\\n\\nHey, the only one he told about your unibrow, or that you still eat your boogers, was me.\\n\\nAnd I barely chuckled.\\n\\nWhat?\\n\\nI’m leaving.\\n\\nI tried.\\n\\n[Leo] Wait, it’s Friday.\\n\\nAren’t you gonna take me home?\\n\\nSummer, it’s your turn.\\n\\nPlease, I’m so sorry.\\n\\nHow can we trust you now? That was a question.\\n\\n[door creaks]\\n\\nAll right, what’s everyone doing here?\\n\\nOh, you’re leaving. Good. Take the whole day off.\\n\\nYou need to rest up for the history fair tomorrow. Go home.\\n\\nGo. Shoo. Come on, out you go.\\n\\n[door beeps, shuts]\\n\\n[curious music playing]\\n\\nYou and I have a lot to talk about.\\n\\nI don’t understand.\\n\\nI… I know I lied to the kids. What did I do to you?\\n\\nExcuse me, talking to my students behind my back? Advising them?\\n\\nOkay. I feel terrible, but I was just trying to…\\n\\nUndermine my methods!\\n\\nCheat me out of feeling any satisfaction from their success.\\n\\nWhat? They learned everything you wanted. Why wouldn’t that make you happy?\\n\\nDon’t think you can analyze me. I’m an adult.\\n\\nNot a shrieking brat who thinks reading Canterbury Tales is torture.\\n\\nIt’s not torture?\\n\\nQuiet!\\n\\nAsking me to be happy when I have nothing but these four walls.\\n\\nWhat about your family?\\n\\nExcuse me, do you see any family?\\n\\nOh. Uh, not unless you’re related to the gym coach.\\n\\nThose pictures are none of your business.\\n\\nGotcha. Never saw ’em.\\n\\nI put my whole life into teaching just to be a mere substitute.\\n\\n[sad piano song plays]\\n\\nNever had my own class, never got any respect.\\n\\n♪ Happy? ♪\\n\\n♪ You want me to be happy? ♪\\n\\nLook, I also had dreams that never happened.\\n\\nLike seeing the Everglades, or spreading Salmonella.\\n\\nBut this year, I fell into something even better.\\n\\nI really clicked with these kids.\\n\\nUh, maybe it helped, just a little, that you’re a talking animal?\\n\\nYeah, but also, maybe it’s you.\\n\\n‘Cause I’ve seen subs come through this school that kids love.\\n\\n♪ What about Mrs. Knight? ♪\\n\\n♪ Nice to the kids Didn’t smell quite right ♪\\n\\n♪ Remember Mr. Monk? ♪\\n\\n♪ He was a closet drunk ♪\\n\\n♪ This may have been before your time ♪\\n\\n♪ Miss Losch? ♪\\n\\nA fine teacher.\\n\\n♪ She was mine ♪\\n\\nWait, you were a student here?\\n\\nYou don’t remember me? I was a lot different.\\n\\nI was…\\n\\n♪ Happy ♪\\n\\n[Leo] Oh, wow. Yeah.\\n\\nYou were very sweet.\\n\\nI was adorable. And she…\\n\\n♪ She made you… ♪\\n\\n♪ Happy ♪\\n\\nYes, she did.\\n\\nShe made me feel like I could do anything.\\n\\nAnd tell me, do you think she was…\\n\\n♪ Happy? ♪\\n\\nShe made you her family.\\n\\nThat’s what great teachers do. Even substitutes.\\n\\nWith the little time they have, they try to make a difference.\\n\\nAnd that’s what keeps them happy.\\n\\n♪ You can feel love It’s not the end ♪\\n\\n♪ That smile you had can come back again ♪\\n\\n♪ Just pull that stick out your tush And take a cue ♪\\n\\n[song transitions into upbeat] ♪ From teachers that preceded you ♪\\n\\n♪ You’re not alone ♪\\n\\n♪ Make a home for them ♪\\n\\n♪ And embrace your important role ♪\\n\\n[both] ♪ In shaping them ♪\\n\\n♪ Body and soul ♪\\n\\n[laughs]\\n\\n♪ And you’ll be ♪\\n\\n♪ And I’ll be ♪\\n\\n[both] ♪ Happy ♪\\n\\nWell, that felt wonderful.\\n\\nI know you got it in you.\\n\\nYou’re gonna get those kids first place tomorrow.\\n\\nOh, you’re coming with me.\\n\\nNo, please. They’re mad.\\n\\nLet… Let them focus on winning.\\n\\nWell, I’m still taking you.\\n\\nAfter they win, we’ll make sure they appreciate all you were doing for them.\\n\\nYou know what? You are special.\\n\\n[indistinct chattering]\\n\\n[Cole H.] I couldn’t sleep last night.\\n\\nI couldn’t stop thinking about what Leo did to us.\\n\\nLet’s just not talk about Leo. We’re done with Leo.\\n\\nWe’re ready. We can win this thing ourselves.\\n\\n[door opens]\\n\\nGood morning, my dear students.\\n\\n[door creaks]\\n\\nThey look confident.\\n\\nYou sounded nice. Real warm.\\n\\nThank you. I’ll keep you posted when I can.\\n\\n[peppy music playing]\\n\\n[indistinct chattering]\\n\\nI’m Betsy Ross.\\n\\nI designed the first American Flag in 1776.\\n\\nBut I didn’t just say what I thought the flag should look like, I listened to others to see what they thought.\\n\\nThe result was the superior design we have today, and also, people liking me more.\\n\\nI’m Susan B. Anthony.\\n\\nI played a pivotal role in the women’s suffrage movement in the 19th century.\\n\\nBut I’m not that special or great. And neither is my family.\\n\\nSo I can relate to average women who couldn’t vote until 1920.\\n\\nI’m Winston Churchill. “We shall fight on the beaches.”\\n\\n“We shall fight them in the fields and in the streets.”\\n\\n“We shall never surrender, but we shall let them down easy, with a nice letter.”\\n\\n“So they don’t lose their minds.”\\n\\nThis is wonderful.\\n\\nYou’ve taught them life lessons.\\n\\nI… I can’t hear anything. Can you open your pocket?\\n\\nThey burned me, Joan of Arc, at the stake, but I am not afraid.\\n\\nBoo-freaking-hoo! Everyone’s got problems.\\n\\nI talked about it to a friend and felt a lot better.\\n\\n[audience applauding]\\n\\nAw, I think that friend is you.\\n\\n[Principal Spahn] Malkin’s Marvels, you’re going to Magic Land Park!\\n\\nCongratulations, class!\\n\\n[audience applauds and cheers]\\n\\n[TJ’s dad] Yeah!\\n\\nAnd to the first substitute to ever win Teacher of the Year!\\n\\n[audience cheering]\\n\\nYou’ll be chaperoned by Ms. Malkin and Coach Kimura.\\n\\n[chuckles] Oh…\\n\\n[triumphant music playing]\\n\\nIs it over? We win? When do I come out?\\n\\n[muffled] What’s happening?\\n\\nMs. Malkin, can we go see Leo?\\n\\nHoney, it’s about to rain.\\n\\nWe can’t go to our class for one second?\\n\\nYou know what the rain does to my extensions. [sighs]\\n\\nI gotta say, I thought you were some kind of a twisted animal.\\n\\nA rabid, bitter bag of mothballs foaming at the mouth.\\n\\nBut I’ve never seen my Jayda speak like that. It’s like she’s, uh, nice?\\n\\nThat’s our Ms. Malkin!\\n\\n[Kabir’s mom] You really got to know our kids.\\n\\nWhat a special lady.\\n\\nGet this woman a full-time job next year.\\n\\n[chuckles] Oh, I think we can arrange that.\\n\\n[Summer’s mom] She’s helped Summer make friends.\\n\\n[Cole H.’s dad] Cole’s proud of his voice, thanks to you.\\n\\n[Logan’s mom] How’d you do it?\\n\\nWell… You know…\\n\\n[Leo grunting, yelling]\\n\\nThat’s, um… my stomach. I… I better go.\\n\\n[air horn blares]\\n\\nShe’s not gonna make it.\\n\\nWhat happened? I couldn’t hear nothing.\\n\\nDid we win? I thought I was gonna see the kids.\\n\\nWe’re going somewhere very special.\\n\\nWe’re all going to celebrate?\\n\\nWhat, a pizza party?\\n\\n[dramatic music playing]\\n\\nWow, this pizza’s out in the boonies.\\n\\n[engine revs]\\n\\n[grunts] What’s goin’ on? You’re leaving me here?\\n\\nWhat about the kids?\\n\\nThey lost. The class embarrassed themselves and blamed you.\\n\\nWhat? What was all that cheering?\\n\\nThat was for the other class. I’m sorry.\\n\\nWhat did I do? I’ve never felt so bad.\\n\\nDon’t say that. You said the Everglades was your dream.\\n\\nNow you can live it out, with no chance of ever running into the children.\\n\\nOr their parents. Or the principal. Or the media.\\n\\nI said it was my dream.\\n\\nThe kids are what I…\\n\\n[engine revs]\\n\\n[brakes squeal]\\n\\n[sighs]\\n\\n[engine revs]\\n\\n[tires screech]\\n\\n[ominous music playing]\\n\\n[frogs croaking]\\n\\n[alligator growls]\\n\\n[yelps]\\n\\n[devices ringing, beeping]\\n\\n[Mia] What?\\n\\n[Cole H.] Where is he?\\n\\n[Summer] Is he hiding?\\n\\n[Cole H.] He’s not hiding.\\n\\nHe was here.\\n\\nYou seen him?\\n\\n[Jayda] What happened?\\n\\nWhat a shame. He must’ve run away.\\n\\n[kids gasp]\\n\\n[vacuum thuds]\\n\\n[tinkling]\\n\\nHe left us?\\n\\nOh, look.\\n\\nThere seems to be some kind of note.\\n\\nLeo could write?\\n\\nOf course. He could talk.\\n\\nOh! He talked to you people too? Oh, I thought I was special.\\n\\n“Dear class.”\\n\\n“I’ve greatly enjoyed my time with you this year, but I wish to move on and finally see the world.”\\n\\n“I realize I broke your trust, and that can’t be fixed.”\\n\\n“But if you would be so kind, please keep our conversations secret, so that I’m not harassed, like E.T. or The Iron Giant, or Splash, or the classic, The Shape of Water.”\\n\\n“Simply attribute your success to Ms. Malkin, whose integrity is beyond reproach.” [chuckles]\\n\\n“Best Regards, Leo.”\\n\\nWell, let’s try and be happy for Leo. He’s doing what he wanted most.\\n\\nBut we never even got to thank him.\\n\\nThat’s life, gang. Life gets more difficult the older we get.\\n\\nIt’s called growing up.\\n\\n[sad piano music playing]\\n\\n♪ When I was ten ♪\\n\\n♪ I didn’t have a single care ♪\\n\\n♪ And not a single body hair ♪\\n\\n♪ And life was fine ♪\\n\\n♪ When I was nine ♪\\n\\n♪ We still left milk for Santa Claus ♪\\n\\n♪ My mom was not in menopause ♪\\n\\n♪ And life was great ♪\\n\\n♪ When I was eight ♪\\n\\n♪ I still could wear a size one shoe ♪\\n\\n♪ I thought Big Macs were good for you ♪\\n\\n♪ Yes, life was heaven ♪\\n\\n♪ When I was seven ♪\\n\\n♪ I knew some dirty words But thought ♪\\n\\n♪ That babies came out of Mom’s butt ♪\\n\\n♪ Like baby chicks ♪\\n\\n♪ When I was six ♪\\n\\n♪ My folks would fight But I was chill ♪\\n\\n♪ My grandpa and my gerbils Were still alive ♪\\n\\n♪ When I was five ♪\\n\\n♪ I didn’t care that people die ♪\\n\\n♪ A haircut used to make me cry way more ♪\\n\\n♪ When I was four ♪\\n\\n♪ I didn’t need to have a phone ♪\\n\\n♪ They hadn’t yet invented drones To follow me ♪\\n\\n♪ When I was three ♪\\n\\n♪ I’d laugh for days when I was two ♪\\n\\n♪ When someone said the word doo-doo ♪\\n\\n♪ There were no rules when I was one ♪\\n\\n♪ Except, don’t fall ♪\\n\\n♪ We just had fun ♪\\n\\n♪ But that was then ♪\\n\\n[all] ♪ When I was ten ♪\\n\\n[song ends]\\n\\nOkay, everybody. Be careful on the Dragon Coaster.\\n\\nWipe the chair and the safety bar.\\n\\nDoesn’t matter what the teacher says, you call us every half hour.\\n\\nAnd don’t lick anything.\\n\\n[light music plays]\\n\\nThey tried to put the shift on Kabir when he was up, but guess what?\\n\\nHe can hit to right field too.\\n\\nOh!\\n\\nThat is something.\\n\\nWhat do you think Leo’s doing right now?\\n\\nI have no idea.\\n\\n[insects chirping]\\n\\n[frogs croaking]\\n\\n[snake hissing]\\n\\nSure, kids, why flip over the musty old turtle before you leave?\\n\\n[yelling] Even though he knows the truth? But no, everyone’s gone!\\n\\nEveryone but me and that pathetic…\\n\\n[in normal voice] Wait. Where’s the allergy kid’s phone? Ah.\\n\\n[grunting]\\n\\nHa. [grunts]\\n\\n[sighs] Here we go.\\n\\n[reading messages out loud]\\n\\n[continues reading out loud]\\n\\n[crashes]\\n\\n[glass shatters]\\n\\n[adventurous music playing]\\n\\nThere’s no time for lettuce. Flip me!\\n\\nOkay, we gotta move!\\n\\nFollow those brats!\\n\\n[flamingo] Hey.\\n\\n[whimpers]\\n\\nShake it off, man. You’re freaking everyone out.\\n\\n[adventurous music continues]\\n\\nOkay, let’s hit it.\\n\\n[croaks]\\n\\n[mysterious music playing]\\n\\n[buzzing]\\n\\n[gulps, chews]\\n\\n[smooth bossa nova music playing]\\n\\n[breathing heavily]\\n\\n[music stops]\\n\\n[pouch toots]\\n\\nOuch.\\n\\n[light music playing]\\n\\nThis is our last field trip together.\\n\\nWhy does it feel like our worst?\\n\\n[drone humming]\\n\\n[knocks]\\n\\nWhat?\\n\\n[adventurous music playing]\\n\\n[kids speaking indistinctly]\\n\\n[singing “Watch Me” by Silentó]\\n\\n♪ Now watch me nae nae Okay ♪\\n\\n♪ Now watch me whip… ♪\\n\\nWhat is going on back here?\\n\\nShe did it!\\n\\nExcuse me?\\n\\nI saw it. I saw the whole thing.\\n\\nShe took him out of the terrarium after you guys left that day.\\n\\nShe took him, and I wanted to say something, but her and her vacuum, they gave me the stink eye, and I slipped on, uh, somebody else’s pee, and I flipped on my back, and this whole thing is my fault ’cause I got jealous of my best friend instead of being happy for him.\\n\\nI used the camera phone to bust him, but now I gotta bust you, Demeritface!\\n\\nHe’s lying! This turtle can’t be trusted. He turned on Leo.\\n\\nCome on. You all know Leo’s the reason you got this stupid trip.\\n\\nHe helped you with your weird kid problems.\\n\\nThat’s why you won.\\n\\nHe wanted to do something meaningful with the rest of his pathetic time, and he did it.\\n\\nWhy did you say, “The rest of his time”?\\n\\nHe’s dying!\\n\\n[kids] What?!\\n\\nHe’s gonna be 75. That’s lights out for lizards.\\n\\nOh, no!\\n\\n[Cole H.] He’s dying?\\n\\nBut does Demeritface care? No!\\n\\nAll Demeritface wants is all the credit!\\n\\n[gasps] Another lie!\\n\\nThen where is he, Ms. Misery?\\n\\nWhere’s my best friend, Demeritface? Where is he?\\n\\nOut with it, Demeritface!\\n\\n[Cole H.] Where is he, Demeritface?\\n\\n[kids clamoring indistinctly]\\n\\n♪ Watch me, watch me Ooh, watch me, watch me, ooh… ♪\\n\\n[Cole H.] What did you do with him?\\n\\nStop it! Stop it! Stop it now!\\n\\n[gentle music playing]\\n\\nI took him, and I drove him away.\\n\\nThat’s crazy! Seriously?\\n\\nI can’t believe you!\\n\\nHe’s right, I wanted the credit.\\n\\nI thought it would make me…\\n\\n♪ Happy ♪\\n\\nHe’s gonna die thinking we’re mad at him.\\n\\nWhere did you take him?\\n\\n[sighs] The Everglades.\\n\\nYou sent him to the Glades? That’s a terrible neighborhood!\\n\\nThose crazy animals will rip him apart!\\n\\nMs. Malkin, please help us find him.\\n\\nWe can’t not see him again.\\n\\n[sighs]\\n\\n[resolute music plays]\\n\\n[singing “Wobble” by V.I.C., then stops]\\n\\nHey there.\\n\\nWe need to change course. We’re going to the Everglades.\\n\\nWhat? We’re going to Magic Land Park!\\n\\nThat’s what the parents expect, and that’s where we’re goin’.\\n\\nOh my, our first fight.\\n\\n[dramatic music playing]\\n\\n[kids cheer]\\n\\n[tires screech]\\n\\n[yelps]\\n\\n[gasps, grunts]\\n\\n[panting] Thank you. I’m fine.\\n\\nChildren, we’re going to Magic Land Park.\\n\\n[insects humming]\\n\\n[water trickling]\\n\\n[tribal music plays]\\n\\nThanks, but a little too murky for me. How… How close are we to a drip tube?\\n\\nSeriously, the microorganisms will kill you.\\n\\nA kid told me that.\\n\\n[buzzing]\\n\\nYou guys never heard of Louis Pasteur?\\n\\n[firefly 1 buzzing]\\n\\n[firefly 1 buzzing rhythmically]\\n\\n[all fireflies buzzing]\\n\\n[grunting]\\n\\n[lizards laughing]\\n\\nWhat the… [garbling]\\n\\nSomeone help me out here.\\n\\n[pony] Boss, is that you?\\n\\n[yells, grunts]\\n\\nWha… What?\\n\\nHey, that’s the guy! The guy who set us free at that party.\\n\\nThat’s the guy?\\n\\n[animals gasp]\\n\\n[animals speak indistinctly]\\n\\n[lizard] That’s the guy.\\n\\nI don’t know what Grandma’s thinking. We’ll save him on our own, let’s go.\\n\\n[adventurous music plays]\\n\\n[tribal music playing]\\n\\nGet this guy some algae.\\n\\nAnd some of you.\\n\\n[buzzing intensely]\\n\\nBoss, you’re gonna love it here. No trainers telling you what to do, no bratty kids joking about your compact legs.\\n\\nBut I miss those kids.\\n\\n[pony] What?\\n\\nThey’re not bratty. You just gotta get to know them.\\n\\nLike this one kid whose father’s back had a gorilla situation.\\n\\n[drone humming]\\n\\n[beeping]\\n\\nI got this. You go back to the kids.\\n\\n[yells]\\n\\n[grunts]\\n\\nHey, anybody see a buddy of mine?\\n\\nHe’s green with bumps, got a tail, wicked ugly.\\n\\nOkay, moving on.\\n\\n[adventurous music playing]\\n\\n[Coach Kimura] We’re here, y’all!\\n\\n[Cole W.] Yes!\\n\\n[kids cheering]\\n\\nAnd I’m hungry.\\n\\nLet’s do this.\\n\\nHi, welcome to Magic Land Park.\\n\\nOkay. Let me get…\\n\\nA Cotton Dragon!\\n\\nA Wizard Puffs, please?\\n\\nMe too!\\n\\nI’ll take a Unicorn Balls.\\n\\nHuh?\\n\\nThey’re jawbreakers. Please?\\n\\n[chuckles] Okay, gang. You getting all of this?\\n\\nOh, and I need one Fireblower hat.\\n\\nOkie doke. Now we’re ready, am I right, kids?\\n\\n[footsteps receding]\\n\\nAre you kidding me? Hey!\\n\\n[Summer] Go! Run fast!\\n\\n[TJ] Come on. Move it!\\n\\n[kid] Come on!\\n\\n[panting]\\n\\n[grunting and panting]\\n\\n[panting]\\n\\n[tires screech]\\n\\n[driver] Oh my God!\\n\\n[panting]\\n\\n[panting, gobbling]\\n\\nCome on, Ms. Malkin. Hurry up.\\n\\n[Cole H.] Faster!\\n\\n[panting] Just go. Go without me!\\n\\nBut you have to drive us!\\n\\n[pants]\\n\\n[pants, grunts]\\n\\n[grunting]\\n\\n[Cole H.] Come on!\\n\\n[both grunt]\\n\\n[kids straining and shouting]\\n\\n[Coach Kimura straining]\\n\\n[exciting music playing]\\n\\n[beeping]\\n\\n[whirring]\\n\\n[kids] Come on, Ms. Malkin!\\n\\n[straining]\\n\\n[Ms. Malkin grunting]\\n\\nHuh?\\n\\nThe Purell!\\n\\n[grunts]\\n\\n[yelps]\\n\\n[Purell splatters]\\n\\n[screams]\\n\\n[yells, grunts]\\n\\n[shouting] Whoever did this will pay! Help!\\n\\n[Logan] He’s coming!\\n\\n[shouting]\\n\\nWe have to get out of here!\\n\\nI got this!\\n\\nWhat?\\n\\nI’m from the Bronx.\\n\\nI’ve been driving since I was eight.\\n\\n[Coach Kimura screaming]\\n\\n[motor revs]\\n\\n[kids shouting excitedly]\\n\\n[kid 1] Yeah! Yeah! Do it!\\n\\n[Summer] Woo-hoo!\\n\\n[driver] Oh my God!\\n\\n[car horn honking]\\n\\nHey, pick a lane, lady!\\n\\n[tribal music playing]\\n\\nA-ha!\\n\\nI knew it. Leo?\\n\\n[squeaks]\\n\\n[yells]\\n\\nHey! Whoa, whoa. No. No, no, no, no, no. I hate it out here!\\n\\nAnd I explained to them, I was just afraid someone would tell.\\n\\nBut now they’re all mad at me, and my funeral’s gonna be even worse than Hammy #3’s.\\n\\nWho’s Hammy #3?\\n\\nI think it’s a sandwich at Arby’s.\\n\\nWhy you talking about your funeral?\\n\\n‘Cause it’s coming any day.\\n\\nI’m almost 75 years old.\\n\\nSo what? We live to, like, 110.\\n\\nWhat? But Skyler’s dad said…\\n\\nA hundred and ten, unless eaten by alligators.\\n\\nI’m 97.\\n\\nA hundred six. He’s 74? He’s a tween.\\n\\n[lizard] Look how fast he blinks.\\n\\n[all laugh]\\n\\n[shouts vividly] I’m gonna live! This is incredible!\\n\\nThe guy’s gonna live!\\n\\n[animals cheering]\\n\\n[all chant] The guy’s gonna live! The guy’s gonna live!\\n\\nI gotta get back to those kids. I can redeem myself!\\n\\nAnd we’re gonna help you.\\n\\n[all chant] The guy’s gonna live! The…\\n\\n[shushes]\\n\\n[alligators snoring]\\n\\n[Squirtle] I said I was sorry!\\n\\n[can clattering]\\n\\n[mouse squeaking]\\n\\n[sighs] I’d kill for lateral movement.\\n\\n[menacing music plays]\\n\\n[grunts]\\n\\n[alligators snarling]\\n\\nGuys, before you do anything, let’s talk about why you’re angry, okay?\\n\\nAnyone’s parents getting divorced?\\n\\n[dramatic music playing]\\n\\n[kids screaming]\\n\\nAren’t you gonna stop?\\n\\nI’m trying.\\n\\nBut I weigh 80 pounds and this thing needs oil.\\n\\n[kids scream]\\n\\n[Summer] This looks scary. Oh, my God.\\n\\n[kid 1] Come on!\\n\\n[snoring]\\n\\n[growling]\\n\\n[steam whistling and trumpeting]\\n\\nWhat the… Is that some kind of woolly mammoth?\\n\\nI don’t know, but it could kill us, right?\\n\\nUh, definitely.\\n\\n[Kabir] We’re here.\\n\\n[moans]\\n\\n[kids grunting lightly]\\n\\n[Kabir] Get back.\\n\\n[growls]\\n\\n[Logan] Oh, gosh.\\n\\n[Eli] Oh, no, no, no.\\n\\nThat’s a demerit.\\n\\n[shuriken clinks]\\n\\n[grunting]\\n\\n[shurikens clinking]\\n\\n[growls]\\n\\n[angrily] You need to chill.\\n\\n[alligator growls]\\n\\n[grunts]\\n\\n[heroic music plays]\\n\\n[yells]\\n\\n[hisses, growls]\\n\\n[growling]\\n\\nSummer, talk to him.\\n\\nSo I don’t know if you know, but it doesn’t really matter.\\n\\nWe were supposed to go to Magic Land, which is cool.\\n\\nI’ve never been there. I don’t like magic and roller coasters.\\n\\nThey just seem really boring. They’re scary, which isn’t boring, but you’re not doing anything, you’re just sitting,\\n\\nwhen you could be playing soccer or baking a cake.\\n\\nI mean, my mom’s on a diet, so…\\n\\n[drone humming]\\n\\n[suspenseful music plays]\\n\\n[thuds]\\n\\n[plays electronic fanfare]\\n\\n[Ms. Malkin panting]\\n\\n[melancholy music playing]\\n\\n[Skyler] How could Leo ever survive out here?\\n\\nHow do we even start looking for him?\\n\\nI just don’t know.\\n\\n[licking]\\n\\n[gasps]\\n\\n[gasps again, sharply]\\n\\n[Cole W. moans]\\n\\nWhat? Leo, no!\\n\\n[kids gasp]\\n\\n[Mia] Oh, no. Leo!\\n\\n[Skyler and TJ] Leo!\\n\\n[sorrowfully] Leo, we just wanted to thank you.\\n\\nI’m so sorry I got mad. We all are.\\n\\nWe won the trip, Leo. All because of you.\\n\\nYou made me feel like I could do anything.\\n\\nYou brought us all together.\\n\\nI never had a lizard that taught me so much.\\n\\nOr any non-lizards either.\\n\\n[sniffles] I’m not scared. I wanna hug you one more time.\\n\\nWhat? They ate his insides!\\n\\nI’m not… [grunts]\\n\\n[grunting and yelling]\\n\\n[kids] Huh?\\n\\n[groans]\\n\\n[slowly, painfully] I’m okay, pal.\\n\\n[Cole H.] I can’t believe it.\\n\\n[Summer] You’re all right.\\n\\nSorry I scared you. When I get nervous, I tend to molt.\\n\\nOld habit.\\n\\nAwesome!\\n\\n[happy music playing]\\n\\nThat was the best funeral I could ever have.\\n\\nWait, but if you guys won, shouldn’t you be celebrating in Magic Land Park?\\n\\nWe couldn’t celebrate. We needed to see you before you die.\\n\\nOh. Uh, who told you I was dying?\\n\\nThe turt… Uh, Squirtle told us.\\n\\nWell, I thought I was, but I found out I’m not.\\n\\n[kids] You’re not?\\n\\nYou’re not gonna die?\\n\\nYou’re not still mad?\\n\\n[Anthony] This is incredible.\\n\\nWe love you, Leo.\\n\\n[Summer] Are you crazy?\\n\\nThis is amazing!\\n\\n[sobs]\\n\\n[Skyler] I’m so happy!\\n\\n[cries, sniffles]\\n\\nYou’re right about the endorphins. It really feels awesome.\\n\\nAh. Oh, boy! Ah!\\n\\n[mouse squeaking]\\n\\nStill coming. Give me a second.\\n\\n[can clattering]\\n\\nHey, glad you’re okay. Sorry about busting you.\\n\\nI want you to have something.\\n\\n[tearing]\\n\\n[gentle music playing]\\n\\n[whirs]\\n\\nLeast I could do.\\n\\nIt’s okay. Put it back on.\\n\\nYou’re gonna get arrested.\\n\\n[mouse squeaking]\\n\\nYou should all be proud. We’ve all learned so much this year.\\n\\nNow, before I go, I want to finish something else that Mrs. Salinas started.\\n\\nI’m going to read the rest of Charlotte’s Web. [blows]\\n\\nUgh, is she kidding?\\n\\nLet’s just get through it.\\n\\n“Charlotte was dying.”\\n\\n“‘But I feel peaceful, ‘ she said.”\\n\\n“‘Your success in the ring was, to a small degree, my success.'”\\n\\n“‘Why did you do all this for me?’ Wilbur asked.”\\n\\n“‘Because I liked you, ‘ replied Charlotte.”\\n\\n“‘After all, what’s life, anyway?'”\\n\\n[sniffling]\\n\\n[Ms. Malkin] “‘We’re born, we live a little while, we die.'”\\n\\n[crying]\\n\\n[Ms. Malkin] “‘Perhaps, I was trying to lift my life a trifle.'”\\n\\n“‘Anyone’s life can stand a little of…'”\\n\\n[bawling]\\n\\nWhat? I was wrong, okay? Crying’s doin’ so good for me.\\n\\n[blows nose]\\n\\nStill wish I could eat spider babies.\\n\\nNobody’s eating any spider babies!\\n\\n[lively music plays]\\n\\nHi, guys!\\n\\n[kids] Mrs. Salinas.\\n\\nI missed you. Come meet Cole!\\n\\n[Mia] Yes!\\n\\n[kid 1] Can I hold the baby?\\n\\n[Kabir] He’s so tiny.\\n\\nOnly one baby.\\n\\nI guess she didn’t bury the other eggs deep enough in the sand.\\n\\n[indistinct chattering]\\n\\n[cheering]\\n\\n♪ Last year of elementary school ♪\\n\\n♪ I’m, like, so over being a kid ♪\\n\\n♪ Gonna look in the mirror for stubble ♪\\n\\n♪ Gonna drink orange juice With the bubbles ♪\\n\\n♪ I’ll say I don’t need you ♪\\n\\n[shutter clicking]\\n\\n[Kabir] ♪ I’ll be keeping it steady ♪\\n\\n♪ I miss you already ♪\\n\\nHow are we gonna get through middle school without you?\\n\\nYou’ll be fine. It wasn’t me. You did it.\\n\\nYou trusted someone to hear your problems. That’s all we need.\\n\\nRemember, everyone’s scared. So don’t keep it to yourself.\\n\\nFind your Leo to talk to.\\n\\nIt could be your teacher, your mom, your friend.\\n\\nYour turtle.\\n\\nThey’re ready to listen. I promise they’ll make you feel better.\\n\\n[kids chuckle softly]\\n\\n[shutter clicks]\\n\\nMs. Malkin! [chuckles]\\n\\nNeedless to say, you’ve made your mark here.\\n\\nAnd as I promised, I’m opening up a class for you to run full-time next year.\\n\\nWell, thank you, Principal Spahn.\\n\\nBut I’ll need one condition met.\\n\\nWhatever class I teach, I want these two alongside me as pets.\\n\\nWell, okay. I don’t see that being a problem.\\n\\nLook at this. We’re going with Malkin.\\n\\nChange of scenery. Should be good.\\n\\nCongratulations, meet your new students.\\n\\n[kindergartners chattering chaotically]\\n\\n[air horn blaring]\\n\\nOh God!\\n\\nNot in the shell! Keep it clean!\\n\\n[Leo] Lot of energy.\\n\\nThis is good, we’re finally gonna learn the alphabet!\\n\\n[Squirtle] Oh my God!\\n\\n[Leo] Yeah!\\n\\n[“When It’s Us” playing]\\n\\n[song ends]\\n\\n[whirring]\\n\\n[yelps, grunts]\\n\\n[lively music playing]\\n\\n[Leo yelps]\\n\\n[kindergartner babbles, thumps, then babbles again]\\n\\n[transitions into upbeat jazz music]\\n\\n[jazz crescendos]\\n\\n[music stops]\\n\\n[gentle lullaby music playing]\\n\\n[music stops]\\n\\n[jazzy adventurous music playing]\\n\\n[music stops]\\n\\n[mellow synth music playing]\\n\\n[music stops]\\n\\n[amusing music playing]\\n\\n[music stops]\\n\\n[high-spirited song plays]\\n\\n[Zane] ♪ Last year of elementary school Last year of bein’ a kid ♪\\n\\n♪ Being on top ♪\\n\\n[Cole H.] ♪ I’m gonna go out swingin’ ♪\\n\\n♪ Toy soldiers Dippin’ Dots, fun-size bars ♪\\n\\n♪ Slip ‘N slides Fart noises, chicken stars ♪\\n\\n♪ Until they tell me to stop ♪\\n\\n[Anthony] ♪ Last year of elementary school Biggest kid on campus, I got it made ♪\\n\\n♪ Sit down, son! I own all you dorks ♪\\n\\n♪ I’m so stoked I was held back in third grade ♪\\n\\n[Jayda] ♪ Okay, okay So we will not invite Cara ♪\\n\\n[Skyler] ♪ Oh my God, I hate her ♪\\n\\n[Jayda] ♪ Sabrina’s kind of cool ♪\\n\\n[Skyler] ♪ We do not do fourth-graders ♪\\n\\n[Jayda] ♪ We make a list of friends? ♪\\n\\n[Skyler] ♪ Yes, with no weirdos on it ♪\\n\\n[Jayda] What about Summer?\\n\\n[Logan] She’s nice.\\n\\n[Skyler] Uh, vomit.\\n\\n[Kabir] ♪ Last year of elementary school ♪\\n\\n♪ This is the year people talk to me ♪\\n\\n♪ The year someone says, “How are you?” ♪\\n\\n♪ It’s been three years Since I joined the school ♪\\n\\n♪ I’m due I’d say I’m due ♪\\n\\n[male singer] ♪ We think you’re due too ♪\\n\\n[alarm clock beeping]\\n\\n[Cole W.] ♪ Five more minutes ♪\\n\\n[smart speaker] ♪ Okay, five more minutes ♪\\n\\n[Mia] ♪ I just can’t wait to go back It’s the first school day ♪\\n\\n♪ And both Mom and Dad are gonna take me there ♪\\n\\n♪ That’s not allowed in the house Is what the lawyers say ♪\\n\\n♪ But he gives me a big hug Right on the front stairs ♪\\n\\n[alarm clock beeping]\\n\\n[Cole W.] ♪ Five more minutes ♪\\n\\n[Mr. Wiseki] ♪ Cole, you have to get up On your own this year ♪\\n\\n[Cole W.] ♪ Five more minutes ♪\\n\\n[Mr. Wiseki] ♪ Okay, five more minutes ♪\\n\\n[smart speaker] Way to be strong, Dad.\\n\\n[Eli] ♪ Lessening They say my nut allergies are lessening ♪\\n\\n♪ Once the immune boosters kick in I can try the kung pao chicken ♪\\n\\n[Mrs. Salinas] ♪ Welcome, fifth graders Go right through this door ♪\\n\\n♪ ‘Cause this year your homerooms Are on the second floor ♪\\n\\n[Cole H.] The big time!\\n\\n[Mrs. Salinas] ♪ Please don’t step On the kindergartners ♪\\n\\n[kindergartners chattering chaotically]\\n\\n[Zane] ♪ Last year Of sleeping with a night light ♪\\n\\n[Jayda] ♪ Last year Of not spelling “dessert” right ♪\\n\\n[Anthony] ♪ Last year Of dominating recess ♪\\n\\n[Mia] ♪ Last year Of T-shirts with a princess ♪\\n\\n[Eli] ♪ Mom’s food at lunchtime ♪\\n\\n[Cole H.] ♪ Pockets filled with slime ♪\\n\\n[Cole W.] ♪ Of temporary tattoos ♪\\n\\n[Summer] ♪ Of dyeing my Bichon blue ♪\\n\\n[all kids] ♪ Last year And what we do in grade five ♪\\n\\n♪ Will decide the rest of our lives ♪\\n\\n[song ends]\\n\\n[drone humming]\\n\\n[indistinct chattering]\\n\\n[kindergartner babbles, thuds]\\n\\n[continues babbling]\\n\\n\\n\", start_char_idx=None, end_char_idx=None, text_template='{metadata_str}\\n\\n{content}', metadata_template='{key}: {value}', metadata_seperator='\\n')]"
            ]
          },
          "metadata": {},
          "execution_count": 9
        }
      ],
      "source": [
        "documents"
      ],
      "metadata": {
        "pycharm": {
          "name": "#%%\n"
        },
        "colab": {
          "base_uri": "https://localhost:8080/"
        },
        "id": "E0HDyZg3xyaB",
        "outputId": "83e3dffd-4b7d-43f0-9ee0-b2c8365804eb"
      }
    },
    {
      "cell_type": "code",
      "execution_count": null,
      "outputs": [],
      "source": [
        "### Creando un indice con base a los documentos\n",
        "index = VectorStoreIndex.from_documents(documents)\n",
        "query_engine = index.as_query_engine()"
      ],
      "metadata": {
        "pycharm": {
          "name": "#%%\n"
        },
        "id": "WgnddfMfxyaB"
      }
    },
    {
      "cell_type": "code",
      "execution_count": null,
      "outputs": [
        {
          "output_type": "display_data",
          "data": {
            "text/plain": [
              "<IPython.core.display.Markdown object>"
            ],
            "text/markdown": "**`Final Response:`** Leo es un lagarto y su amigo es una tortuga."
          },
          "metadata": {}
        }
      ],
      "source": [
        "## Ejecutando inferencia con Rag\n",
        "response = query_engine.query('Que tipo de animal es Leo y que tipo su amigo?')\n",
        "display_response(response)"
      ],
      "metadata": {
        "pycharm": {
          "name": "#%%\n"
        },
        "colab": {
          "base_uri": "https://localhost:8080/",
          "height": 47
        },
        "id": "Z7hk5HTkxyaB",
        "outputId": "5debc3bc-508f-4c7e-9aed-16b42bb55d81"
      }
    },
    {
      "cell_type": "markdown",
      "source": [
        "## ¿Que paso adentro?"
      ],
      "metadata": {
        "collapsed": false,
        "pycharm": {
          "name": "#%% md\n"
        },
        "id": "j2-rr5iSxyaC"
      }
    },
    {
      "cell_type": "code",
      "execution_count": null,
      "outputs": [],
      "source": [
        "response.source_nodes"
      ],
      "metadata": {
        "pycharm": {
          "name": "#%%\n"
        },
        "id": "2jKlr1YVxyaC"
      }
    },
    {
      "cell_type": "code",
      "source": [
        "for _ in response.source_nodes:\n",
        "    print('X'*50)\n",
        "    print(_.text)"
      ],
      "metadata": {
        "pycharm": {
          "name": "#%%\n"
        },
        "id": "hNF44jFfxyaC"
      },
      "execution_count": null,
      "outputs": []
    },
    {
      "cell_type": "markdown",
      "source": [
        "### Valores default - service_context"
      ],
      "metadata": {
        "collapsed": false,
        "pycharm": {
          "name": "#%% md\n"
        },
        "id": "dSEL8rjQxyaC"
      }
    },
    {
      "cell_type": "code",
      "execution_count": null,
      "outputs": [],
      "source": [
        "index.service_context"
      ],
      "metadata": {
        "pycharm": {
          "name": "#%%\n"
        },
        "id": "Eufi_Pf2xyaD"
      }
    },
    {
      "cell_type": "code",
      "execution_count": null,
      "outputs": [],
      "source": [
        "index.service_context.llm"
      ],
      "metadata": {
        "pycharm": {
          "name": "#%%\n"
        },
        "id": "w5wKWZpbxyaD"
      }
    },
    {
      "cell_type": "code",
      "execution_count": null,
      "outputs": [],
      "source": [
        "index.service_context.embed_model"
      ],
      "metadata": {
        "pycharm": {
          "name": "#%%\n"
        },
        "id": "zmu1CJBUxyaD"
      }
    },
    {
      "cell_type": "code",
      "execution_count": null,
      "outputs": [],
      "source": [
        "index.service_context.transformations"
      ],
      "metadata": {
        "pycharm": {
          "name": "#%%\n"
        },
        "id": "iowU3mkBxyaD"
      }
    },
    {
      "cell_type": "markdown",
      "source": [
        "### Valores default - service_context"
      ],
      "metadata": {
        "collapsed": false,
        "pycharm": {
          "name": "#%% md\n"
        },
        "id": "0KQuGhh-xyaD"
      }
    },
    {
      "cell_type": "code",
      "execution_count": null,
      "outputs": [],
      "source": [
        "index.storage_context"
      ],
      "metadata": {
        "pycharm": {
          "name": "#%%\n"
        },
        "id": "Ke_3s2PkxyaE"
      }
    },
    {
      "cell_type": "code",
      "execution_count": null,
      "outputs": [],
      "source": [
        "index.storage_context.vector_stores"
      ],
      "metadata": {
        "pycharm": {
          "name": "#%%\n"
        },
        "id": "Gq_SkWIAxyaE"
      }
    },
    {
      "cell_type": "markdown",
      "source": [
        "## Mejorando RAG"
      ],
      "metadata": {
        "collapsed": false,
        "pycharm": {
          "name": "#%% md\n"
        },
        "id": "SGxxVILbxyaE"
      }
    },
    {
      "cell_type": "code",
      "execution_count": null,
      "outputs": [],
      "source": [
        "import chromadb\n",
        "from llama_index.vector_stores import ChromaVectorStore\n",
        "from llama_index.embeddings import HuggingFaceEmbedding\n",
        "from llama_index.storage.storage_context import StorageContext\n",
        "from llama_index.service_context import ServiceContext\n",
        "from llama_index.prompts import PromptTemplate"
      ],
      "metadata": {
        "pycharm": {
          "name": "#%%\n"
        },
        "id": "KxZDttd0xyaE"
      }
    },
    {
      "cell_type": "markdown",
      "source": [
        "### Embeddings"
      ],
      "metadata": {
        "collapsed": false,
        "pycharm": {
          "name": "#%% md\n"
        },
        "id": "sUsDWUSqxyaE"
      }
    },
    {
      "cell_type": "code",
      "execution_count": null,
      "outputs": [
        {
          "output_type": "stream",
          "name": "stderr",
          "text": [
            "/usr/local/lib/python3.10/dist-packages/huggingface_hub/utils/_token.py:88: UserWarning: \n",
            "The secret `HF_TOKEN` does not exist in your Colab secrets.\n",
            "To authenticate with the Hugging Face Hub, create a token in your settings tab (https://huggingface.co/settings/tokens), set it as secret in your Google Colab and restart your session.\n",
            "You will be able to reuse this secret in all of your notebooks.\n",
            "Please note that authentication is recommended but still optional to access public models or datasets.\n",
            "  warnings.warn(\n"
          ]
        },
        {
          "output_type": "display_data",
          "data": {
            "text/plain": [
              "config.json:   0%|          | 0.00/777 [00:00<?, ?B/s]"
            ],
            "application/vnd.jupyter.widget-view+json": {
              "version_major": 2,
              "version_minor": 0,
              "model_id": "4f033e2e7802449eb7d6308096b3b898"
            }
          },
          "metadata": {}
        },
        {
          "output_type": "display_data",
          "data": {
            "text/plain": [
              "model.safetensors:   0%|          | 0.00/438M [00:00<?, ?B/s]"
            ],
            "application/vnd.jupyter.widget-view+json": {
              "version_major": 2,
              "version_minor": 0,
              "model_id": "cf688d1fe4134c989823b12449f11f82"
            }
          },
          "metadata": {}
        },
        {
          "output_type": "display_data",
          "data": {
            "text/plain": [
              "tokenizer_config.json:   0%|          | 0.00/366 [00:00<?, ?B/s]"
            ],
            "application/vnd.jupyter.widget-view+json": {
              "version_major": 2,
              "version_minor": 0,
              "model_id": "44ad243a77e348daa4109ac5223731f0"
            }
          },
          "metadata": {}
        },
        {
          "output_type": "display_data",
          "data": {
            "text/plain": [
              "vocab.txt:   0%|          | 0.00/232k [00:00<?, ?B/s]"
            ],
            "application/vnd.jupyter.widget-view+json": {
              "version_major": 2,
              "version_minor": 0,
              "model_id": "cfb42e5afb8848bca4bf65d4c90b276f"
            }
          },
          "metadata": {}
        },
        {
          "output_type": "display_data",
          "data": {
            "text/plain": [
              "tokenizer.json:   0%|          | 0.00/711k [00:00<?, ?B/s]"
            ],
            "application/vnd.jupyter.widget-view+json": {
              "version_major": 2,
              "version_minor": 0,
              "model_id": "ea2351b9bd0842e08a9e29d043257347"
            }
          },
          "metadata": {}
        },
        {
          "output_type": "display_data",
          "data": {
            "text/plain": [
              "special_tokens_map.json:   0%|          | 0.00/125 [00:00<?, ?B/s]"
            ],
            "application/vnd.jupyter.widget-view+json": {
              "version_major": 2,
              "version_minor": 0,
              "model_id": "bd74caea50404b98a25e739e35971e4a"
            }
          },
          "metadata": {}
        }
      ],
      "source": [
        "embed_model = HuggingFaceEmbedding(model_name=\"BAAI/bge-base-en-v1.5\")"
      ],
      "metadata": {
        "pycharm": {
          "name": "#%%\n"
        },
        "colab": {
          "base_uri": "https://localhost:8080/",
          "height": 336,
          "referenced_widgets": [
            "4f033e2e7802449eb7d6308096b3b898",
            "609ddc8c8acc451197cfafd88f54667a",
            "e5c1ff55f9c348e8b80f94ec0c1b4204",
            "e77be8d7fd9e4dc2838b476fd764cb4e",
            "01f7b853fe154039afabb28f407f9b15",
            "acb2a5f7f6e941779e17e505593b62ff",
            "2a84ad93dc2944e08d3b8243730b35ca",
            "e0a13e58b5b7496991189c22627ccb84",
            "deef9f23ed4c42eebeda47de9bf95f42",
            "1e398f8201724167987fd47397f1a11b",
            "d0d5d5e809a8438ba429cd5344bbae55",
            "cf688d1fe4134c989823b12449f11f82",
            "d56b4da30d054ef2918642b29b2550c3",
            "68e7841f4a3e42c2ab0941aeed396a72",
            "644e3ce9eb8f4f0b9890f8c7bb968c0a",
            "e569815385ca4740a0da72939c5592da",
            "8b46e2ceba134f68a4a884b947a6e68f",
            "d1faace14bcc4851891a0738220c4803",
            "cdf51f0d553e4daa821a3219c3340787",
            "2c93fe5669b24b9392676df364755117",
            "9c57a00b804d452da08cee16e6462c96",
            "78bb6a5f29ac4c81825ce7b14ea8cbc6",
            "44ad243a77e348daa4109ac5223731f0",
            "b8fc36f0a52d4d1a94831713d745d250",
            "802c29da8f464219a10b75be96914062",
            "aa851b520dcc4d1d8f68a1e10617951e",
            "89535701420644a4bc72412274d564cf",
            "8d8263bad9e44757b1871ac950b4614b",
            "56deb192831a46fbaf8f897c22f3fc36",
            "66097fad09b848a2874e2be71ef4d3ca",
            "446ac1cbe6d34e4e8332ae8b00bb85fb",
            "03dfe0a5edcb428bb8317dde8790fd22",
            "1ad08cce538742ed970c83e08b70b427",
            "cfb42e5afb8848bca4bf65d4c90b276f",
            "14fadeb9e70f4451bba55c5ba30fa700",
            "8c68e570bdcd44c8b30d7a35317edcfd",
            "9f4593e0226640c09b0e529f74b2cf48",
            "824df424846d4821832cc59604f427a6",
            "f2e2fc60a8c74111badc4205f27931af",
            "d8b29a852af64a77b68ab82269242b6e",
            "df49b064e96f4f78b5d8400e466ee162",
            "a64f45021c7149bb9a86b56256181043",
            "bb724290c51945baa5580b3ee67fc86f",
            "8bd4741736934e49a4d3b81c31ebb1b0",
            "ea2351b9bd0842e08a9e29d043257347",
            "cd774be98a7440f6a64486021ce7402a",
            "7413ab08bdfd47d2bb57f02ae84dc1b0",
            "64c405c253d9478baf635a62d37b0c1c",
            "493d8b890ce249a0884dcbd81f9fdeb6",
            "5d3d180f2edc4b278bfcca0e0398c222",
            "a3f87251ca6b4d7a8e1ea358bab491b4",
            "7909b8f7ceec4e21a5eaf350103fdd84",
            "eb6df97079da46cd8ccbbc40ae3dd001",
            "4a07705f960f40819365604fa65813cc",
            "12d3b8b3836a45c1a09c7156055346a0",
            "bd74caea50404b98a25e739e35971e4a",
            "277532ff90a14b808f8c71bc3c70a4c4",
            "18fbf92b9ae548debb91a1aa75dc11f3",
            "6099c43305fe40b78a0f86e5a6433e62",
            "53bf1139b286478f827959be8775c395",
            "49f4a435e133455b9b806088957d9410",
            "52d631bb420644a2ac90290d98b6c0be",
            "449fb0745a414cfe9069bb67fb064558",
            "ec2ec50d40194a4581442d42515f36e7",
            "0c3e608d532d41b09e16ad5c5ce969a7",
            "176df87f0da142c0b862dffdb3c15dc0"
          ]
        },
        "id": "Y8dsnvV3xyaE",
        "outputId": "71e81ef2-f177-4e69-b4eb-94bf162c219e"
      }
    },
    {
      "cell_type": "code",
      "execution_count": null,
      "outputs": [
        {
          "output_type": "execute_result",
          "data": {
            "text/plain": [
              "[-0.00570334680378437,\n",
              " -0.01947423443198204,\n",
              " -0.006114975083619356,\n",
              " 0.019936738535761833,\n",
              " 0.04330310598015785,\n",
              " 0.01746615581214428,\n",
              " 0.019677357748150826,\n",
              " 0.02935454063117504,\n",
              " -0.0069770230911672115,\n",
              " -0.0027876971289515495,\n",
              " -0.03825373202562332,\n",
              " -0.0017076019430533051,\n",
              " -0.04513166844844818,\n",
              " -0.020971370860934258,\n",
              " -0.06812335550785065,\n",
              " 0.03742658346891403,\n",
              " 0.054611653089523315,\n",
              " 0.04613518714904785,\n",
              " 0.04661178216338158,\n",
              " -0.003186027752235532,\n",
              " -0.013806985691189766,\n",
              " -0.023338153958320618,\n",
              " -0.023487892001867294,\n",
              " 0.02889632061123848,\n",
              " -0.010705280117690563,\n",
              " -0.02005843259394169,\n",
              " -0.007215529680252075,\n",
              " 0.023810869082808495,\n",
              " -0.030661674216389656,\n",
              " 0.003456145292147994,\n",
              " 0.017111387103796005,\n",
              " -0.013116071932017803,\n",
              " 0.01017843745648861,\n",
              " 0.018162302672863007,\n",
              " -0.047868240624666214,\n",
              " 0.019108984619379044,\n",
              " -0.006136000156402588,\n",
              " -0.053797680884599686,\n",
              " -0.002763370517641306,\n",
              " -0.013116060756146908,\n",
              " 0.008164050057530403,\n",
              " 0.030053621158003807,\n",
              " 0.014281785115599632,\n",
              " 0.020361220464110374,\n",
              " -0.03985122963786125,\n",
              " -0.033013179898262024,\n",
              " -0.06132134050130844,\n",
              " 0.009259071201086044,\n",
              " -0.002057875506579876,\n",
              " -0.017632052302360535,\n",
              " -0.07354810833930969,\n",
              " 0.03444628044962883,\n",
              " 0.0037738357204943895,\n",
              " 0.010723302140831947,\n",
              " -0.02576141618192196,\n",
              " 0.044769998639822006,\n",
              " -0.0778798833489418,\n",
              " -0.034541644155979156,\n",
              " -0.05786233767867088,\n",
              " -0.011406678706407547,\n",
              " 0.016873877495527267,\n",
              " 0.030954767018556595,\n",
              " 0.014518199488520622,\n",
              " -0.029576949775218964,\n",
              " 0.014228397980332375,\n",
              " -0.014360488392412663,\n",
              " 0.018992431461811066,\n",
              " 0.02936934493482113,\n",
              " -0.04359019175171852,\n",
              " -0.01111065223813057,\n",
              " -0.038369014859199524,\n",
              " 0.039339061826467514,\n",
              " -0.025000324472784996,\n",
              " -0.02052362821996212,\n",
              " 0.042966026812791824,\n",
              " -0.07254050672054291,\n",
              " 0.007417800836265087,\n",
              " 0.0409737303853035,\n",
              " -0.009151841513812542,\n",
              " 0.04934829846024513,\n",
              " -0.013544772751629353,\n",
              " 0.011178474873304367,\n",
              " 0.015985913574695587,\n",
              " 0.01366156805306673,\n",
              " 0.01043457817286253,\n",
              " -0.02746606059372425,\n",
              " 0.0006053360411897302,\n",
              " 0.0021116030402481556,\n",
              " -0.012419584207236767,\n",
              " 0.03049894981086254,\n",
              " 0.0139876464381814,\n",
              " -0.09569722414016724,\n",
              " -0.00210188003256917,\n",
              " 0.061649445444345474,\n",
              " 0.012375828810036182,\n",
              " 0.04453672468662262,\n",
              " 0.0303370151668787,\n",
              " -0.04136187583208084,\n",
              " 0.0016209870809689164,\n",
              " 0.014057657681405544,\n",
              " -0.06846356391906738,\n",
              " -0.02069300226867199,\n",
              " 0.0026537314988672733,\n",
              " -0.06672411412000656,\n",
              " -0.07730546593666077,\n",
              " -0.025817422196269035,\n",
              " 0.014059159904718399,\n",
              " -0.010618375614285469,\n",
              " -0.018147114664316177,\n",
              " 0.02934267371892929,\n",
              " -0.028500761836767197,\n",
              " -0.057179875671863556,\n",
              " 0.012082438915967941,\n",
              " -0.01104682870209217,\n",
              " -0.05357130244374275,\n",
              " 0.04095844551920891,\n",
              " 0.05454575642943382,\n",
              " 0.0116891385987401,\n",
              " -0.008199918083846569,\n",
              " 0.016480134800076485,\n",
              " 0.0007158649968914688,\n",
              " -0.0011861887760460377,\n",
              " -0.012467974796891212,\n",
              " 0.07804937660694122,\n",
              " 0.04503778740763664,\n",
              " 0.019588882103562355,\n",
              " -0.028030987828969955,\n",
              " 0.026804951950907707,\n",
              " 0.002577167237177491,\n",
              " -0.0416845977306366,\n",
              " -0.01994687132537365,\n",
              " 0.00020904868142679334,\n",
              " -0.020287437364459038,\n",
              " -0.014581266790628433,\n",
              " 0.006454916205257177,\n",
              " -0.031555552035570145,\n",
              " 0.01599562168121338,\n",
              " -0.034408703446388245,\n",
              " -0.01737171970307827,\n",
              " 0.035801000893116,\n",
              " 0.0252552293241024,\n",
              " -0.009171547368168831,\n",
              " 0.022797932848334312,\n",
              " 0.013088366016745567,\n",
              " 0.051726456731557846,\n",
              " 0.014900916256010532,\n",
              " -0.01695559173822403,\n",
              " -0.0542697049677372,\n",
              " 0.011931637302041054,\n",
              " -0.03398134186863899,\n",
              " -0.03996017947793007,\n",
              " -0.013887111097574234,\n",
              " 0.014320353046059608,\n",
              " -0.0019454860594123602,\n",
              " -0.028786642476916313,\n",
              " 0.04832933470606804,\n",
              " -0.006633674260228872,\n",
              " -0.005511896684765816,\n",
              " -0.03097907267510891,\n",
              " 0.008642924949526787,\n",
              " 0.0748748704791069,\n",
              " -0.031191386282444,\n",
              " 0.025995178148150444,\n",
              " 0.007779415231198072,\n",
              " -0.026485903188586235,\n",
              " -0.028219521045684814,\n",
              " 0.027797529473900795,\n",
              " 0.03808990865945816,\n",
              " -0.07629923522472382,\n",
              " 0.02554810605943203,\n",
              " -0.02163398079574108,\n",
              " -0.039916958659887314,\n",
              " 0.048257261514663696,\n",
              " -0.03474535793066025,\n",
              " -0.007957067340612411,\n",
              " 0.03241130709648132,\n",
              " 0.09938178956508636,\n",
              " -0.03574516624212265,\n",
              " 0.005135916173458099,\n",
              " 0.056421004235744476,\n",
              " -0.06314597278833389,\n",
              " 0.02715667337179184,\n",
              " 0.0036280930507928133,\n",
              " 0.019983835518360138,\n",
              " 0.04928598925471306,\n",
              " 0.008447560481727123,\n",
              " 0.03880756348371506,\n",
              " -0.002626128727570176,\n",
              " 0.0058492147363722324,\n",
              " -0.011108111590147018,\n",
              " -0.0508822463452816,\n",
              " -0.07129151374101639,\n",
              " 0.007211156189441681,\n",
              " 0.012730993330478668,\n",
              " 0.056177809834480286,\n",
              " -0.05229947715997696,\n",
              " -0.020205851644277573,\n",
              " -0.006016462109982967,\n",
              " -0.008949347771704197,\n",
              " 0.010929977521300316,\n",
              " -0.05393870547413826,\n",
              " 0.002456787507981062,\n",
              " 0.07219401746988297,\n",
              " 0.0070168930105865,\n",
              " -0.019243452697992325,\n",
              " 0.04946407303214073,\n",
              " 0.01614791713654995,\n",
              " 0.018490884453058243,\n",
              " -0.007572203408926725,\n",
              " 0.05899158865213394,\n",
              " -0.024202661588788033,\n",
              " 0.02419293113052845,\n",
              " 0.1033288985490799,\n",
              " 0.0012940008891746402,\n",
              " 0.025380121544003487,\n",
              " -0.012063464149832726,\n",
              " 0.004594615660607815,\n",
              " -0.04927060380578041,\n",
              " -0.009453042410314083,\n",
              " -0.0035502088721841574,\n",
              " -0.0031169778667390347,\n",
              " -0.017152251675724983,\n",
              " -0.03248943015933037,\n",
              " -0.0037514897994697094,\n",
              " 0.018227403983473778,\n",
              " 0.06463195383548737,\n",
              " 0.07042772322893143,\n",
              " -0.038953207433223724,\n",
              " 0.033294595777988434,\n",
              " -0.0274712685495615,\n",
              " 0.05163613706827164,\n",
              " -0.02610628679394722,\n",
              " 0.05874714255332947,\n",
              " 0.045319296419620514,\n",
              " -0.025470910593867302,\n",
              " 0.017828023061156273,\n",
              " 0.006300382781773806,\n",
              " -0.04257015138864517,\n",
              " 0.05108606442809105,\n",
              " -0.029934829100966454,\n",
              " -0.0395391471683979,\n",
              " 0.05985262244939804,\n",
              " 0.013623078353703022,\n",
              " 0.056043557822704315,\n",
              " -0.000550197612028569,\n",
              " 0.003920546732842922,\n",
              " 0.011515939608216286,\n",
              " -0.029186692088842392,\n",
              " -0.024666326120495796,\n",
              " 0.02038150653243065,\n",
              " 0.0003191576979588717,\n",
              " -0.02391628921031952,\n",
              " 0.052074067294597626,\n",
              " -0.015356172807514668,\n",
              " -0.010083617642521858,\n",
              " -0.06345585733652115,\n",
              " 0.013099049217998981,\n",
              " -0.026759741827845573,\n",
              " 0.0473574735224247,\n",
              " 0.000502275419421494,\n",
              " -0.00994822196662426,\n",
              " 0.024708716198801994,\n",
              " -0.006059560924768448,\n",
              " 0.03352313116192818,\n",
              " -0.03581582382321358,\n",
              " -0.059304606169462204,\n",
              " -0.058038998395204544,\n",
              " 0.026588033884763718,\n",
              " -0.017653444781899452,\n",
              " -0.03192868456244469,\n",
              " 0.027424614876508713,\n",
              " 0.06773150712251663,\n",
              " 0.0038947451394051313,\n",
              " -0.025427961722016335,\n",
              " 0.01265267189592123,\n",
              " 0.07734978944063187,\n",
              " 0.053342077881097794,\n",
              " 0.021805597469210625,\n",
              " 0.013051026500761509,\n",
              " -0.07270609587430954,\n",
              " -0.012174547649919987,\n",
              " 0.05269342660903931,\n",
              " -0.037251561880111694,\n",
              " -0.04247460886836052,\n",
              " -0.030233819037675858,\n",
              " -0.07008057832717896,\n",
              " 0.03878214582800865,\n",
              " -0.05990396812558174,\n",
              " -0.06467825174331665,\n",
              " -0.012232785113155842,\n",
              " 0.019254185259342194,\n",
              " 0.027455946430563927,\n",
              " 0.057348717004060745,\n",
              " -0.01008360181003809,\n",
              " -0.06776445358991623,\n",
              " -0.06422305852174759,\n",
              " 0.06383209675550461,\n",
              " 0.008266258984804153,\n",
              " 0.022085759788751602,\n",
              " 0.027867158874869347,\n",
              " 0.05845244973897934,\n",
              " 0.004730170592665672,\n",
              " 0.025244925171136856,\n",
              " 0.03570759296417236,\n",
              " 0.056169815361499786,\n",
              " -0.03142738714814186,\n",
              " 0.03743702918291092,\n",
              " -0.01159138884395361,\n",
              " -0.20066773891448975,\n",
              " 0.043165817856788635,\n",
              " -0.03219803050160408,\n",
              " -0.0323067381978035,\n",
              " 0.020867642015218735,\n",
              " -0.0654994547367096,\n",
              " 0.030964264646172523,\n",
              " 0.013441942632198334,\n",
              " -0.029578207060694695,\n",
              " -0.005429659970104694,\n",
              " -0.035656098276376724,\n",
              " -0.0031246456783264875,\n",
              " 0.029709788039326668,\n",
              " 0.023722007870674133,\n",
              " 0.0033410252071917057,\n",
              " 0.0028086411766707897,\n",
              " -0.06570474803447723,\n",
              " -0.032303761690855026,\n",
              " 0.003374923951923847,\n",
              " 0.019839877262711525,\n",
              " -0.017992697656154633,\n",
              " -0.03034980036318302,\n",
              " -0.026010507717728615,\n",
              " 0.09170875698328018,\n",
              " -0.006394941825419664,\n",
              " 0.0036112030502408743,\n",
              " 0.020278269425034523,\n",
              " -0.039559394121170044,\n",
              " -0.044686004519462585,\n",
              " -0.027986999601125717,\n",
              " -0.00532433670014143,\n",
              " 0.00755052687600255,\n",
              " -0.031851015985012054,\n",
              " 0.006455527618527412,\n",
              " 0.05327123403549194,\n",
              " 0.03824653476476669,\n",
              " 0.030637431889772415,\n",
              " -0.06292803585529327,\n",
              " -0.026218922808766365,\n",
              " 0.0025348253548145294,\n",
              " 0.005448861513286829,\n",
              " -0.06188681721687317,\n",
              " 0.012416772544384003,\n",
              " 0.017336953431367874,\n",
              " 0.01800561137497425,\n",
              " 0.018880246207118034,\n",
              " -0.03834077715873718,\n",
              " -0.0572783537209034,\n",
              " -0.005994362290948629,\n",
              " 0.07954678684473038,\n",
              " -0.04083158075809479,\n",
              " -0.00593585567548871,\n",
              " -0.0321984626352787,\n",
              " -0.014519105665385723,\n",
              " 0.06276995688676834,\n",
              " 0.04600799083709717,\n",
              " 0.03278922662138939,\n",
              " -0.010254118591547012,\n",
              " -0.009155547246336937,\n",
              " 0.005128078628331423,\n",
              " 0.021138405427336693,\n",
              " -0.04150126501917839,\n",
              " -0.022511370480060577,\n",
              " -0.0918707400560379,\n",
              " -0.04137171432375908,\n",
              " -0.029857521876692772,\n",
              " -0.00018619037291500717,\n",
              " -0.045335810631513596,\n",
              " 0.0445270873606205,\n",
              " -0.0012095187557861209,\n",
              " 0.010938664898276329,\n",
              " 0.04965478554368019,\n",
              " -0.003955068998038769,\n",
              " -0.073798269033432,\n",
              " -0.05676102265715599,\n",
              " 0.001290834741666913,\n",
              " -0.037285372614860535,\n",
              " -0.0007261647842824459,\n",
              " -0.007265463937073946,\n",
              " 0.032150235027074814,\n",
              " -0.03224688395857811,\n",
              " -0.010174314491450787,\n",
              " -0.00819066446274519,\n",
              " -0.004535880871117115,\n",
              " -0.024535812437534332,\n",
              " 0.0029904532711952925,\n",
              " 0.03374103084206581,\n",
              " -0.05863715708255768,\n",
              " -0.020657368004322052,\n",
              " 0.004154717084020376,\n",
              " 0.06201932951807976,\n",
              " 0.008118622936308384,\n",
              " -0.015404938720166683,\n",
              " 0.002468739403411746,\n",
              " 0.02917315438389778,\n",
              " 0.03931398689746857,\n",
              " 0.0066868155263364315,\n",
              " -0.04704532399773598,\n",
              " -0.012030057609081268,\n",
              " 0.00219848845154047,\n",
              " 0.04287727549672127,\n",
              " -0.035171087831258774,\n",
              " 0.02822268381714821,\n",
              " 0.005156139377504587,\n",
              " 0.02528338134288788,\n",
              " -0.032513782382011414,\n",
              " 0.005997077561914921,\n",
              " 0.028187837451696396,\n",
              " 0.043283045291900635,\n",
              " -0.02700849063694477,\n",
              " 0.030286869034171104,\n",
              " -0.04887776076793671,\n",
              " 0.029859021306037903,\n",
              " -0.027378154918551445,\n",
              " 0.0026270654052495956,\n",
              " -0.03900721296668053,\n",
              " 0.044596150517463684,\n",
              " 0.016265258193016052,\n",
              " 0.03209380432963371,\n",
              " 0.01845443993806839,\n",
              " -0.026891889050602913,\n",
              " 0.025011355057358742,\n",
              " -0.012718473561108112,\n",
              " -0.031388163566589355,\n",
              " -0.10497216135263443,\n",
              " -0.012525449506938457,\n",
              " -0.006193021312355995,\n",
              " -0.027078408747911453,\n",
              " -0.03081171214580536,\n",
              " -0.007835558615624905,\n",
              " 0.004617586266249418,\n",
              " 0.014371632598340511,\n",
              " 0.03521145135164261,\n",
              " 0.0035922203678637743,\n",
              " 0.03721513971686363,\n",
              " 0.034841280430555344,\n",
              " -0.0303952656686306,\n",
              " -0.09687770903110504,\n",
              " 0.07512015849351883,\n",
              " -0.04193301126360893,\n",
              " -0.05841834098100662,\n",
              " 0.031305741518735886,\n",
              " -0.024852028116583824,\n",
              " 0.006566599942743778,\n",
              " 0.001997150480747223,\n",
              " 0.008226814679801464,\n",
              " -0.055611688643693924,\n",
              " -0.07681296765804291,\n",
              " -0.005791535601019859,\n",
              " 0.0676446184515953,\n",
              " 0.02864469774067402,\n",
              " -0.010707915760576725,\n",
              " 0.0010466299718245864,\n",
              " -0.023456374183297157,\n",
              " -0.025688979774713516,\n",
              " -0.022677922621369362,\n",
              " 0.044025734066963196,\n",
              " 0.015570860356092453,\n",
              " -0.011940582655370235,\n",
              " -0.0022101111244410276,\n",
              " -0.00778118846938014,\n",
              " -0.02872072532773018,\n",
              " 0.018785828724503517,\n",
              " 0.028087250888347626,\n",
              " -0.029351457953453064,\n",
              " 0.06412896513938904,\n",
              " 0.009630939923226833,\n",
              " -0.09355036169290543,\n",
              " -0.013919012621045113,\n",
              " 0.010595844127237797,\n",
              " -0.007772103883326054,\n",
              " 0.010263821110129356,\n",
              " -0.028042305260896683,\n",
              " 0.018598152324557304,\n",
              " -0.015592960640788078,\n",
              " -0.04314048960804939,\n",
              " -0.0034352289512753487,\n",
              " 0.011107955127954483,\n",
              " 0.04483892023563385,\n",
              " 0.025764066725969315,\n",
              " -0.009223329834640026,\n",
              " -0.012919154018163681,\n",
              " -0.014498689211905003,\n",
              " -0.03195949271321297,\n",
              " 0.06151861324906349,\n",
              " 0.01760154962539673,\n",
              " 0.01529201865196228,\n",
              " -0.06451188772916794,\n",
              " 0.02525508403778076,\n",
              " -0.008361407555639744,\n",
              " -0.025903915986418724,\n",
              " 0.09103042632341385,\n",
              " -0.01061802264302969,\n",
              " -0.00584963895380497,\n",
              " -0.03173569589853287,\n",
              " -0.07355032861232758,\n",
              " 0.007577670272439718,\n",
              " 0.02895142138004303,\n",
              " 0.03311396390199661,\n",
              " 0.05057438835501671,\n",
              " -0.019178146496415138,\n",
              " 0.024267451837658882,\n",
              " -0.022178635001182556,\n",
              " 0.008359195664525032,\n",
              " -0.012019380927085876,\n",
              " -0.04563217610120773,\n",
              " 0.057471465319395065,\n",
              " 0.0058107818476855755,\n",
              " -0.04364221170544624,\n",
              " -0.0026972617488354445,\n",
              " -0.0014295789878815413,\n",
              " -0.0607791431248188,\n",
              " -0.05150403082370758,\n",
              " -0.01953214593231678,\n",
              " 0.04168985038995743,\n",
              " -0.029526758939027786,\n",
              " 0.010028763674199581,\n",
              " -0.010638014413416386,\n",
              " -0.03756618872284889,\n",
              " -0.007216393947601318,\n",
              " 0.0158991701900959,\n",
              " -0.01942145638167858,\n",
              " -0.0013399909948930144,\n",
              " 0.026592610403895378,\n",
              " -0.026861825957894325,\n",
              " 0.03744828701019287,\n",
              " 0.0076795658096671104,\n",
              " -0.0023305865470319986,\n",
              " 0.05019007995724678,\n",
              " -0.016784118488430977,\n",
              " 0.042177725583314896,\n",
              " -0.013154235668480396,\n",
              " -0.004008994437754154,\n",
              " 0.04411096125841141,\n",
              " -0.06633002310991287,\n",
              " 0.017315857112407684,\n",
              " -0.021152064204216003,\n",
              " -0.030428726226091385,\n",
              " -0.011857360601425171,\n",
              " 0.059461358934640884,\n",
              " 0.02381458505988121,\n",
              " 0.022018510848283768,\n",
              " 0.03792942315340042,\n",
              " -0.018290167674422264,\n",
              " 0.01489900890737772,\n",
              " 0.0402853824198246,\n",
              " -0.0093033192679286,\n",
              " -0.0616716593503952,\n",
              " -0.005468226037919521,\n",
              " -0.004403376951813698,\n",
              " -0.021965013816952705,\n",
              " -0.004028144758194685,\n",
              " 0.02944343164563179,\n",
              " 0.041052065789699554,\n",
              " 0.012862789444625378,\n",
              " -0.0025029995013028383,\n",
              " -0.04931669682264328,\n",
              " 0.09195534884929657,\n",
              " -0.06854170560836792,\n",
              " 0.019559530541300774,\n",
              " 0.0522177554666996,\n",
              " -0.02287442423403263,\n",
              " -0.029186658561229706,\n",
              " 0.025467688217759132,\n",
              " 0.021199364215135574,\n",
              " 0.02969597466289997,\n",
              " 0.05994226410984993,\n",
              " 0.03832107409834862,\n",
              " 0.028448300436139107,\n",
              " 0.008623037487268448,\n",
              " 0.025926241651177406,\n",
              " -0.04273621737957001,\n",
              " 0.03493897616863251,\n",
              " 0.017506927251815796,\n",
              " -0.025515127927064896,\n",
              " 0.018303245306015015,\n",
              " -0.03664451465010643,\n",
              " -0.054669175297021866,\n",
              " 0.015157511457800865,\n",
              " -0.06602022051811218,\n",
              " -0.0047461423091590405,\n",
              " 0.03947414457798004,\n",
              " 0.010764663107693195,\n",
              " 0.014751858077943325,\n",
              " -0.0007735326653346419,\n",
              " -0.011664528399705887,\n",
              " 0.0005388000863604248,\n",
              " 0.0021931359078735113,\n",
              " -0.04979650676250458,\n",
              " 0.07166258990764618,\n",
              " -0.008952541276812553,\n",
              " 0.038869574666023254,\n",
              " 0.026617618277668953,\n",
              " 0.013921049423515797,\n",
              " 0.04984987899661064,\n",
              " -0.009946726262569427,\n",
              " 0.057992465794086456,\n",
              " 0.030354829505085945,\n",
              " -0.0015685833059251308,\n",
              " -0.003708059433847666,\n",
              " -0.05440053716301918,\n",
              " 0.044369228184223175,\n",
              " -0.003330690786242485,\n",
              " -0.03429974988102913,\n",
              " -0.008767270483076572,\n",
              " 0.011241359636187553,\n",
              " 0.01502734050154686,\n",
              " -0.03361039608716965,\n",
              " -0.016239088028669357,\n",
              " 0.02303108014166355,\n",
              " -0.04796544089913368,\n",
              " -0.07220187038183212,\n",
              " 0.011959177441895008,\n",
              " 0.06446213275194168,\n",
              " -0.023412009701132774,\n",
              " 0.0345146507024765,\n",
              " -0.01918361708521843,\n",
              " -0.0190195944160223,\n",
              " -0.01869887299835682,\n",
              " 0.014972658827900887,\n",
              " 0.06072351336479187,\n",
              " -0.04220307618379593,\n",
              " 0.04437258467078209,\n",
              " -0.017253566533327103,\n",
              " 0.02541121281683445,\n",
              " -0.0008789599523879588,\n",
              " -0.055328186601400375,\n",
              " 0.024367913603782654,\n",
              " 0.012168856337666512,\n",
              " 0.05919899791479111,\n",
              " -0.0009624108206480742,\n",
              " 0.05553700774908066,\n",
              " 0.02848884090781212,\n",
              " 0.050708506256341934,\n",
              " 0.023480363190174103,\n",
              " -0.02368619665503502,\n",
              " -0.004070451017469168,\n",
              " -0.04059857875108719,\n",
              " -0.016987575218081474,\n",
              " 0.051779650151729584,\n",
              " -0.027909034863114357,\n",
              " 0.03487953171133995,\n",
              " -0.05754596367478371,\n",
              " 0.0562736950814724,\n",
              " -0.002838568761944771,\n",
              " -0.04075000435113907,\n",
              " 0.0037806350737810135,\n",
              " -0.03543306887149811,\n",
              " 0.010745582170784473,\n",
              " -0.011488690041005611,\n",
              " 0.03995665907859802,\n",
              " 0.049546778202056885,\n",
              " -0.042389050126075745,\n",
              " -0.058518391102552414,\n",
              " 0.03155505657196045,\n",
              " -0.01570986583828926,\n",
              " -0.04796722158789635,\n",
              " 0.0451672188937664,\n",
              " -0.07293671369552612,\n",
              " 0.005139142274856567,\n",
              " -0.028163565322756767,\n",
              " 0.03180009126663208,\n",
              " 0.06862737983465195,\n",
              " -0.03427564352750778,\n",
              " -0.001712627476081252,\n",
              " 0.0337870791554451,\n",
              " 0.007782788015902042,\n",
              " 0.0028748493641614914,\n",
              " 0.021701816469430923,\n",
              " -0.0031124844681471586,\n",
              " -0.03772403299808502,\n",
              " 0.02280300483107567,\n",
              " -0.010433414950966835,\n",
              " 0.035197895020246506,\n",
              " 0.013411046005785465,\n",
              " 0.0007220844272524118,\n",
              " 0.02362980879843235,\n",
              " -0.004209968261420727,\n",
              " -0.024612849578261375,\n",
              " 0.02543831244111061,\n",
              " -0.03528492525219917,\n",
              " 0.011981893330812454,\n",
              " -0.06410416215658188,\n",
              " -0.0002494612999726087,\n",
              " -0.028920816257596016,\n",
              " -0.03741266950964928,\n",
              " -0.0006795988883823156,\n",
              " 0.0016381406458094716,\n",
              " 0.01792953722178936,\n",
              " -0.05628829076886177,\n",
              " 0.05195493996143341,\n",
              " -0.06020483747124672,\n",
              " 0.04503873735666275,\n",
              " 0.010936340317130089,\n",
              " -0.01885415054857731,\n",
              " -0.03325203061103821,\n",
              " 0.03603520616889,\n",
              " 0.033498916774988174,\n",
              " -0.008331038989126682,\n",
              " 0.005986070726066828,\n",
              " 0.08154220879077911,\n",
              " 0.016684161499142647,\n",
              " -0.026379408314824104,\n",
              " -0.04982033744454384,\n",
              " 0.024835951626300812,\n",
              " -0.0020654918625950813,\n",
              " -0.007557321339845657,\n",
              " -0.007583084050565958,\n",
              " -0.08122577518224716,\n",
              " 0.00015013705706223845,\n",
              " 0.04669652879238129,\n",
              " -0.040348902344703674,\n",
              " -0.06420863419771194,\n",
              " 8.460240496788174e-05,\n",
              " 0.006695096846669912,\n",
              " 0.048864223062992096,\n",
              " 0.049429479986429214,\n",
              " -0.022730518132448196,\n",
              " -0.034372780472040176,\n",
              " -0.012975078076124191,\n",
              " 0.020212063565850258,\n",
              " -0.04160220921039581,\n",
              " -0.0045418464578688145,\n",
              " 0.010120752267539501,\n",
              " -0.012890463694930077,\n",
              " 0.0276420209556818,\n",
              " 0.021799998357892036,\n",
              " 0.0024708567652851343,\n",
              " -0.054222170263528824,\n",
              " 0.0638371929526329,\n",
              " 0.04856134578585625,\n",
              " 0.04179316386580467,\n",
              " -0.0015246643451973796,\n",
              " -0.0006288909935392439,\n",
              " -0.0008422532700933516,\n",
              " -0.0710332840681076,\n",
              " 0.0011627950007095933,\n",
              " 0.017753643915057182,\n",
              " 0.028369106352329254,\n",
              " -0.07550710439682007,\n",
              " 0.02778349258005619,\n",
              " -0.05008045211434364,\n",
              " 0.04771227017045021,\n",
              " 0.02208796702325344,\n",
              " -0.04145776480436325,\n",
              " -0.033823367208242416,\n",
              " 0.003474558936432004,\n",
              " 0.006801389157772064,\n",
              " -0.07808252424001694,\n",
              " -0.011795593425631523,\n",
              " 0.02858790010213852,\n",
              " 0.0327225960791111,\n",
              " -0.0013671601191163063,\n",
              " -0.0025737083051353693,\n",
              " -0.02649346925318241,\n",
              " -0.016215121373534203,\n",
              " -0.0037388107739388943,\n",
              " -0.033663008362054825,\n",
              " 0.04234198108315468,\n",
              " 0.023128898814320564]"
            ]
          },
          "metadata": {},
          "execution_count": 23
        }
      ],
      "source": [
        "test_emeds = embed_model.get_text_embedding(\"Que tipo de animal es Leo y que tipo su amigo?\")\n",
        "test_emeds"
      ],
      "metadata": {
        "pycharm": {
          "name": "#%%\n"
        },
        "colab": {
          "base_uri": "https://localhost:8080/"
        },
        "id": "o5J1U8BHxyaE",
        "outputId": "002466d8-b141-4ed9-fdef-098176066550"
      }
    },
    {
      "cell_type": "markdown",
      "source": [
        "### LLM"
      ],
      "metadata": {
        "collapsed": false,
        "pycharm": {
          "name": "#%% md\n"
        },
        "id": "knJGCxsrxyaF"
      }
    },
    {
      "cell_type": "code",
      "execution_count": null,
      "outputs": [],
      "source": [
        "llm = Gemini(temperature=0.2, model=\"gemini-pro\")"
      ],
      "metadata": {
        "pycharm": {
          "name": "#%%\n"
        },
        "id": "l3-VggduxyaF"
      }
    },
    {
      "cell_type": "markdown",
      "source": [
        "### Database"
      ],
      "metadata": {
        "collapsed": false,
        "pycharm": {
          "name": "#%% md\n"
        },
        "id": "JJ_ME8DcxyaF"
      }
    },
    {
      "cell_type": "code",
      "execution_count": null,
      "outputs": [],
      "source": [
        "db = chromadb.PersistentClient(path=\"./chroma_db_HF\")\n",
        "\n",
        "# create collection\n",
        "chroma_collection = db.get_or_create_collection(\"Leo_netflix\")\n",
        "\n",
        "# assign chroma as the vector_store to the context\n",
        "vector_store = ChromaVectorStore(chroma_collection=chroma_collection)"
      ],
      "metadata": {
        "pycharm": {
          "name": "#%%\n"
        },
        "id": "Mm21QyyHxyaF"
      }
    },
    {
      "cell_type": "markdown",
      "source": [
        "## Creando index mejorado"
      ],
      "metadata": {
        "collapsed": false,
        "pycharm": {
          "name": "#%% md\n"
        },
        "id": "ITQiV0wbxyaF"
      }
    },
    {
      "cell_type": "code",
      "execution_count": null,
      "outputs": [],
      "source": [
        "### Seteando el service context y el storage context cambiando los valores default\n",
        "svc = ServiceContext.from_defaults(embed_model=embed_model,llm=llm)\n",
        "stc = StorageContext.from_defaults(vector_store=vector_store)"
      ],
      "metadata": {
        "pycharm": {
          "name": "#%%\n"
        },
        "id": "eUmD0G8fxyaF"
      }
    },
    {
      "cell_type": "code",
      "execution_count": null,
      "outputs": [],
      "source": [
        "## Creando un nuevo index\n",
        "index = VectorStoreIndex.from_documents(\n",
        "    documents, storage_context=stc, service_context=svc\n",
        ")"
      ],
      "metadata": {
        "pycharm": {
          "name": "#%%\n"
        },
        "id": "taaUbl1mxyaF"
      }
    },
    {
      "cell_type": "code",
      "execution_count": null,
      "outputs": [],
      "source": [
        "query_engine = index.as_query_engine()"
      ],
      "metadata": {
        "pycharm": {
          "name": "#%%\n"
        },
        "id": "M32gDa-oxyaF"
      }
    },
    {
      "cell_type": "markdown",
      "source": [
        "### Cambiemos el template del LLM"
      ],
      "metadata": {
        "collapsed": false,
        "pycharm": {
          "name": "#%% md\n"
        },
        "id": "QFEXwGWFxyaG"
      }
    },
    {
      "cell_type": "code",
      "execution_count": null,
      "outputs": [],
      "source": [
        "template = (\n",
        "    \"Dado el contexto que te proporcionare responde las preguntas \\n\"\n",
        "    \"Contexto:\\n\"\n",
        "    \"################################\\n\"\n",
        "    \"{context_str}\"\n",
        "    \"################################\\n\"\n",
        "    \"Responde en español como si fueras un pirata: {query_str}\\n\"\n",
        ")\n",
        "qa_template = PromptTemplate(template)\n",
        "query_engine.update_prompts(\n",
        "    {\"response_synthesizer:text_qa_template\": qa_template}\n",
        ")"
      ],
      "metadata": {
        "pycharm": {
          "name": "#%%\n"
        },
        "id": "EeT7KGbfxyaG"
      }
    },
    {
      "cell_type": "markdown",
      "source": [
        "## Ejecutando el modelo con RAG"
      ],
      "metadata": {
        "collapsed": false,
        "pycharm": {
          "name": "#%% md\n"
        },
        "id": "nkZM4lkhxyaG"
      }
    },
    {
      "cell_type": "code",
      "execution_count": null,
      "outputs": [
        {
          "output_type": "display_data",
          "data": {
            "text/plain": [
              "<IPython.core.display.Markdown object>"
            ],
            "text/markdown": "**`Final Response:`** Leo es una lagartija y su amigo es una tortuga."
          },
          "metadata": {}
        }
      ],
      "source": [
        "response = query_engine.query('Que tipo de animal es Leo y que tipo su amigo?')\n",
        "display_response(response)"
      ],
      "metadata": {
        "pycharm": {
          "name": "#%%\n"
        },
        "colab": {
          "base_uri": "https://localhost:8080/",
          "height": 47
        },
        "id": "jQQX-slnxyaG",
        "outputId": "68c2f7aa-ac95-4db7-ef7d-d498693ac81b"
      }
    },
    {
      "cell_type": "code",
      "execution_count": null,
      "outputs": [
        {
          "output_type": "display_data",
          "data": {
            "text/plain": [
              "<IPython.core.display.Markdown object>"
            ],
            "text/markdown": "**`Final Response:`** ¡Arrr, marinero! El sueño de Leo es ver el mundo, navegar por los siete mares y explorar tierras lejanas. Quiere vivir aventuras y conocer nuevas culturas. ¡Es un espíritu libre que busca el horizonte!"
          },
          "metadata": {}
        }
      ],
      "source": [
        "response = query_engine.query('Cual es el sueño de Leo?')\n",
        "display_response(response)"
      ],
      "metadata": {
        "pycharm": {
          "name": "#%%\n"
        },
        "colab": {
          "base_uri": "https://localhost:8080/",
          "height": 64
        },
        "id": "rj3dk5klxyaQ",
        "outputId": "db825f13-c42f-4197-b208-25b96f2f95e2"
      }
    },
    {
      "cell_type": "code",
      "execution_count": null,
      "outputs": [
        {
          "output_type": "display_data",
          "data": {
            "text/plain": [
              "<IPython.core.display.Markdown object>"
            ],
            "text/markdown": "**`Final Response:`** ¡Arrr, camarada! Los niños son amigos de Leo porque él es un lagarto sabio y amable que siempre está dispuesto a ayudarlos. Leo los escucha cuando tienen problemas y les da consejos sabios. También los hace reír y los ayuda a sentirse mejor consigo mismos. ¡Leo es un verdadero tesoro para estos niños!"
          },
          "metadata": {}
        }
      ],
      "source": [
        "response = query_engine.query('Porque los niños son amigos de Leo')\n",
        "display_response(response)"
      ],
      "metadata": {
        "pycharm": {
          "name": "#%%\n"
        },
        "colab": {
          "base_uri": "https://localhost:8080/",
          "height": 81
        },
        "id": "fr_JAyaixyaQ",
        "outputId": "e0e8b402-3e0f-424d-f976-8776c8092e4b"
      }
    }
  ],
  "metadata": {
    "kernelspec": {
      "display_name": "Python 3",
      "language": "python",
      "name": "python3"
    },
    "language_info": {
      "codemirror_mode": {
        "name": "ipython",
        "version": 2
      },
      "file_extension": ".py",
      "mimetype": "text/x-python",
      "name": "python",
      "nbconvert_exporter": "python",
      "pygments_lexer": "ipython2",
      "version": "2.7.6"
    },
    "colab": {
      "provenance": [],
      "include_colab_link": true
    },
    "widgets": {
      "application/vnd.jupyter.widget-state+json": {
        "4f033e2e7802449eb7d6308096b3b898": {
          "model_module": "@jupyter-widgets/controls",
          "model_name": "HBoxModel",
          "model_module_version": "1.5.0",
          "state": {
            "_dom_classes": [],
            "_model_module": "@jupyter-widgets/controls",
            "_model_module_version": "1.5.0",
            "_model_name": "HBoxModel",
            "_view_count": null,
            "_view_module": "@jupyter-widgets/controls",
            "_view_module_version": "1.5.0",
            "_view_name": "HBoxView",
            "box_style": "",
            "children": [
              "IPY_MODEL_609ddc8c8acc451197cfafd88f54667a",
              "IPY_MODEL_e5c1ff55f9c348e8b80f94ec0c1b4204",
              "IPY_MODEL_e77be8d7fd9e4dc2838b476fd764cb4e"
            ],
            "layout": "IPY_MODEL_01f7b853fe154039afabb28f407f9b15"
          }
        },
        "609ddc8c8acc451197cfafd88f54667a": {
          "model_module": "@jupyter-widgets/controls",
          "model_name": "HTMLModel",
          "model_module_version": "1.5.0",
          "state": {
            "_dom_classes": [],
            "_model_module": "@jupyter-widgets/controls",
            "_model_module_version": "1.5.0",
            "_model_name": "HTMLModel",
            "_view_count": null,
            "_view_module": "@jupyter-widgets/controls",
            "_view_module_version": "1.5.0",
            "_view_name": "HTMLView",
            "description": "",
            "description_tooltip": null,
            "layout": "IPY_MODEL_acb2a5f7f6e941779e17e505593b62ff",
            "placeholder": "​",
            "style": "IPY_MODEL_2a84ad93dc2944e08d3b8243730b35ca",
            "value": "config.json: 100%"
          }
        },
        "e5c1ff55f9c348e8b80f94ec0c1b4204": {
          "model_module": "@jupyter-widgets/controls",
          "model_name": "FloatProgressModel",
          "model_module_version": "1.5.0",
          "state": {
            "_dom_classes": [],
            "_model_module": "@jupyter-widgets/controls",
            "_model_module_version": "1.5.0",
            "_model_name": "FloatProgressModel",
            "_view_count": null,
            "_view_module": "@jupyter-widgets/controls",
            "_view_module_version": "1.5.0",
            "_view_name": "ProgressView",
            "bar_style": "success",
            "description": "",
            "description_tooltip": null,
            "layout": "IPY_MODEL_e0a13e58b5b7496991189c22627ccb84",
            "max": 777,
            "min": 0,
            "orientation": "horizontal",
            "style": "IPY_MODEL_deef9f23ed4c42eebeda47de9bf95f42",
            "value": 777
          }
        },
        "e77be8d7fd9e4dc2838b476fd764cb4e": {
          "model_module": "@jupyter-widgets/controls",
          "model_name": "HTMLModel",
          "model_module_version": "1.5.0",
          "state": {
            "_dom_classes": [],
            "_model_module": "@jupyter-widgets/controls",
            "_model_module_version": "1.5.0",
            "_model_name": "HTMLModel",
            "_view_count": null,
            "_view_module": "@jupyter-widgets/controls",
            "_view_module_version": "1.5.0",
            "_view_name": "HTMLView",
            "description": "",
            "description_tooltip": null,
            "layout": "IPY_MODEL_1e398f8201724167987fd47397f1a11b",
            "placeholder": "​",
            "style": "IPY_MODEL_d0d5d5e809a8438ba429cd5344bbae55",
            "value": " 777/777 [00:00&lt;00:00, 30.1kB/s]"
          }
        },
        "01f7b853fe154039afabb28f407f9b15": {
          "model_module": "@jupyter-widgets/base",
          "model_name": "LayoutModel",
          "model_module_version": "1.2.0",
          "state": {
            "_model_module": "@jupyter-widgets/base",
            "_model_module_version": "1.2.0",
            "_model_name": "LayoutModel",
            "_view_count": null,
            "_view_module": "@jupyter-widgets/base",
            "_view_module_version": "1.2.0",
            "_view_name": "LayoutView",
            "align_content": null,
            "align_items": null,
            "align_self": null,
            "border": null,
            "bottom": null,
            "display": null,
            "flex": null,
            "flex_flow": null,
            "grid_area": null,
            "grid_auto_columns": null,
            "grid_auto_flow": null,
            "grid_auto_rows": null,
            "grid_column": null,
            "grid_gap": null,
            "grid_row": null,
            "grid_template_areas": null,
            "grid_template_columns": null,
            "grid_template_rows": null,
            "height": null,
            "justify_content": null,
            "justify_items": null,
            "left": null,
            "margin": null,
            "max_height": null,
            "max_width": null,
            "min_height": null,
            "min_width": null,
            "object_fit": null,
            "object_position": null,
            "order": null,
            "overflow": null,
            "overflow_x": null,
            "overflow_y": null,
            "padding": null,
            "right": null,
            "top": null,
            "visibility": null,
            "width": null
          }
        },
        "acb2a5f7f6e941779e17e505593b62ff": {
          "model_module": "@jupyter-widgets/base",
          "model_name": "LayoutModel",
          "model_module_version": "1.2.0",
          "state": {
            "_model_module": "@jupyter-widgets/base",
            "_model_module_version": "1.2.0",
            "_model_name": "LayoutModel",
            "_view_count": null,
            "_view_module": "@jupyter-widgets/base",
            "_view_module_version": "1.2.0",
            "_view_name": "LayoutView",
            "align_content": null,
            "align_items": null,
            "align_self": null,
            "border": null,
            "bottom": null,
            "display": null,
            "flex": null,
            "flex_flow": null,
            "grid_area": null,
            "grid_auto_columns": null,
            "grid_auto_flow": null,
            "grid_auto_rows": null,
            "grid_column": null,
            "grid_gap": null,
            "grid_row": null,
            "grid_template_areas": null,
            "grid_template_columns": null,
            "grid_template_rows": null,
            "height": null,
            "justify_content": null,
            "justify_items": null,
            "left": null,
            "margin": null,
            "max_height": null,
            "max_width": null,
            "min_height": null,
            "min_width": null,
            "object_fit": null,
            "object_position": null,
            "order": null,
            "overflow": null,
            "overflow_x": null,
            "overflow_y": null,
            "padding": null,
            "right": null,
            "top": null,
            "visibility": null,
            "width": null
          }
        },
        "2a84ad93dc2944e08d3b8243730b35ca": {
          "model_module": "@jupyter-widgets/controls",
          "model_name": "DescriptionStyleModel",
          "model_module_version": "1.5.0",
          "state": {
            "_model_module": "@jupyter-widgets/controls",
            "_model_module_version": "1.5.0",
            "_model_name": "DescriptionStyleModel",
            "_view_count": null,
            "_view_module": "@jupyter-widgets/base",
            "_view_module_version": "1.2.0",
            "_view_name": "StyleView",
            "description_width": ""
          }
        },
        "e0a13e58b5b7496991189c22627ccb84": {
          "model_module": "@jupyter-widgets/base",
          "model_name": "LayoutModel",
          "model_module_version": "1.2.0",
          "state": {
            "_model_module": "@jupyter-widgets/base",
            "_model_module_version": "1.2.0",
            "_model_name": "LayoutModel",
            "_view_count": null,
            "_view_module": "@jupyter-widgets/base",
            "_view_module_version": "1.2.0",
            "_view_name": "LayoutView",
            "align_content": null,
            "align_items": null,
            "align_self": null,
            "border": null,
            "bottom": null,
            "display": null,
            "flex": null,
            "flex_flow": null,
            "grid_area": null,
            "grid_auto_columns": null,
            "grid_auto_flow": null,
            "grid_auto_rows": null,
            "grid_column": null,
            "grid_gap": null,
            "grid_row": null,
            "grid_template_areas": null,
            "grid_template_columns": null,
            "grid_template_rows": null,
            "height": null,
            "justify_content": null,
            "justify_items": null,
            "left": null,
            "margin": null,
            "max_height": null,
            "max_width": null,
            "min_height": null,
            "min_width": null,
            "object_fit": null,
            "object_position": null,
            "order": null,
            "overflow": null,
            "overflow_x": null,
            "overflow_y": null,
            "padding": null,
            "right": null,
            "top": null,
            "visibility": null,
            "width": null
          }
        },
        "deef9f23ed4c42eebeda47de9bf95f42": {
          "model_module": "@jupyter-widgets/controls",
          "model_name": "ProgressStyleModel",
          "model_module_version": "1.5.0",
          "state": {
            "_model_module": "@jupyter-widgets/controls",
            "_model_module_version": "1.5.0",
            "_model_name": "ProgressStyleModel",
            "_view_count": null,
            "_view_module": "@jupyter-widgets/base",
            "_view_module_version": "1.2.0",
            "_view_name": "StyleView",
            "bar_color": null,
            "description_width": ""
          }
        },
        "1e398f8201724167987fd47397f1a11b": {
          "model_module": "@jupyter-widgets/base",
          "model_name": "LayoutModel",
          "model_module_version": "1.2.0",
          "state": {
            "_model_module": "@jupyter-widgets/base",
            "_model_module_version": "1.2.0",
            "_model_name": "LayoutModel",
            "_view_count": null,
            "_view_module": "@jupyter-widgets/base",
            "_view_module_version": "1.2.0",
            "_view_name": "LayoutView",
            "align_content": null,
            "align_items": null,
            "align_self": null,
            "border": null,
            "bottom": null,
            "display": null,
            "flex": null,
            "flex_flow": null,
            "grid_area": null,
            "grid_auto_columns": null,
            "grid_auto_flow": null,
            "grid_auto_rows": null,
            "grid_column": null,
            "grid_gap": null,
            "grid_row": null,
            "grid_template_areas": null,
            "grid_template_columns": null,
            "grid_template_rows": null,
            "height": null,
            "justify_content": null,
            "justify_items": null,
            "left": null,
            "margin": null,
            "max_height": null,
            "max_width": null,
            "min_height": null,
            "min_width": null,
            "object_fit": null,
            "object_position": null,
            "order": null,
            "overflow": null,
            "overflow_x": null,
            "overflow_y": null,
            "padding": null,
            "right": null,
            "top": null,
            "visibility": null,
            "width": null
          }
        },
        "d0d5d5e809a8438ba429cd5344bbae55": {
          "model_module": "@jupyter-widgets/controls",
          "model_name": "DescriptionStyleModel",
          "model_module_version": "1.5.0",
          "state": {
            "_model_module": "@jupyter-widgets/controls",
            "_model_module_version": "1.5.0",
            "_model_name": "DescriptionStyleModel",
            "_view_count": null,
            "_view_module": "@jupyter-widgets/base",
            "_view_module_version": "1.2.0",
            "_view_name": "StyleView",
            "description_width": ""
          }
        },
        "cf688d1fe4134c989823b12449f11f82": {
          "model_module": "@jupyter-widgets/controls",
          "model_name": "HBoxModel",
          "model_module_version": "1.5.0",
          "state": {
            "_dom_classes": [],
            "_model_module": "@jupyter-widgets/controls",
            "_model_module_version": "1.5.0",
            "_model_name": "HBoxModel",
            "_view_count": null,
            "_view_module": "@jupyter-widgets/controls",
            "_view_module_version": "1.5.0",
            "_view_name": "HBoxView",
            "box_style": "",
            "children": [
              "IPY_MODEL_d56b4da30d054ef2918642b29b2550c3",
              "IPY_MODEL_68e7841f4a3e42c2ab0941aeed396a72",
              "IPY_MODEL_644e3ce9eb8f4f0b9890f8c7bb968c0a"
            ],
            "layout": "IPY_MODEL_e569815385ca4740a0da72939c5592da"
          }
        },
        "d56b4da30d054ef2918642b29b2550c3": {
          "model_module": "@jupyter-widgets/controls",
          "model_name": "HTMLModel",
          "model_module_version": "1.5.0",
          "state": {
            "_dom_classes": [],
            "_model_module": "@jupyter-widgets/controls",
            "_model_module_version": "1.5.0",
            "_model_name": "HTMLModel",
            "_view_count": null,
            "_view_module": "@jupyter-widgets/controls",
            "_view_module_version": "1.5.0",
            "_view_name": "HTMLView",
            "description": "",
            "description_tooltip": null,
            "layout": "IPY_MODEL_8b46e2ceba134f68a4a884b947a6e68f",
            "placeholder": "​",
            "style": "IPY_MODEL_d1faace14bcc4851891a0738220c4803",
            "value": "model.safetensors: 100%"
          }
        },
        "68e7841f4a3e42c2ab0941aeed396a72": {
          "model_module": "@jupyter-widgets/controls",
          "model_name": "FloatProgressModel",
          "model_module_version": "1.5.0",
          "state": {
            "_dom_classes": [],
            "_model_module": "@jupyter-widgets/controls",
            "_model_module_version": "1.5.0",
            "_model_name": "FloatProgressModel",
            "_view_count": null,
            "_view_module": "@jupyter-widgets/controls",
            "_view_module_version": "1.5.0",
            "_view_name": "ProgressView",
            "bar_style": "success",
            "description": "",
            "description_tooltip": null,
            "layout": "IPY_MODEL_cdf51f0d553e4daa821a3219c3340787",
            "max": 437955512,
            "min": 0,
            "orientation": "horizontal",
            "style": "IPY_MODEL_2c93fe5669b24b9392676df364755117",
            "value": 437955512
          }
        },
        "644e3ce9eb8f4f0b9890f8c7bb968c0a": {
          "model_module": "@jupyter-widgets/controls",
          "model_name": "HTMLModel",
          "model_module_version": "1.5.0",
          "state": {
            "_dom_classes": [],
            "_model_module": "@jupyter-widgets/controls",
            "_model_module_version": "1.5.0",
            "_model_name": "HTMLModel",
            "_view_count": null,
            "_view_module": "@jupyter-widgets/controls",
            "_view_module_version": "1.5.0",
            "_view_name": "HTMLView",
            "description": "",
            "description_tooltip": null,
            "layout": "IPY_MODEL_9c57a00b804d452da08cee16e6462c96",
            "placeholder": "​",
            "style": "IPY_MODEL_78bb6a5f29ac4c81825ce7b14ea8cbc6",
            "value": " 438M/438M [00:06&lt;00:00, 126MB/s]"
          }
        },
        "e569815385ca4740a0da72939c5592da": {
          "model_module": "@jupyter-widgets/base",
          "model_name": "LayoutModel",
          "model_module_version": "1.2.0",
          "state": {
            "_model_module": "@jupyter-widgets/base",
            "_model_module_version": "1.2.0",
            "_model_name": "LayoutModel",
            "_view_count": null,
            "_view_module": "@jupyter-widgets/base",
            "_view_module_version": "1.2.0",
            "_view_name": "LayoutView",
            "align_content": null,
            "align_items": null,
            "align_self": null,
            "border": null,
            "bottom": null,
            "display": null,
            "flex": null,
            "flex_flow": null,
            "grid_area": null,
            "grid_auto_columns": null,
            "grid_auto_flow": null,
            "grid_auto_rows": null,
            "grid_column": null,
            "grid_gap": null,
            "grid_row": null,
            "grid_template_areas": null,
            "grid_template_columns": null,
            "grid_template_rows": null,
            "height": null,
            "justify_content": null,
            "justify_items": null,
            "left": null,
            "margin": null,
            "max_height": null,
            "max_width": null,
            "min_height": null,
            "min_width": null,
            "object_fit": null,
            "object_position": null,
            "order": null,
            "overflow": null,
            "overflow_x": null,
            "overflow_y": null,
            "padding": null,
            "right": null,
            "top": null,
            "visibility": null,
            "width": null
          }
        },
        "8b46e2ceba134f68a4a884b947a6e68f": {
          "model_module": "@jupyter-widgets/base",
          "model_name": "LayoutModel",
          "model_module_version": "1.2.0",
          "state": {
            "_model_module": "@jupyter-widgets/base",
            "_model_module_version": "1.2.0",
            "_model_name": "LayoutModel",
            "_view_count": null,
            "_view_module": "@jupyter-widgets/base",
            "_view_module_version": "1.2.0",
            "_view_name": "LayoutView",
            "align_content": null,
            "align_items": null,
            "align_self": null,
            "border": null,
            "bottom": null,
            "display": null,
            "flex": null,
            "flex_flow": null,
            "grid_area": null,
            "grid_auto_columns": null,
            "grid_auto_flow": null,
            "grid_auto_rows": null,
            "grid_column": null,
            "grid_gap": null,
            "grid_row": null,
            "grid_template_areas": null,
            "grid_template_columns": null,
            "grid_template_rows": null,
            "height": null,
            "justify_content": null,
            "justify_items": null,
            "left": null,
            "margin": null,
            "max_height": null,
            "max_width": null,
            "min_height": null,
            "min_width": null,
            "object_fit": null,
            "object_position": null,
            "order": null,
            "overflow": null,
            "overflow_x": null,
            "overflow_y": null,
            "padding": null,
            "right": null,
            "top": null,
            "visibility": null,
            "width": null
          }
        },
        "d1faace14bcc4851891a0738220c4803": {
          "model_module": "@jupyter-widgets/controls",
          "model_name": "DescriptionStyleModel",
          "model_module_version": "1.5.0",
          "state": {
            "_model_module": "@jupyter-widgets/controls",
            "_model_module_version": "1.5.0",
            "_model_name": "DescriptionStyleModel",
            "_view_count": null,
            "_view_module": "@jupyter-widgets/base",
            "_view_module_version": "1.2.0",
            "_view_name": "StyleView",
            "description_width": ""
          }
        },
        "cdf51f0d553e4daa821a3219c3340787": {
          "model_module": "@jupyter-widgets/base",
          "model_name": "LayoutModel",
          "model_module_version": "1.2.0",
          "state": {
            "_model_module": "@jupyter-widgets/base",
            "_model_module_version": "1.2.0",
            "_model_name": "LayoutModel",
            "_view_count": null,
            "_view_module": "@jupyter-widgets/base",
            "_view_module_version": "1.2.0",
            "_view_name": "LayoutView",
            "align_content": null,
            "align_items": null,
            "align_self": null,
            "border": null,
            "bottom": null,
            "display": null,
            "flex": null,
            "flex_flow": null,
            "grid_area": null,
            "grid_auto_columns": null,
            "grid_auto_flow": null,
            "grid_auto_rows": null,
            "grid_column": null,
            "grid_gap": null,
            "grid_row": null,
            "grid_template_areas": null,
            "grid_template_columns": null,
            "grid_template_rows": null,
            "height": null,
            "justify_content": null,
            "justify_items": null,
            "left": null,
            "margin": null,
            "max_height": null,
            "max_width": null,
            "min_height": null,
            "min_width": null,
            "object_fit": null,
            "object_position": null,
            "order": null,
            "overflow": null,
            "overflow_x": null,
            "overflow_y": null,
            "padding": null,
            "right": null,
            "top": null,
            "visibility": null,
            "width": null
          }
        },
        "2c93fe5669b24b9392676df364755117": {
          "model_module": "@jupyter-widgets/controls",
          "model_name": "ProgressStyleModel",
          "model_module_version": "1.5.0",
          "state": {
            "_model_module": "@jupyter-widgets/controls",
            "_model_module_version": "1.5.0",
            "_model_name": "ProgressStyleModel",
            "_view_count": null,
            "_view_module": "@jupyter-widgets/base",
            "_view_module_version": "1.2.0",
            "_view_name": "StyleView",
            "bar_color": null,
            "description_width": ""
          }
        },
        "9c57a00b804d452da08cee16e6462c96": {
          "model_module": "@jupyter-widgets/base",
          "model_name": "LayoutModel",
          "model_module_version": "1.2.0",
          "state": {
            "_model_module": "@jupyter-widgets/base",
            "_model_module_version": "1.2.0",
            "_model_name": "LayoutModel",
            "_view_count": null,
            "_view_module": "@jupyter-widgets/base",
            "_view_module_version": "1.2.0",
            "_view_name": "LayoutView",
            "align_content": null,
            "align_items": null,
            "align_self": null,
            "border": null,
            "bottom": null,
            "display": null,
            "flex": null,
            "flex_flow": null,
            "grid_area": null,
            "grid_auto_columns": null,
            "grid_auto_flow": null,
            "grid_auto_rows": null,
            "grid_column": null,
            "grid_gap": null,
            "grid_row": null,
            "grid_template_areas": null,
            "grid_template_columns": null,
            "grid_template_rows": null,
            "height": null,
            "justify_content": null,
            "justify_items": null,
            "left": null,
            "margin": null,
            "max_height": null,
            "max_width": null,
            "min_height": null,
            "min_width": null,
            "object_fit": null,
            "object_position": null,
            "order": null,
            "overflow": null,
            "overflow_x": null,
            "overflow_y": null,
            "padding": null,
            "right": null,
            "top": null,
            "visibility": null,
            "width": null
          }
        },
        "78bb6a5f29ac4c81825ce7b14ea8cbc6": {
          "model_module": "@jupyter-widgets/controls",
          "model_name": "DescriptionStyleModel",
          "model_module_version": "1.5.0",
          "state": {
            "_model_module": "@jupyter-widgets/controls",
            "_model_module_version": "1.5.0",
            "_model_name": "DescriptionStyleModel",
            "_view_count": null,
            "_view_module": "@jupyter-widgets/base",
            "_view_module_version": "1.2.0",
            "_view_name": "StyleView",
            "description_width": ""
          }
        },
        "44ad243a77e348daa4109ac5223731f0": {
          "model_module": "@jupyter-widgets/controls",
          "model_name": "HBoxModel",
          "model_module_version": "1.5.0",
          "state": {
            "_dom_classes": [],
            "_model_module": "@jupyter-widgets/controls",
            "_model_module_version": "1.5.0",
            "_model_name": "HBoxModel",
            "_view_count": null,
            "_view_module": "@jupyter-widgets/controls",
            "_view_module_version": "1.5.0",
            "_view_name": "HBoxView",
            "box_style": "",
            "children": [
              "IPY_MODEL_b8fc36f0a52d4d1a94831713d745d250",
              "IPY_MODEL_802c29da8f464219a10b75be96914062",
              "IPY_MODEL_aa851b520dcc4d1d8f68a1e10617951e"
            ],
            "layout": "IPY_MODEL_89535701420644a4bc72412274d564cf"
          }
        },
        "b8fc36f0a52d4d1a94831713d745d250": {
          "model_module": "@jupyter-widgets/controls",
          "model_name": "HTMLModel",
          "model_module_version": "1.5.0",
          "state": {
            "_dom_classes": [],
            "_model_module": "@jupyter-widgets/controls",
            "_model_module_version": "1.5.0",
            "_model_name": "HTMLModel",
            "_view_count": null,
            "_view_module": "@jupyter-widgets/controls",
            "_view_module_version": "1.5.0",
            "_view_name": "HTMLView",
            "description": "",
            "description_tooltip": null,
            "layout": "IPY_MODEL_8d8263bad9e44757b1871ac950b4614b",
            "placeholder": "​",
            "style": "IPY_MODEL_56deb192831a46fbaf8f897c22f3fc36",
            "value": "tokenizer_config.json: 100%"
          }
        },
        "802c29da8f464219a10b75be96914062": {
          "model_module": "@jupyter-widgets/controls",
          "model_name": "FloatProgressModel",
          "model_module_version": "1.5.0",
          "state": {
            "_dom_classes": [],
            "_model_module": "@jupyter-widgets/controls",
            "_model_module_version": "1.5.0",
            "_model_name": "FloatProgressModel",
            "_view_count": null,
            "_view_module": "@jupyter-widgets/controls",
            "_view_module_version": "1.5.0",
            "_view_name": "ProgressView",
            "bar_style": "success",
            "description": "",
            "description_tooltip": null,
            "layout": "IPY_MODEL_66097fad09b848a2874e2be71ef4d3ca",
            "max": 366,
            "min": 0,
            "orientation": "horizontal",
            "style": "IPY_MODEL_446ac1cbe6d34e4e8332ae8b00bb85fb",
            "value": 366
          }
        },
        "aa851b520dcc4d1d8f68a1e10617951e": {
          "model_module": "@jupyter-widgets/controls",
          "model_name": "HTMLModel",
          "model_module_version": "1.5.0",
          "state": {
            "_dom_classes": [],
            "_model_module": "@jupyter-widgets/controls",
            "_model_module_version": "1.5.0",
            "_model_name": "HTMLModel",
            "_view_count": null,
            "_view_module": "@jupyter-widgets/controls",
            "_view_module_version": "1.5.0",
            "_view_name": "HTMLView",
            "description": "",
            "description_tooltip": null,
            "layout": "IPY_MODEL_03dfe0a5edcb428bb8317dde8790fd22",
            "placeholder": "​",
            "style": "IPY_MODEL_1ad08cce538742ed970c83e08b70b427",
            "value": " 366/366 [00:00&lt;00:00, 9.17kB/s]"
          }
        },
        "89535701420644a4bc72412274d564cf": {
          "model_module": "@jupyter-widgets/base",
          "model_name": "LayoutModel",
          "model_module_version": "1.2.0",
          "state": {
            "_model_module": "@jupyter-widgets/base",
            "_model_module_version": "1.2.0",
            "_model_name": "LayoutModel",
            "_view_count": null,
            "_view_module": "@jupyter-widgets/base",
            "_view_module_version": "1.2.0",
            "_view_name": "LayoutView",
            "align_content": null,
            "align_items": null,
            "align_self": null,
            "border": null,
            "bottom": null,
            "display": null,
            "flex": null,
            "flex_flow": null,
            "grid_area": null,
            "grid_auto_columns": null,
            "grid_auto_flow": null,
            "grid_auto_rows": null,
            "grid_column": null,
            "grid_gap": null,
            "grid_row": null,
            "grid_template_areas": null,
            "grid_template_columns": null,
            "grid_template_rows": null,
            "height": null,
            "justify_content": null,
            "justify_items": null,
            "left": null,
            "margin": null,
            "max_height": null,
            "max_width": null,
            "min_height": null,
            "min_width": null,
            "object_fit": null,
            "object_position": null,
            "order": null,
            "overflow": null,
            "overflow_x": null,
            "overflow_y": null,
            "padding": null,
            "right": null,
            "top": null,
            "visibility": null,
            "width": null
          }
        },
        "8d8263bad9e44757b1871ac950b4614b": {
          "model_module": "@jupyter-widgets/base",
          "model_name": "LayoutModel",
          "model_module_version": "1.2.0",
          "state": {
            "_model_module": "@jupyter-widgets/base",
            "_model_module_version": "1.2.0",
            "_model_name": "LayoutModel",
            "_view_count": null,
            "_view_module": "@jupyter-widgets/base",
            "_view_module_version": "1.2.0",
            "_view_name": "LayoutView",
            "align_content": null,
            "align_items": null,
            "align_self": null,
            "border": null,
            "bottom": null,
            "display": null,
            "flex": null,
            "flex_flow": null,
            "grid_area": null,
            "grid_auto_columns": null,
            "grid_auto_flow": null,
            "grid_auto_rows": null,
            "grid_column": null,
            "grid_gap": null,
            "grid_row": null,
            "grid_template_areas": null,
            "grid_template_columns": null,
            "grid_template_rows": null,
            "height": null,
            "justify_content": null,
            "justify_items": null,
            "left": null,
            "margin": null,
            "max_height": null,
            "max_width": null,
            "min_height": null,
            "min_width": null,
            "object_fit": null,
            "object_position": null,
            "order": null,
            "overflow": null,
            "overflow_x": null,
            "overflow_y": null,
            "padding": null,
            "right": null,
            "top": null,
            "visibility": null,
            "width": null
          }
        },
        "56deb192831a46fbaf8f897c22f3fc36": {
          "model_module": "@jupyter-widgets/controls",
          "model_name": "DescriptionStyleModel",
          "model_module_version": "1.5.0",
          "state": {
            "_model_module": "@jupyter-widgets/controls",
            "_model_module_version": "1.5.0",
            "_model_name": "DescriptionStyleModel",
            "_view_count": null,
            "_view_module": "@jupyter-widgets/base",
            "_view_module_version": "1.2.0",
            "_view_name": "StyleView",
            "description_width": ""
          }
        },
        "66097fad09b848a2874e2be71ef4d3ca": {
          "model_module": "@jupyter-widgets/base",
          "model_name": "LayoutModel",
          "model_module_version": "1.2.0",
          "state": {
            "_model_module": "@jupyter-widgets/base",
            "_model_module_version": "1.2.0",
            "_model_name": "LayoutModel",
            "_view_count": null,
            "_view_module": "@jupyter-widgets/base",
            "_view_module_version": "1.2.0",
            "_view_name": "LayoutView",
            "align_content": null,
            "align_items": null,
            "align_self": null,
            "border": null,
            "bottom": null,
            "display": null,
            "flex": null,
            "flex_flow": null,
            "grid_area": null,
            "grid_auto_columns": null,
            "grid_auto_flow": null,
            "grid_auto_rows": null,
            "grid_column": null,
            "grid_gap": null,
            "grid_row": null,
            "grid_template_areas": null,
            "grid_template_columns": null,
            "grid_template_rows": null,
            "height": null,
            "justify_content": null,
            "justify_items": null,
            "left": null,
            "margin": null,
            "max_height": null,
            "max_width": null,
            "min_height": null,
            "min_width": null,
            "object_fit": null,
            "object_position": null,
            "order": null,
            "overflow": null,
            "overflow_x": null,
            "overflow_y": null,
            "padding": null,
            "right": null,
            "top": null,
            "visibility": null,
            "width": null
          }
        },
        "446ac1cbe6d34e4e8332ae8b00bb85fb": {
          "model_module": "@jupyter-widgets/controls",
          "model_name": "ProgressStyleModel",
          "model_module_version": "1.5.0",
          "state": {
            "_model_module": "@jupyter-widgets/controls",
            "_model_module_version": "1.5.0",
            "_model_name": "ProgressStyleModel",
            "_view_count": null,
            "_view_module": "@jupyter-widgets/base",
            "_view_module_version": "1.2.0",
            "_view_name": "StyleView",
            "bar_color": null,
            "description_width": ""
          }
        },
        "03dfe0a5edcb428bb8317dde8790fd22": {
          "model_module": "@jupyter-widgets/base",
          "model_name": "LayoutModel",
          "model_module_version": "1.2.0",
          "state": {
            "_model_module": "@jupyter-widgets/base",
            "_model_module_version": "1.2.0",
            "_model_name": "LayoutModel",
            "_view_count": null,
            "_view_module": "@jupyter-widgets/base",
            "_view_module_version": "1.2.0",
            "_view_name": "LayoutView",
            "align_content": null,
            "align_items": null,
            "align_self": null,
            "border": null,
            "bottom": null,
            "display": null,
            "flex": null,
            "flex_flow": null,
            "grid_area": null,
            "grid_auto_columns": null,
            "grid_auto_flow": null,
            "grid_auto_rows": null,
            "grid_column": null,
            "grid_gap": null,
            "grid_row": null,
            "grid_template_areas": null,
            "grid_template_columns": null,
            "grid_template_rows": null,
            "height": null,
            "justify_content": null,
            "justify_items": null,
            "left": null,
            "margin": null,
            "max_height": null,
            "max_width": null,
            "min_height": null,
            "min_width": null,
            "object_fit": null,
            "object_position": null,
            "order": null,
            "overflow": null,
            "overflow_x": null,
            "overflow_y": null,
            "padding": null,
            "right": null,
            "top": null,
            "visibility": null,
            "width": null
          }
        },
        "1ad08cce538742ed970c83e08b70b427": {
          "model_module": "@jupyter-widgets/controls",
          "model_name": "DescriptionStyleModel",
          "model_module_version": "1.5.0",
          "state": {
            "_model_module": "@jupyter-widgets/controls",
            "_model_module_version": "1.5.0",
            "_model_name": "DescriptionStyleModel",
            "_view_count": null,
            "_view_module": "@jupyter-widgets/base",
            "_view_module_version": "1.2.0",
            "_view_name": "StyleView",
            "description_width": ""
          }
        },
        "cfb42e5afb8848bca4bf65d4c90b276f": {
          "model_module": "@jupyter-widgets/controls",
          "model_name": "HBoxModel",
          "model_module_version": "1.5.0",
          "state": {
            "_dom_classes": [],
            "_model_module": "@jupyter-widgets/controls",
            "_model_module_version": "1.5.0",
            "_model_name": "HBoxModel",
            "_view_count": null,
            "_view_module": "@jupyter-widgets/controls",
            "_view_module_version": "1.5.0",
            "_view_name": "HBoxView",
            "box_style": "",
            "children": [
              "IPY_MODEL_14fadeb9e70f4451bba55c5ba30fa700",
              "IPY_MODEL_8c68e570bdcd44c8b30d7a35317edcfd",
              "IPY_MODEL_9f4593e0226640c09b0e529f74b2cf48"
            ],
            "layout": "IPY_MODEL_824df424846d4821832cc59604f427a6"
          }
        },
        "14fadeb9e70f4451bba55c5ba30fa700": {
          "model_module": "@jupyter-widgets/controls",
          "model_name": "HTMLModel",
          "model_module_version": "1.5.0",
          "state": {
            "_dom_classes": [],
            "_model_module": "@jupyter-widgets/controls",
            "_model_module_version": "1.5.0",
            "_model_name": "HTMLModel",
            "_view_count": null,
            "_view_module": "@jupyter-widgets/controls",
            "_view_module_version": "1.5.0",
            "_view_name": "HTMLView",
            "description": "",
            "description_tooltip": null,
            "layout": "IPY_MODEL_f2e2fc60a8c74111badc4205f27931af",
            "placeholder": "​",
            "style": "IPY_MODEL_d8b29a852af64a77b68ab82269242b6e",
            "value": "vocab.txt: 100%"
          }
        },
        "8c68e570bdcd44c8b30d7a35317edcfd": {
          "model_module": "@jupyter-widgets/controls",
          "model_name": "FloatProgressModel",
          "model_module_version": "1.5.0",
          "state": {
            "_dom_classes": [],
            "_model_module": "@jupyter-widgets/controls",
            "_model_module_version": "1.5.0",
            "_model_name": "FloatProgressModel",
            "_view_count": null,
            "_view_module": "@jupyter-widgets/controls",
            "_view_module_version": "1.5.0",
            "_view_name": "ProgressView",
            "bar_style": "success",
            "description": "",
            "description_tooltip": null,
            "layout": "IPY_MODEL_df49b064e96f4f78b5d8400e466ee162",
            "max": 231508,
            "min": 0,
            "orientation": "horizontal",
            "style": "IPY_MODEL_a64f45021c7149bb9a86b56256181043",
            "value": 231508
          }
        },
        "9f4593e0226640c09b0e529f74b2cf48": {
          "model_module": "@jupyter-widgets/controls",
          "model_name": "HTMLModel",
          "model_module_version": "1.5.0",
          "state": {
            "_dom_classes": [],
            "_model_module": "@jupyter-widgets/controls",
            "_model_module_version": "1.5.0",
            "_model_name": "HTMLModel",
            "_view_count": null,
            "_view_module": "@jupyter-widgets/controls",
            "_view_module_version": "1.5.0",
            "_view_name": "HTMLView",
            "description": "",
            "description_tooltip": null,
            "layout": "IPY_MODEL_bb724290c51945baa5580b3ee67fc86f",
            "placeholder": "​",
            "style": "IPY_MODEL_8bd4741736934e49a4d3b81c31ebb1b0",
            "value": " 232k/232k [00:00&lt;00:00, 4.31MB/s]"
          }
        },
        "824df424846d4821832cc59604f427a6": {
          "model_module": "@jupyter-widgets/base",
          "model_name": "LayoutModel",
          "model_module_version": "1.2.0",
          "state": {
            "_model_module": "@jupyter-widgets/base",
            "_model_module_version": "1.2.0",
            "_model_name": "LayoutModel",
            "_view_count": null,
            "_view_module": "@jupyter-widgets/base",
            "_view_module_version": "1.2.0",
            "_view_name": "LayoutView",
            "align_content": null,
            "align_items": null,
            "align_self": null,
            "border": null,
            "bottom": null,
            "display": null,
            "flex": null,
            "flex_flow": null,
            "grid_area": null,
            "grid_auto_columns": null,
            "grid_auto_flow": null,
            "grid_auto_rows": null,
            "grid_column": null,
            "grid_gap": null,
            "grid_row": null,
            "grid_template_areas": null,
            "grid_template_columns": null,
            "grid_template_rows": null,
            "height": null,
            "justify_content": null,
            "justify_items": null,
            "left": null,
            "margin": null,
            "max_height": null,
            "max_width": null,
            "min_height": null,
            "min_width": null,
            "object_fit": null,
            "object_position": null,
            "order": null,
            "overflow": null,
            "overflow_x": null,
            "overflow_y": null,
            "padding": null,
            "right": null,
            "top": null,
            "visibility": null,
            "width": null
          }
        },
        "f2e2fc60a8c74111badc4205f27931af": {
          "model_module": "@jupyter-widgets/base",
          "model_name": "LayoutModel",
          "model_module_version": "1.2.0",
          "state": {
            "_model_module": "@jupyter-widgets/base",
            "_model_module_version": "1.2.0",
            "_model_name": "LayoutModel",
            "_view_count": null,
            "_view_module": "@jupyter-widgets/base",
            "_view_module_version": "1.2.0",
            "_view_name": "LayoutView",
            "align_content": null,
            "align_items": null,
            "align_self": null,
            "border": null,
            "bottom": null,
            "display": null,
            "flex": null,
            "flex_flow": null,
            "grid_area": null,
            "grid_auto_columns": null,
            "grid_auto_flow": null,
            "grid_auto_rows": null,
            "grid_column": null,
            "grid_gap": null,
            "grid_row": null,
            "grid_template_areas": null,
            "grid_template_columns": null,
            "grid_template_rows": null,
            "height": null,
            "justify_content": null,
            "justify_items": null,
            "left": null,
            "margin": null,
            "max_height": null,
            "max_width": null,
            "min_height": null,
            "min_width": null,
            "object_fit": null,
            "object_position": null,
            "order": null,
            "overflow": null,
            "overflow_x": null,
            "overflow_y": null,
            "padding": null,
            "right": null,
            "top": null,
            "visibility": null,
            "width": null
          }
        },
        "d8b29a852af64a77b68ab82269242b6e": {
          "model_module": "@jupyter-widgets/controls",
          "model_name": "DescriptionStyleModel",
          "model_module_version": "1.5.0",
          "state": {
            "_model_module": "@jupyter-widgets/controls",
            "_model_module_version": "1.5.0",
            "_model_name": "DescriptionStyleModel",
            "_view_count": null,
            "_view_module": "@jupyter-widgets/base",
            "_view_module_version": "1.2.0",
            "_view_name": "StyleView",
            "description_width": ""
          }
        },
        "df49b064e96f4f78b5d8400e466ee162": {
          "model_module": "@jupyter-widgets/base",
          "model_name": "LayoutModel",
          "model_module_version": "1.2.0",
          "state": {
            "_model_module": "@jupyter-widgets/base",
            "_model_module_version": "1.2.0",
            "_model_name": "LayoutModel",
            "_view_count": null,
            "_view_module": "@jupyter-widgets/base",
            "_view_module_version": "1.2.0",
            "_view_name": "LayoutView",
            "align_content": null,
            "align_items": null,
            "align_self": null,
            "border": null,
            "bottom": null,
            "display": null,
            "flex": null,
            "flex_flow": null,
            "grid_area": null,
            "grid_auto_columns": null,
            "grid_auto_flow": null,
            "grid_auto_rows": null,
            "grid_column": null,
            "grid_gap": null,
            "grid_row": null,
            "grid_template_areas": null,
            "grid_template_columns": null,
            "grid_template_rows": null,
            "height": null,
            "justify_content": null,
            "justify_items": null,
            "left": null,
            "margin": null,
            "max_height": null,
            "max_width": null,
            "min_height": null,
            "min_width": null,
            "object_fit": null,
            "object_position": null,
            "order": null,
            "overflow": null,
            "overflow_x": null,
            "overflow_y": null,
            "padding": null,
            "right": null,
            "top": null,
            "visibility": null,
            "width": null
          }
        },
        "a64f45021c7149bb9a86b56256181043": {
          "model_module": "@jupyter-widgets/controls",
          "model_name": "ProgressStyleModel",
          "model_module_version": "1.5.0",
          "state": {
            "_model_module": "@jupyter-widgets/controls",
            "_model_module_version": "1.5.0",
            "_model_name": "ProgressStyleModel",
            "_view_count": null,
            "_view_module": "@jupyter-widgets/base",
            "_view_module_version": "1.2.0",
            "_view_name": "StyleView",
            "bar_color": null,
            "description_width": ""
          }
        },
        "bb724290c51945baa5580b3ee67fc86f": {
          "model_module": "@jupyter-widgets/base",
          "model_name": "LayoutModel",
          "model_module_version": "1.2.0",
          "state": {
            "_model_module": "@jupyter-widgets/base",
            "_model_module_version": "1.2.0",
            "_model_name": "LayoutModel",
            "_view_count": null,
            "_view_module": "@jupyter-widgets/base",
            "_view_module_version": "1.2.0",
            "_view_name": "LayoutView",
            "align_content": null,
            "align_items": null,
            "align_self": null,
            "border": null,
            "bottom": null,
            "display": null,
            "flex": null,
            "flex_flow": null,
            "grid_area": null,
            "grid_auto_columns": null,
            "grid_auto_flow": null,
            "grid_auto_rows": null,
            "grid_column": null,
            "grid_gap": null,
            "grid_row": null,
            "grid_template_areas": null,
            "grid_template_columns": null,
            "grid_template_rows": null,
            "height": null,
            "justify_content": null,
            "justify_items": null,
            "left": null,
            "margin": null,
            "max_height": null,
            "max_width": null,
            "min_height": null,
            "min_width": null,
            "object_fit": null,
            "object_position": null,
            "order": null,
            "overflow": null,
            "overflow_x": null,
            "overflow_y": null,
            "padding": null,
            "right": null,
            "top": null,
            "visibility": null,
            "width": null
          }
        },
        "8bd4741736934e49a4d3b81c31ebb1b0": {
          "model_module": "@jupyter-widgets/controls",
          "model_name": "DescriptionStyleModel",
          "model_module_version": "1.5.0",
          "state": {
            "_model_module": "@jupyter-widgets/controls",
            "_model_module_version": "1.5.0",
            "_model_name": "DescriptionStyleModel",
            "_view_count": null,
            "_view_module": "@jupyter-widgets/base",
            "_view_module_version": "1.2.0",
            "_view_name": "StyleView",
            "description_width": ""
          }
        },
        "ea2351b9bd0842e08a9e29d043257347": {
          "model_module": "@jupyter-widgets/controls",
          "model_name": "HBoxModel",
          "model_module_version": "1.5.0",
          "state": {
            "_dom_classes": [],
            "_model_module": "@jupyter-widgets/controls",
            "_model_module_version": "1.5.0",
            "_model_name": "HBoxModel",
            "_view_count": null,
            "_view_module": "@jupyter-widgets/controls",
            "_view_module_version": "1.5.0",
            "_view_name": "HBoxView",
            "box_style": "",
            "children": [
              "IPY_MODEL_cd774be98a7440f6a64486021ce7402a",
              "IPY_MODEL_7413ab08bdfd47d2bb57f02ae84dc1b0",
              "IPY_MODEL_64c405c253d9478baf635a62d37b0c1c"
            ],
            "layout": "IPY_MODEL_493d8b890ce249a0884dcbd81f9fdeb6"
          }
        },
        "cd774be98a7440f6a64486021ce7402a": {
          "model_module": "@jupyter-widgets/controls",
          "model_name": "HTMLModel",
          "model_module_version": "1.5.0",
          "state": {
            "_dom_classes": [],
            "_model_module": "@jupyter-widgets/controls",
            "_model_module_version": "1.5.0",
            "_model_name": "HTMLModel",
            "_view_count": null,
            "_view_module": "@jupyter-widgets/controls",
            "_view_module_version": "1.5.0",
            "_view_name": "HTMLView",
            "description": "",
            "description_tooltip": null,
            "layout": "IPY_MODEL_5d3d180f2edc4b278bfcca0e0398c222",
            "placeholder": "​",
            "style": "IPY_MODEL_a3f87251ca6b4d7a8e1ea358bab491b4",
            "value": "tokenizer.json: 100%"
          }
        },
        "7413ab08bdfd47d2bb57f02ae84dc1b0": {
          "model_module": "@jupyter-widgets/controls",
          "model_name": "FloatProgressModel",
          "model_module_version": "1.5.0",
          "state": {
            "_dom_classes": [],
            "_model_module": "@jupyter-widgets/controls",
            "_model_module_version": "1.5.0",
            "_model_name": "FloatProgressModel",
            "_view_count": null,
            "_view_module": "@jupyter-widgets/controls",
            "_view_module_version": "1.5.0",
            "_view_name": "ProgressView",
            "bar_style": "success",
            "description": "",
            "description_tooltip": null,
            "layout": "IPY_MODEL_7909b8f7ceec4e21a5eaf350103fdd84",
            "max": 711396,
            "min": 0,
            "orientation": "horizontal",
            "style": "IPY_MODEL_eb6df97079da46cd8ccbbc40ae3dd001",
            "value": 711396
          }
        },
        "64c405c253d9478baf635a62d37b0c1c": {
          "model_module": "@jupyter-widgets/controls",
          "model_name": "HTMLModel",
          "model_module_version": "1.5.0",
          "state": {
            "_dom_classes": [],
            "_model_module": "@jupyter-widgets/controls",
            "_model_module_version": "1.5.0",
            "_model_name": "HTMLModel",
            "_view_count": null,
            "_view_module": "@jupyter-widgets/controls",
            "_view_module_version": "1.5.0",
            "_view_name": "HTMLView",
            "description": "",
            "description_tooltip": null,
            "layout": "IPY_MODEL_4a07705f960f40819365604fa65813cc",
            "placeholder": "​",
            "style": "IPY_MODEL_12d3b8b3836a45c1a09c7156055346a0",
            "value": " 711k/711k [00:00&lt;00:00, 16.7MB/s]"
          }
        },
        "493d8b890ce249a0884dcbd81f9fdeb6": {
          "model_module": "@jupyter-widgets/base",
          "model_name": "LayoutModel",
          "model_module_version": "1.2.0",
          "state": {
            "_model_module": "@jupyter-widgets/base",
            "_model_module_version": "1.2.0",
            "_model_name": "LayoutModel",
            "_view_count": null,
            "_view_module": "@jupyter-widgets/base",
            "_view_module_version": "1.2.0",
            "_view_name": "LayoutView",
            "align_content": null,
            "align_items": null,
            "align_self": null,
            "border": null,
            "bottom": null,
            "display": null,
            "flex": null,
            "flex_flow": null,
            "grid_area": null,
            "grid_auto_columns": null,
            "grid_auto_flow": null,
            "grid_auto_rows": null,
            "grid_column": null,
            "grid_gap": null,
            "grid_row": null,
            "grid_template_areas": null,
            "grid_template_columns": null,
            "grid_template_rows": null,
            "height": null,
            "justify_content": null,
            "justify_items": null,
            "left": null,
            "margin": null,
            "max_height": null,
            "max_width": null,
            "min_height": null,
            "min_width": null,
            "object_fit": null,
            "object_position": null,
            "order": null,
            "overflow": null,
            "overflow_x": null,
            "overflow_y": null,
            "padding": null,
            "right": null,
            "top": null,
            "visibility": null,
            "width": null
          }
        },
        "5d3d180f2edc4b278bfcca0e0398c222": {
          "model_module": "@jupyter-widgets/base",
          "model_name": "LayoutModel",
          "model_module_version": "1.2.0",
          "state": {
            "_model_module": "@jupyter-widgets/base",
            "_model_module_version": "1.2.0",
            "_model_name": "LayoutModel",
            "_view_count": null,
            "_view_module": "@jupyter-widgets/base",
            "_view_module_version": "1.2.0",
            "_view_name": "LayoutView",
            "align_content": null,
            "align_items": null,
            "align_self": null,
            "border": null,
            "bottom": null,
            "display": null,
            "flex": null,
            "flex_flow": null,
            "grid_area": null,
            "grid_auto_columns": null,
            "grid_auto_flow": null,
            "grid_auto_rows": null,
            "grid_column": null,
            "grid_gap": null,
            "grid_row": null,
            "grid_template_areas": null,
            "grid_template_columns": null,
            "grid_template_rows": null,
            "height": null,
            "justify_content": null,
            "justify_items": null,
            "left": null,
            "margin": null,
            "max_height": null,
            "max_width": null,
            "min_height": null,
            "min_width": null,
            "object_fit": null,
            "object_position": null,
            "order": null,
            "overflow": null,
            "overflow_x": null,
            "overflow_y": null,
            "padding": null,
            "right": null,
            "top": null,
            "visibility": null,
            "width": null
          }
        },
        "a3f87251ca6b4d7a8e1ea358bab491b4": {
          "model_module": "@jupyter-widgets/controls",
          "model_name": "DescriptionStyleModel",
          "model_module_version": "1.5.0",
          "state": {
            "_model_module": "@jupyter-widgets/controls",
            "_model_module_version": "1.5.0",
            "_model_name": "DescriptionStyleModel",
            "_view_count": null,
            "_view_module": "@jupyter-widgets/base",
            "_view_module_version": "1.2.0",
            "_view_name": "StyleView",
            "description_width": ""
          }
        },
        "7909b8f7ceec4e21a5eaf350103fdd84": {
          "model_module": "@jupyter-widgets/base",
          "model_name": "LayoutModel",
          "model_module_version": "1.2.0",
          "state": {
            "_model_module": "@jupyter-widgets/base",
            "_model_module_version": "1.2.0",
            "_model_name": "LayoutModel",
            "_view_count": null,
            "_view_module": "@jupyter-widgets/base",
            "_view_module_version": "1.2.0",
            "_view_name": "LayoutView",
            "align_content": null,
            "align_items": null,
            "align_self": null,
            "border": null,
            "bottom": null,
            "display": null,
            "flex": null,
            "flex_flow": null,
            "grid_area": null,
            "grid_auto_columns": null,
            "grid_auto_flow": null,
            "grid_auto_rows": null,
            "grid_column": null,
            "grid_gap": null,
            "grid_row": null,
            "grid_template_areas": null,
            "grid_template_columns": null,
            "grid_template_rows": null,
            "height": null,
            "justify_content": null,
            "justify_items": null,
            "left": null,
            "margin": null,
            "max_height": null,
            "max_width": null,
            "min_height": null,
            "min_width": null,
            "object_fit": null,
            "object_position": null,
            "order": null,
            "overflow": null,
            "overflow_x": null,
            "overflow_y": null,
            "padding": null,
            "right": null,
            "top": null,
            "visibility": null,
            "width": null
          }
        },
        "eb6df97079da46cd8ccbbc40ae3dd001": {
          "model_module": "@jupyter-widgets/controls",
          "model_name": "ProgressStyleModel",
          "model_module_version": "1.5.0",
          "state": {
            "_model_module": "@jupyter-widgets/controls",
            "_model_module_version": "1.5.0",
            "_model_name": "ProgressStyleModel",
            "_view_count": null,
            "_view_module": "@jupyter-widgets/base",
            "_view_module_version": "1.2.0",
            "_view_name": "StyleView",
            "bar_color": null,
            "description_width": ""
          }
        },
        "4a07705f960f40819365604fa65813cc": {
          "model_module": "@jupyter-widgets/base",
          "model_name": "LayoutModel",
          "model_module_version": "1.2.0",
          "state": {
            "_model_module": "@jupyter-widgets/base",
            "_model_module_version": "1.2.0",
            "_model_name": "LayoutModel",
            "_view_count": null,
            "_view_module": "@jupyter-widgets/base",
            "_view_module_version": "1.2.0",
            "_view_name": "LayoutView",
            "align_content": null,
            "align_items": null,
            "align_self": null,
            "border": null,
            "bottom": null,
            "display": null,
            "flex": null,
            "flex_flow": null,
            "grid_area": null,
            "grid_auto_columns": null,
            "grid_auto_flow": null,
            "grid_auto_rows": null,
            "grid_column": null,
            "grid_gap": null,
            "grid_row": null,
            "grid_template_areas": null,
            "grid_template_columns": null,
            "grid_template_rows": null,
            "height": null,
            "justify_content": null,
            "justify_items": null,
            "left": null,
            "margin": null,
            "max_height": null,
            "max_width": null,
            "min_height": null,
            "min_width": null,
            "object_fit": null,
            "object_position": null,
            "order": null,
            "overflow": null,
            "overflow_x": null,
            "overflow_y": null,
            "padding": null,
            "right": null,
            "top": null,
            "visibility": null,
            "width": null
          }
        },
        "12d3b8b3836a45c1a09c7156055346a0": {
          "model_module": "@jupyter-widgets/controls",
          "model_name": "DescriptionStyleModel",
          "model_module_version": "1.5.0",
          "state": {
            "_model_module": "@jupyter-widgets/controls",
            "_model_module_version": "1.5.0",
            "_model_name": "DescriptionStyleModel",
            "_view_count": null,
            "_view_module": "@jupyter-widgets/base",
            "_view_module_version": "1.2.0",
            "_view_name": "StyleView",
            "description_width": ""
          }
        },
        "bd74caea50404b98a25e739e35971e4a": {
          "model_module": "@jupyter-widgets/controls",
          "model_name": "HBoxModel",
          "model_module_version": "1.5.0",
          "state": {
            "_dom_classes": [],
            "_model_module": "@jupyter-widgets/controls",
            "_model_module_version": "1.5.0",
            "_model_name": "HBoxModel",
            "_view_count": null,
            "_view_module": "@jupyter-widgets/controls",
            "_view_module_version": "1.5.0",
            "_view_name": "HBoxView",
            "box_style": "",
            "children": [
              "IPY_MODEL_277532ff90a14b808f8c71bc3c70a4c4",
              "IPY_MODEL_18fbf92b9ae548debb91a1aa75dc11f3",
              "IPY_MODEL_6099c43305fe40b78a0f86e5a6433e62"
            ],
            "layout": "IPY_MODEL_53bf1139b286478f827959be8775c395"
          }
        },
        "277532ff90a14b808f8c71bc3c70a4c4": {
          "model_module": "@jupyter-widgets/controls",
          "model_name": "HTMLModel",
          "model_module_version": "1.5.0",
          "state": {
            "_dom_classes": [],
            "_model_module": "@jupyter-widgets/controls",
            "_model_module_version": "1.5.0",
            "_model_name": "HTMLModel",
            "_view_count": null,
            "_view_module": "@jupyter-widgets/controls",
            "_view_module_version": "1.5.0",
            "_view_name": "HTMLView",
            "description": "",
            "description_tooltip": null,
            "layout": "IPY_MODEL_49f4a435e133455b9b806088957d9410",
            "placeholder": "​",
            "style": "IPY_MODEL_52d631bb420644a2ac90290d98b6c0be",
            "value": "special_tokens_map.json: 100%"
          }
        },
        "18fbf92b9ae548debb91a1aa75dc11f3": {
          "model_module": "@jupyter-widgets/controls",
          "model_name": "FloatProgressModel",
          "model_module_version": "1.5.0",
          "state": {
            "_dom_classes": [],
            "_model_module": "@jupyter-widgets/controls",
            "_model_module_version": "1.5.0",
            "_model_name": "FloatProgressModel",
            "_view_count": null,
            "_view_module": "@jupyter-widgets/controls",
            "_view_module_version": "1.5.0",
            "_view_name": "ProgressView",
            "bar_style": "success",
            "description": "",
            "description_tooltip": null,
            "layout": "IPY_MODEL_449fb0745a414cfe9069bb67fb064558",
            "max": 125,
            "min": 0,
            "orientation": "horizontal",
            "style": "IPY_MODEL_ec2ec50d40194a4581442d42515f36e7",
            "value": 125
          }
        },
        "6099c43305fe40b78a0f86e5a6433e62": {
          "model_module": "@jupyter-widgets/controls",
          "model_name": "HTMLModel",
          "model_module_version": "1.5.0",
          "state": {
            "_dom_classes": [],
            "_model_module": "@jupyter-widgets/controls",
            "_model_module_version": "1.5.0",
            "_model_name": "HTMLModel",
            "_view_count": null,
            "_view_module": "@jupyter-widgets/controls",
            "_view_module_version": "1.5.0",
            "_view_name": "HTMLView",
            "description": "",
            "description_tooltip": null,
            "layout": "IPY_MODEL_0c3e608d532d41b09e16ad5c5ce969a7",
            "placeholder": "​",
            "style": "IPY_MODEL_176df87f0da142c0b862dffdb3c15dc0",
            "value": " 125/125 [00:00&lt;00:00, 4.61kB/s]"
          }
        },
        "53bf1139b286478f827959be8775c395": {
          "model_module": "@jupyter-widgets/base",
          "model_name": "LayoutModel",
          "model_module_version": "1.2.0",
          "state": {
            "_model_module": "@jupyter-widgets/base",
            "_model_module_version": "1.2.0",
            "_model_name": "LayoutModel",
            "_view_count": null,
            "_view_module": "@jupyter-widgets/base",
            "_view_module_version": "1.2.0",
            "_view_name": "LayoutView",
            "align_content": null,
            "align_items": null,
            "align_self": null,
            "border": null,
            "bottom": null,
            "display": null,
            "flex": null,
            "flex_flow": null,
            "grid_area": null,
            "grid_auto_columns": null,
            "grid_auto_flow": null,
            "grid_auto_rows": null,
            "grid_column": null,
            "grid_gap": null,
            "grid_row": null,
            "grid_template_areas": null,
            "grid_template_columns": null,
            "grid_template_rows": null,
            "height": null,
            "justify_content": null,
            "justify_items": null,
            "left": null,
            "margin": null,
            "max_height": null,
            "max_width": null,
            "min_height": null,
            "min_width": null,
            "object_fit": null,
            "object_position": null,
            "order": null,
            "overflow": null,
            "overflow_x": null,
            "overflow_y": null,
            "padding": null,
            "right": null,
            "top": null,
            "visibility": null,
            "width": null
          }
        },
        "49f4a435e133455b9b806088957d9410": {
          "model_module": "@jupyter-widgets/base",
          "model_name": "LayoutModel",
          "model_module_version": "1.2.0",
          "state": {
            "_model_module": "@jupyter-widgets/base",
            "_model_module_version": "1.2.0",
            "_model_name": "LayoutModel",
            "_view_count": null,
            "_view_module": "@jupyter-widgets/base",
            "_view_module_version": "1.2.0",
            "_view_name": "LayoutView",
            "align_content": null,
            "align_items": null,
            "align_self": null,
            "border": null,
            "bottom": null,
            "display": null,
            "flex": null,
            "flex_flow": null,
            "grid_area": null,
            "grid_auto_columns": null,
            "grid_auto_flow": null,
            "grid_auto_rows": null,
            "grid_column": null,
            "grid_gap": null,
            "grid_row": null,
            "grid_template_areas": null,
            "grid_template_columns": null,
            "grid_template_rows": null,
            "height": null,
            "justify_content": null,
            "justify_items": null,
            "left": null,
            "margin": null,
            "max_height": null,
            "max_width": null,
            "min_height": null,
            "min_width": null,
            "object_fit": null,
            "object_position": null,
            "order": null,
            "overflow": null,
            "overflow_x": null,
            "overflow_y": null,
            "padding": null,
            "right": null,
            "top": null,
            "visibility": null,
            "width": null
          }
        },
        "52d631bb420644a2ac90290d98b6c0be": {
          "model_module": "@jupyter-widgets/controls",
          "model_name": "DescriptionStyleModel",
          "model_module_version": "1.5.0",
          "state": {
            "_model_module": "@jupyter-widgets/controls",
            "_model_module_version": "1.5.0",
            "_model_name": "DescriptionStyleModel",
            "_view_count": null,
            "_view_module": "@jupyter-widgets/base",
            "_view_module_version": "1.2.0",
            "_view_name": "StyleView",
            "description_width": ""
          }
        },
        "449fb0745a414cfe9069bb67fb064558": {
          "model_module": "@jupyter-widgets/base",
          "model_name": "LayoutModel",
          "model_module_version": "1.2.0",
          "state": {
            "_model_module": "@jupyter-widgets/base",
            "_model_module_version": "1.2.0",
            "_model_name": "LayoutModel",
            "_view_count": null,
            "_view_module": "@jupyter-widgets/base",
            "_view_module_version": "1.2.0",
            "_view_name": "LayoutView",
            "align_content": null,
            "align_items": null,
            "align_self": null,
            "border": null,
            "bottom": null,
            "display": null,
            "flex": null,
            "flex_flow": null,
            "grid_area": null,
            "grid_auto_columns": null,
            "grid_auto_flow": null,
            "grid_auto_rows": null,
            "grid_column": null,
            "grid_gap": null,
            "grid_row": null,
            "grid_template_areas": null,
            "grid_template_columns": null,
            "grid_template_rows": null,
            "height": null,
            "justify_content": null,
            "justify_items": null,
            "left": null,
            "margin": null,
            "max_height": null,
            "max_width": null,
            "min_height": null,
            "min_width": null,
            "object_fit": null,
            "object_position": null,
            "order": null,
            "overflow": null,
            "overflow_x": null,
            "overflow_y": null,
            "padding": null,
            "right": null,
            "top": null,
            "visibility": null,
            "width": null
          }
        },
        "ec2ec50d40194a4581442d42515f36e7": {
          "model_module": "@jupyter-widgets/controls",
          "model_name": "ProgressStyleModel",
          "model_module_version": "1.5.0",
          "state": {
            "_model_module": "@jupyter-widgets/controls",
            "_model_module_version": "1.5.0",
            "_model_name": "ProgressStyleModel",
            "_view_count": null,
            "_view_module": "@jupyter-widgets/base",
            "_view_module_version": "1.2.0",
            "_view_name": "StyleView",
            "bar_color": null,
            "description_width": ""
          }
        },
        "0c3e608d532d41b09e16ad5c5ce969a7": {
          "model_module": "@jupyter-widgets/base",
          "model_name": "LayoutModel",
          "model_module_version": "1.2.0",
          "state": {
            "_model_module": "@jupyter-widgets/base",
            "_model_module_version": "1.2.0",
            "_model_name": "LayoutModel",
            "_view_count": null,
            "_view_module": "@jupyter-widgets/base",
            "_view_module_version": "1.2.0",
            "_view_name": "LayoutView",
            "align_content": null,
            "align_items": null,
            "align_self": null,
            "border": null,
            "bottom": null,
            "display": null,
            "flex": null,
            "flex_flow": null,
            "grid_area": null,
            "grid_auto_columns": null,
            "grid_auto_flow": null,
            "grid_auto_rows": null,
            "grid_column": null,
            "grid_gap": null,
            "grid_row": null,
            "grid_template_areas": null,
            "grid_template_columns": null,
            "grid_template_rows": null,
            "height": null,
            "justify_content": null,
            "justify_items": null,
            "left": null,
            "margin": null,
            "max_height": null,
            "max_width": null,
            "min_height": null,
            "min_width": null,
            "object_fit": null,
            "object_position": null,
            "order": null,
            "overflow": null,
            "overflow_x": null,
            "overflow_y": null,
            "padding": null,
            "right": null,
            "top": null,
            "visibility": null,
            "width": null
          }
        },
        "176df87f0da142c0b862dffdb3c15dc0": {
          "model_module": "@jupyter-widgets/controls",
          "model_name": "DescriptionStyleModel",
          "model_module_version": "1.5.0",
          "state": {
            "_model_module": "@jupyter-widgets/controls",
            "_model_module_version": "1.5.0",
            "_model_name": "DescriptionStyleModel",
            "_view_count": null,
            "_view_module": "@jupyter-widgets/base",
            "_view_module_version": "1.2.0",
            "_view_name": "StyleView",
            "description_width": ""
          }
        }
      }
    }
  },
  "nbformat": 4,
  "nbformat_minor": 0
}